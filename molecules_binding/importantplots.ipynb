{
 "cells": [
  {
   "cell_type": "code",
   "execution_count": 10,
   "metadata": {},
   "outputs": [],
   "source": [
    "from parsers_interaction import *\n",
    "from rdkit import Chem\n",
    "import torch\n",
    "import matplotlib.pyplot as plt"
   ]
  },
  {
   "cell_type": "code",
   "execution_count": 11,
   "metadata": {},
   "outputs": [],
   "source": [
    "path_ligand = \"../../dataset2016/10gs/10gs_ligand.mol2\"\n",
    "path_protein = \"../../dataset2016/10gs/10gs_pocket.pdb\""
   ]
  },
  {
   "cell_type": "code",
   "execution_count": 12,
   "metadata": {},
   "outputs": [],
   "source": [
    "import os\n",
    "def read_dataset(directory, ligand_file_extention, protein_file_extention):\n",
    "    '''\n",
    "    from directory returns a list of pdb_id, path to protein, path to ligand\n",
    "    The directory contains compound folders (each has an ID with 4 letters,\n",
    "    ex. abcd) with 4 files:\n",
    "    - abcd_protein.pdb\n",
    "    - abcd_pocket.pdb\n",
    "    - abcd_ligand.sdf\n",
    "    - abcd_ligand.mol2\n",
    "    '''\n",
    "    assert ligand_file_extention in ('sdf', 'mol2')\n",
    "    assert protein_file_extention in ('protein', 'pocket', 'processed')\n",
    "    molecules_files = []\n",
    "    for folder_name in os.listdir(directory):\n",
    "        if len(folder_name) == 4:\n",
    "            folder_dir = os.path.join(directory, folder_name)\n",
    "            files = os.listdir(folder_dir)\n",
    "            compound_id = folder_name\n",
    "\n",
    "            for file in files:\n",
    "                if file.endswith(protein_file_extention + '.pdb'):\n",
    "                    file_protein = file\n",
    "                elif file.endswith('ligand.' + ligand_file_extention):\n",
    "                    file_ligand = file\n",
    "            # only add molecule if affinity is not uncertain\n",
    "            molecules_files += [\n",
    "                (compound_id, os.path.join(folder_dir, file_protein),\n",
    "                    os.path.join(folder_dir,\n",
    "                                file_ligand))\n",
    "            ]\n",
    "    return molecules_files"
   ]
  },
  {
   "cell_type": "code",
   "execution_count": 13,
   "metadata": {},
   "outputs": [
    {
     "ename": "KeyboardInterrupt",
     "evalue": "",
     "output_type": "error",
     "traceback": [
      "\u001b[0;31m---------------------------------------------------------------------------\u001b[0m",
      "\u001b[0;31mKeyboardInterrupt\u001b[0m                         Traceback (most recent call last)",
      "Cell \u001b[0;32mIn[13], line 1\u001b[0m\n\u001b[0;32m----> 1\u001b[0m pdb_files \u001b[39m=\u001b[39m read_dataset(\u001b[39m\"\u001b[39;49m\u001b[39m../../dataset2016\u001b[39;49m\u001b[39m\"\u001b[39;49m, \u001b[39m\"\u001b[39;49m\u001b[39mmol2\u001b[39;49m\u001b[39m\"\u001b[39;49m, \u001b[39m\"\u001b[39;49m\u001b[39mpocket\u001b[39;49m\u001b[39m\"\u001b[39;49m)\n",
      "Cell \u001b[0;32mIn[12], line 18\u001b[0m, in \u001b[0;36mread_dataset\u001b[0;34m(directory, ligand_file_extention, protein_file_extention)\u001b[0m\n\u001b[1;32m     16\u001b[0m \u001b[39mif\u001b[39;00m \u001b[39mlen\u001b[39m(folder_name) \u001b[39m==\u001b[39m \u001b[39m4\u001b[39m:\n\u001b[1;32m     17\u001b[0m     folder_dir \u001b[39m=\u001b[39m os\u001b[39m.\u001b[39mpath\u001b[39m.\u001b[39mjoin(directory, folder_name)\n\u001b[0;32m---> 18\u001b[0m     files \u001b[39m=\u001b[39m os\u001b[39m.\u001b[39;49mlistdir(folder_dir)\n\u001b[1;32m     19\u001b[0m     compound_id \u001b[39m=\u001b[39m folder_name\n\u001b[1;32m     21\u001b[0m     \u001b[39mfor\u001b[39;00m file \u001b[39min\u001b[39;00m files:\n",
      "\u001b[0;31mKeyboardInterrupt\u001b[0m: "
     ]
    }
   ],
   "source": [
    "pdb_files = read_dataset(\"../../dataset2016\", \"mol2\", \"pocket\")"
   ]
  },
  {
   "cell_type": "code",
   "execution_count": null,
   "metadata": {},
   "outputs": [
    {
     "data": {
      "text/plain": [
       "13282"
      ]
     },
     "execution_count": 6,
     "metadata": {},
     "output_type": "execute_result"
    }
   ],
   "source": [
    "len(pdb_files)"
   ]
  },
  {
   "cell_type": "code",
   "execution_count": null,
   "metadata": {},
   "outputs": [
    {
     "name": "stderr",
     "output_type": "stream",
     "text": [
      "[22:24:08] sanitise [22:24:08] 4iu4_ligand: [22:24:26] Explicit valence for atom # 8 C, 5, is greater than permitted\n",
      "[22:24:26] sanitise [22:24:26] 4iu4_ligand: [22:24:26] Explicit valence for atom # 1 C, 5, is greater than permitted\n",
      "[22:24:26] sanitise [22:24:26] 3fy0_ligand: [22:24:27] Explicit valence for atom # 3 C, 5, is greater than permitted\n",
      "[22:24:27] sanitise [22:24:27] 4ob1_ligand: [22:24:27] 6rsa_ligand: Warning - no explicit hydrogens in mol2 file but needed for formal charge estimation.\n",
      "[22:24:27] Unusual charge on atom 20 number of radical electrons set to zero\n",
      "[22:24:27] Explicit valence for atom # 2 C, 5, is greater than permitted\n",
      "[22:24:27] sanitise [22:24:27] 4rlp_ligand: [22:24:27] Can't kekulize mol.  Unkekulized atoms: 33 34 35 37 38\n",
      "[22:24:27] sanitise [22:24:27] 3v9b_ligand: [22:24:27] Unusual charge on atom 41 number of radical electrons set to zero\n",
      "[22:24:27] Explicit valence for atom # 169 O, 3, is greater than permitted\n",
      "[22:24:27] Explicit valence for atom # 18 C, 5, is greater than permitted\n",
      "[22:24:27] sanitise [22:24:27] 3whw_ligand: [22:24:27] 1ao8_ligand: warning - charged amidine and isFixed atom.\n",
      "[22:24:28] 3mof_ligand: Warning - no explicit hydrogens in mol2 file but needed for formal charge estimation.\n",
      "[22:24:28] 1t5a_ligand: Warning - no explicit hydrogens in mol2 file but needed for formal charge estimation.\n",
      "[22:24:28] Explicit valence for atom # 25 C, 5, is greater than permitted\n",
      "[22:24:28] sanitise [22:24:28] 3cst_ligand: [22:24:28] Explicit valence for atom # 3 C, 5, is greater than permitted\n",
      "[22:24:28] sanitise [22:24:28] 4wkt_ligand: [22:24:29] Can't kekulize mol.  Unkekulized atoms: 10 11 12 13 14\n",
      "[22:24:29] sanitise [22:24:29] 4l6q_ligand: [22:24:29] Explicit valence for atom # 64 O, 3, is greater than permitted\n",
      "[22:24:29] Explicit valence for atom # 3 C, 5, is greater than permitted\n",
      "[22:24:29] sanitise [22:24:29] 4wku_ligand: [22:24:29] Explicit valence for atom # 291 O, 3, is greater than permitted\n",
      "[22:24:29] Can't kekulize mol.  Unkekulized atoms: 15 17 18 19 20\n",
      "[22:24:29] sanitise [22:24:29] 3zju_ligand: [22:24:30] Warning - O.co2 with degree >1.\n",
      "[22:24:30] Can't kekulize mol.  Unkekulized atoms: 0 3 4 6 7 8 9 10 11\n",
      "[22:24:30] sanitise [22:24:30] 3lp1_ligand: [22:24:31] Unusual charge on atom 30 number of radical electrons set to zero\n",
      "[22:24:31] 2it4_ligand: Warning - no explicit hydrogens in mol2 file but needed for formal charge estimation.\n",
      "[22:24:32] Explicit valence for atom # 9 C, 5, is greater than permitted\n",
      "[22:24:32] sanitise [22:24:32] 4hxq_ligand: [22:24:32] Can't kekulize mol.  Unkekulized atoms: 0 2 3 4 5\n",
      "[22:24:32] sanitise [22:24:32] 1mue_ligand: [22:24:32] Explicit valence for atom # 345 O, 3, is greater than permitted\n",
      "[22:24:32] 1epq_ligand: warning - O.co2 with non C.2 or S.o2 neighbor.\n",
      "[22:24:33] 3tvl_ligand: Warning - no explicit hydrogens in mol2 file but needed for formal charge estimation.\n",
      "[22:24:33] Explicit valence for atom # 9 C, 5, is greater than permitted\n",
      "[22:24:33] sanitise [22:24:33] 1a7x_ligand: [22:24:33] Explicit valence for atom # 225 O, 3, is greater than permitted\n",
      "[22:24:33] Explicit valence for atom # 202 O, 3, is greater than permitted\n",
      "[22:24:34] Unusual charge on atom 13 number of radical electrons set to zero\n",
      "[22:24:34] 1bq4_ligand: Warning - no explicit hydrogens in mol2 file but needed for formal charge estimation.\n",
      "[22:24:34] Can't kekulize mol.  Unkekulized atoms: 4 5 6 7 8 9 14 15 16 17 18 19 20 21 22 23 24\n",
      "[22:24:34] sanitise [22:24:34] 3kck_ligand: [22:24:34] Unusual charge on atom 33 number of radical electrons set to zero\n",
      "[22:24:35] Explicit valence for atom # 103 O, 3, is greater than permitted\n",
      "[22:24:35] WARNING: could not find number of expected rings. Switching to an approximate ring finding algorithm.\n",
      "[22:24:35] Explicit valence for atom # 1 C, 6, is greater than permitted\n",
      "[22:24:35] sanitise [22:24:35] 3vjs_ligand: [22:24:36] Explicit valence for atom # 198 O, 4, is greater than permitted\n",
      "[22:24:36] Can't kekulize mol.  Unkekulized atoms: 4 5 6 7 8\n",
      "[22:24:36] sanitise [22:24:36] 3wax_ligand: [22:24:36] Explicit valence for atom # 362 O, 3, is greater than permitted\n",
      "[22:24:36] Explicit valence for atom # 52 C, 5, is greater than permitted\n",
      "[22:24:36] sanitise [22:24:36] 3egk_ligand: [22:24:37] Explicit valence for atom # 8 C, 5, is greater than permitted\n",
      "[22:24:37] sanitise [22:24:37] 4ie3_ligand: [22:24:37] Can't kekulize mol.  Unkekulized atoms: 0 26\n",
      "[22:24:37] sanitise [22:24:37] 2q2n_ligand: [22:24:37] Explicit valence for atom # 8 C, 5, is greater than permitted\n",
      "[22:24:37] sanitise [22:24:37] 3e6k_ligand: [22:24:37] WARNING: could not find number of expected rings. Switching to an approximate ring finding algorithm.\n",
      "[22:24:37] Explicit valence for atom # 1 C, 6, is greater than permitted\n",
      "[22:24:37] sanitise [22:24:37] 3vjt_ligand: [22:24:38] Explicit valence for atom # 284 O, 3, is greater than permitted\n",
      "[22:24:38] Explicit valence for atom # 179 O, 3, is greater than permitted\n",
      "[22:24:38] WARNING: not removing hydrogen atom with neighbor that has non-tetrahedral stereochemistry\n",
      "[22:24:38] WARNING: not removing hydrogen atom with neighbor that has non-tetrahedral stereochemistry\n",
      "[22:24:38] Explicit valence for atom # 26 C, 5, is greater than permitted\n",
      "[22:24:38] sanitise [22:24:38] 2aoh_ligand: [22:24:39] Explicit valence for atom # 12 C, 5, is greater than permitted\n",
      "[22:24:39] sanitise [22:24:39] 3fxz_ligand: [22:24:39] Explicit valence for atom # 160 O, 3, is greater than permitted\n",
      "[22:24:40] Unusual charge on atom 25 number of radical electrons set to zero\n",
      "[22:24:41] Warning - O.co2 with degree >1.\n",
      "[22:24:41] Unusual charge on atom 25 number of radical electrons set to zero\n",
      "[22:24:42] Can't kekulize mol.  Unkekulized atoms: 0 1 2 3 5\n",
      "[22:24:42] sanitise [22:24:42] 1ksn_ligand: [22:24:42] Can't kekulize mol.  Unkekulized atoms: 2 4 6 7 8 9 10 11 12\n",
      "[22:24:42] sanitise [22:24:42] 4kw6_ligand: [22:24:42] Explicit valence for atom # 11 C, 5, is greater than permitted\n",
      "[22:24:42] sanitise [22:24:42] 3bwf_ligand: [22:24:42] 1o4n_ligand: Warning - no explicit hydrogens in mol2 file but needed for formal charge estimation.\n",
      "[22:24:42] Can't kekulize mol.  Unkekulized atoms: 3 4 5 6 8\n",
      "[22:24:42] sanitise [22:24:42] 4ob0_ligand: [22:24:42] Explicit valence for atom # 515 C, 6, is greater than permitted\n",
      "[22:24:43] 1nki_ligand: Warning - no explicit hydrogens in mol2 file but needed for formal charge estimation.\n",
      "[22:24:43] Explicit valence for atom # 8 C, 5, is greater than permitted\n",
      "[22:24:43] sanitise [22:24:43] 2pll_ligand: [22:24:43] Explicit valence for atom # 26 C, 5, is greater than permitted\n",
      "[22:24:43] sanitise [22:24:43] 4no1_ligand: [22:24:43] Can't kekulize mol.  Unkekulized atoms: 0 1 3 4 5 6 8 9 10\n",
      "[22:24:43] sanitise [22:24:43] 3lp2_ligand: [22:24:43] Explicit valence for atom # 342 O, 3, is greater than permitted\n",
      "[22:24:44] Can't kekulize mol.  Unkekulized atoms: 0 2 3 6 7 8 9 10 11\n",
      "[22:24:44] sanitise [22:24:44] 2vr0_ligand: [22:24:44] Unusual charge on atom 25 number of radical electrons set to zero\n",
      "[22:24:44] Can't kekulize mol.  Unkekulized atoms: 35 36 37 38 39\n",
      "[22:24:44] sanitise [22:24:44] 4kb7_ligand: [22:24:44] Explicit valence for atom # 33 C, 5, is greater than permitted\n",
      "[22:24:44] WARNING: not removing hydrogen atom with neighbor that has non-tetrahedral stereochemistry\n",
      "[22:24:44] WARNING: not removing hydrogen atom with neighbor that has non-tetrahedral stereochemistry\n",
      "[22:24:44] 1w70_ligand: Warning - no explicit hydrogens in mol2 file but needed for formal charge estimation.\n",
      "[22:24:44] 2hwg_ligand: Warning - no explicit hydrogens in mol2 file but needed for formal charge estimation.\n",
      "[22:24:44] Unusual charge on atom 25 number of radical electrons set to zero\n",
      "[22:24:44] Can't kekulize mol.  Unkekulized atoms: 1 2 4 5 6\n",
      "[22:24:44] sanitise [22:24:44] 2wfg_ligand: [22:24:44] 2j7w_ligand: Warning - no explicit hydrogens in mol2 file but needed for formal charge estimation.\n",
      "[22:24:45] Explicit valence for atom # 12 C, 5, is greater than permitted\n",
      "[22:24:45] sanitise [22:24:45] 4ie2_ligand: [22:24:45] Explicit valence for atom # 12 C, 5, is greater than permitted\n",
      "[22:24:45] sanitise [22:24:45] 2ci9_ligand: [22:24:46] 2o1c_ligand: Warning - no explicit hydrogens in mol2 file but needed for formal charge estimation.\n",
      "[22:24:47] Explicit valence for atom # 374 C, 5, is greater than permitted\n",
      "[22:24:47] Explicit valence for atom # 8 C, 5, is greater than permitted\n",
      "[22:24:47] sanitise [22:24:47] 4iu0_ligand: [22:24:48] Can't kekulize mol.  Unkekulized atoms: 2 3 4 5 6\n",
      "[22:24:48] sanitise [22:24:48] 1hyz_ligand: [22:24:48] 2rk7_ligand: Warning - no explicit hydrogens in mol2 file but needed for formal charge estimation.\n",
      "[22:24:48] Explicit valence for atom # 2 O, 3, is greater than permitted\n",
      "[22:24:48] sanitise [22:24:48] 3bho_ligand_experimental: [22:24:49] 4u5t_ligand: Warning - no explicit hydrogens in mol2 file but needed for formal charge estimation.\n",
      "[22:24:49] Explicit valence for atom # 17 C, 5, is greater than permitted\n",
      "[22:24:49] sanitise [22:24:49] 2z3z_ligand: [22:24:50] Explicit valence for atom # 25 C, 5, is greater than permitted\n",
      "[22:24:50] sanitise [22:24:50] 4ixu_ligand: [22:24:50] Explicit valence for atom # 416 O, 3, is greater than permitted\n",
      "[22:24:50] Explicit valence for atom # 9 C, 5, is greater than permitted\n",
      "[22:24:50] sanitise [22:24:50] 4i06_ligand: [22:24:50] Can't kekulize mol.  Unkekulized atoms: 3 4 19 20 22\n",
      "[22:24:50] sanitise [22:24:50] 4kcx_ligand: [22:24:50] 2rk8_ligand: Warning - no explicit hydrogens in mol2 file but needed for formal charge estimation.\n",
      "[22:24:51] Explicit valence for atom # 31 O, 3, is greater than permitted\n",
      "[22:24:51] Explicit valence for atom # 6 C, 5, is greater than permitted\n",
      "[22:24:51] sanitise [22:24:51] 1qpf_ligand: [22:24:54] Warning - O.co2 with degree >1.\n",
      "[22:24:54] Explicit valence for atom # 17 C, 5, is greater than permitted\n",
      "[22:24:54] sanitise [22:24:54] 2eep_ligand: [22:24:55] Explicit valence for atom # 15 C, 5, is greater than permitted\n",
      "[22:24:55] sanitise [22:24:55] 4i60_ligand: [22:24:56] Explicit valence for atom # 3 C, 5, is greater than permitted\n",
      "[22:24:56] sanitise [22:24:56] 4lv1_ligand: [22:24:57] Explicit valence for atom # 8 C, 5, is greater than permitted\n",
      "[22:24:57] sanitise [22:24:57] 4hze_ligand: [22:24:57] Explicit valence for atom # 36 C, 5, is greater than permitted\n",
      "[22:24:57] sanitise [22:24:57] 3zp9_ligand: [22:24:58] Explicit valence for atom # 31 O, 3, is greater than permitted\n",
      "[22:24:58] Explicit valence for atom # 113 O, 3, is greater than permitted\n",
      "[22:24:59] Can't kekulize mol.  Unkekulized atoms: 6 7 10 11 38\n",
      "[22:24:59] sanitise [22:24:59] 4kai_ligand: [22:24:59] 3t01_ligand: Warning - no explicit hydrogens in mol2 file but needed for formal charge estimation.\n",
      "[22:24:59] Explicit valence for atom # 7 C, 5, is greater than permitted\n",
      "[22:24:59] sanitise [22:24:59] 4wkv_ligand: [22:25:00] Can't kekulize mol.  Unkekulized atoms: 14 16 17 18 19\n",
      "[22:25:00] sanitise [22:25:00] 3zjt_ligand: [22:25:00] Explicit valence for atom # 8 C, 5, is greater than permitted\n",
      "[22:25:00] sanitise [22:25:00] 4hww_ligand: [22:25:00] Explicit valence for atom # 22 C, 5, is greater than permitted\n",
      "[22:25:00] sanitise [22:25:00] 4ixv_ligand: [22:25:01] Explicit valence for atom # 34 C, 5, is greater than permitted\n",
      "[22:25:01] sanitise [22:25:01] 3eyd_ligand: [22:25:01] Explicit valence for atom # 51 O, 3, is greater than permitted\n",
      "[22:25:01] WARNING: not removing hydrogen atom with neighbor that has non-tetrahedral stereochemistry\n",
      "[22:25:01] WARNING: not removing hydrogen atom with neighbor that has non-tetrahedral stereochemistry\n",
      "[22:25:01] WARNING: not removing hydrogen atom with neighbor that has non-tetrahedral stereochemistry\n",
      "[22:25:01] WARNING: not removing hydrogen atom with neighbor that has non-tetrahedral stereochemistry\n",
      "[22:25:01] WARNING: not removing hydrogen atom with neighbor that has non-tetrahedral stereochemistry\n",
      "[22:25:01] Warning - O.co2 with degree >1.\n",
      "[22:25:02] Can't kekulize mol.  Unkekulized atoms: 0 1 3 4 5\n",
      "[22:25:02] sanitise [22:25:02] 1sl3_ligand: [22:25:02] Explicit valence for atom # 10 C, 5, is greater than permitted\n",
      "[22:25:02] sanitise [22:25:02] 1h07_ligand: [22:25:02] Explicit valence for atom # 8 C, 5, is greater than permitted\n",
      "[22:25:02] sanitise [22:25:02] 3e9b_ligand: [22:25:03] 4lil_ligand: Warning - no explicit hydrogens in mol2 file but needed for formal charge estimation.\n",
      "[22:25:03] Explicit valence for atom # 351 O, 3, is greater than permitted\n",
      "[22:25:03] Can't kekulize mol.  Unkekulized atoms: 31 32 33 34 35\n",
      "[22:25:03] sanitise [22:25:03] 2fm5_ligand: [22:25:04] Unusual charge on atom 22 number of radical electrons set to zero\n",
      "[22:25:04] 4ew3_ligand: warning - charged amidine and isFixed atom.\n",
      "[22:25:04] Explicit valence for atom # 3 C, 5, is greater than permitted\n",
      "[22:25:04] sanitise [22:25:04] 4ob2_ligand: [22:25:04] Can't kekulize mol.  Unkekulized atoms: 9 10 11 13 14 15 16 17 18\n",
      "[22:25:04] sanitise [22:25:04] 1nu1_ligand: [22:25:04] 3c14_ligand: Warning - no explicit hydrogens in mol2 file but needed for formal charge estimation.\n",
      "[22:25:04] Explicit valence for atom # 6 C, 5, is greater than permitted\n",
      "[22:25:04] sanitise [22:25:04] 4u0x_ligand: [22:25:04] 4ew2_ligand: warning - charged amidine and isFixed atom.\n",
      "[22:25:05] 2dua_ligand: Warning - no explicit hydrogens in mol2 file but needed for formal charge estimation.\n",
      "[22:25:05] Can't kekulize mol.  Unkekulized atoms: 12 13 14 20 22\n",
      "[22:25:05] sanitise [22:25:05] 4kbi_ligand: [22:25:07] Unusual charge on atom 25 number of radical electrons set to zero\n"
     ]
    }
   ],
   "source": [
    "atoms_ligand = {}\n",
    "atoms_protein = {}\n",
    "for pdb_id, path_protein, path_ligand in pdb_files:\n",
    "    ligand = Chem.MolFromMol2File(path_ligand, sanitize=True, removeHs=True)\n",
    "    protein = Chem.MolFromPDBFile(path_protein, flavor=True, sanitize=True, removeHs=True)\n",
    "    if ligand is not None and protein is not None:\n",
    "        for atom in ligand.GetAtoms():\n",
    "            atom_symbol = atom.GetSymbol()\n",
    "            if atom_symbol not in atoms_ligand:\n",
    "                atoms_ligand[atom_symbol] = 1\n",
    "            else:\n",
    "                atoms_ligand[atom_symbol] += 1\n",
    "        for atom in protein.GetAtoms():\n",
    "            atom_symbol = atom.GetSymbol()\n",
    "            if atom_symbol not in atoms_protein:\n",
    "                atoms_protein[atom_symbol] = 1\n",
    "            else:\n",
    "                atoms_protein[atom_symbol] += 1"
   ]
  },
  {
   "cell_type": "code",
   "execution_count": null,
   "metadata": {},
   "outputs": [
    {
     "name": "stdout",
     "output_type": "stream",
     "text": [
      "atoms_ligand:  {'O': 74931, 'C': 284248, 'N': 56909, 'S': 4408, 'Cl': 1855, 'Br': 405, 'F': 3241, 'P': 2581, 'B': 132, 'I': 156, 'V': 2, 'Fe': 16, 'Ru': 10, 'Mg': 1, 'Se': 5, 'Pt': 2, 'H': 9, 'Hg': 1, 'Re': 1, 'Sb': 1, 'Cu': 1, 'Si': 4, 'As': 2, 'Be': 1, 'Rh': 1}\n",
      "atoms_protein:  {'N': 858049, 'C': 3282702, 'O': 1134504, 'Zn': 1406, 'S': 30209, 'K': 16, 'Se': 132, 'Mg': 738, 'Ca': 336, 'Mn': 337, 'Fe': 80, 'Na': 107, 'Ni': 71, 'P': 76, 'Cu': 12, 'Co': 93, 'Cs': 1, 'Sr': 1, 'Cd': 29, 'Hg': 5, 'Ga': 1}\n"
     ]
    }
   ],
   "source": [
    "print(\"atoms_ligand: \", atoms_ligand)\n",
    "print(\"atoms_protein: \", atoms_protein)"
   ]
  },
  {
   "attachments": {},
   "cell_type": "markdown",
   "metadata": {},
   "source": [
    "## Affinity Plots"
   ]
  },
  {
   "cell_type": "code",
   "execution_count": null,
   "metadata": {},
   "outputs": [
    {
     "name": "stderr",
     "output_type": "stream",
     "text": [
      "/home/sofiaguerreiro/molecules-binding/.env/lib/python3.10/site-packages/tqdm/auto.py:21: TqdmWarning: IProgress not found. Please update jupyter and ipywidgets. See https://ipywidgets.readthedocs.io/en/stable/user_install.html\n",
      "  from .autonotebook import tqdm as notebook_tqdm\n"
     ]
    }
   ],
   "source": [
    "import torch"
   ]
  },
  {
   "cell_type": "code",
   "execution_count": null,
   "metadata": {},
   "outputs": [],
   "source": [
    "dataset = torch.load(\"../../datasetsprocessed/0908_interactionNet_8_2016_final_chemical_feat\")"
   ]
  },
  {
   "cell_type": "code",
   "execution_count": null,
   "metadata": {},
   "outputs": [
    {
     "data": {
      "text/plain": [
       "Data(x=[792, 59], y=[2], pos=[792, 3], edge_index_1=[2, 1520], edge_index_2=[2, 7612], edge_attr_1=[1520, 13], edge_attr_2=[7612, 10])"
      ]
     },
     "execution_count": 3,
     "metadata": {},
     "output_type": "execute_result"
    }
   ],
   "source": [
    "dataset[0]"
   ]
  },
  {
   "cell_type": "code",
   "execution_count": null,
   "metadata": {},
   "outputs": [],
   "source": [
    "# dataset = torch.load(\"../../datasetsprocessed/0908_interactionNet_8_2016_final_chemical_feat\")\n",
    "dataset = torch.load(\"../../datasetsprocessed/0908_interactionNet_8_2016_final_chemical_feat_core_set\")"
   ]
  },
  {
   "cell_type": "code",
   "execution_count": null,
   "metadata": {},
   "outputs": [],
   "source": [
    "list_of_affinities = []\n",
    "for graph in dataset:\n",
    "    # get affinity\n",
    "    affinity = graph.y[0]\n",
    "    list_of_affinities.append(float(affinity))"
   ]
  },
  {
   "cell_type": "code",
   "execution_count": null,
   "metadata": {},
   "outputs": [
    {
     "data": {
      "image/png": "[encoded data removed]",
      "text/plain": [
       "<Figure size 400x300 with 1 Axes>"
      ]
     },
     "metadata": {},
     "output_type": "display_data"
    }
   ],
   "source": [
    "plt.hist(list_of_affinities, bins=50, color='skyblue', edgecolor='black', alpha=0.7)\n",
    "plt.xlabel(\"pK value\")\n",
    "plt.ylabel(\"Frequency\")\n",
    "#plt.title(\"Histogram of -log(affinity) values\")\n",
    "# size\n",
    "plt.rcParams[\"figure.figsize\"] = (4, 3)\n",
    "\n",
    "plt.grid(axis='y', linestyle='--', alpha=0.6)\n",
    "\n",
    "plt.xticks(range(0, 15), labels=[f'{i}' for i in range(0, 15)])\n",
    "\n",
    "plt.legend(['PDBBind v.2016 core set'])\n",
    "\n",
    "plt.savefig('affinity_histogram.pdf', dpi=300, bbox_inches='tight')\n",
    "\n",
    "plt.show()\n"
   ]
  },
  {
   "attachments": {},
   "cell_type": "markdown",
   "metadata": {},
   "source": [
    "### Storing a pandas dataframe with the names of the complexes and which dataset they belong to"
   ]
  },
  {
   "cell_type": "code",
   "execution_count": null,
   "metadata": {},
   "outputs": [],
   "source": [
    "import os\n",
    "import pandas as pd\n",
    "\n",
    "pdb_ids_core = os.listdir(\"../../CASF2016/\")\n",
    "data_core = {\"pdb_id\": pdb_ids_core, \"dataset2016\": [\"core-set\"] * len(pdb_ids_core)}\n",
    "df1 = pd.DataFrame(data_core)\n",
    "df1.set_index(\"pdb_id\", inplace=True)\n",
    "\n",
    "pdb_ids_refined = os.listdir(\"../../dataset2016_complete/refined-set/\")\n",
    "pdb_ids_refined = [pdb_id for pdb_id in pdb_ids_refined if pdb_id not in pdb_ids_core]\n",
    "data_refined = {\"pdb_id\": pdb_ids_refined, \"dataset2016\": [\"refined-set\"] * len(pdb_ids_refined)}\n",
    "df2 = pd.DataFrame(data_refined)\n",
    "df2.set_index(\"pdb_id\", inplace=True)\n",
    "\n",
    "\n",
    "pdb_ids_general = os.listdir(\"../../dataset2016_complete/general-set-except-refined/\")\n",
    "data_general = {\"pdb_id\": pdb_ids_general, \"dataset2016\": [\"general-set-except-refined\"] * len(pdb_ids_general)}\n",
    "df3 = pd.DataFrame(data_general)\n",
    "df3.set_index(\"pdb_id\", inplace=True)\n",
    "\n",
    "# join dataframes\n",
    "df = pd.concat([df1, df2, df3], axis=0)\n",
    "# save dataframe\n",
    "df.to_csv(\"../../pdb_ids_dataset2016.csv\")"
   ]
  },
  {
   "cell_type": "code",
   "execution_count": null,
   "metadata": {},
   "outputs": [
    {
     "data": {
      "text/plain": [
       "dataset2016               \n",
       "general-set-except-refined    9226\n",
       "refined-set                   3772\n",
       "core-set                       285\n",
       "Name: count, dtype: int64"
      ]
     },
     "execution_count": 22,
     "metadata": {},
     "output_type": "execute_result"
    }
   ],
   "source": [
    "df.value_counts()"
   ]
  },
  {
   "attachments": {},
   "cell_type": "markdown",
   "metadata": {},
   "source": [
    "### Can we remove waters?"
   ]
  },
  {
   "cell_type": "code",
   "execution_count": null,
   "metadata": {},
   "outputs": [
    {
     "name": "stdout",
     "output_type": "stream",
     "text": [
      "atom_features:  42\n"
     ]
    }
   ],
   "source": [
    "from rdkit import Chem\n",
    "import numpy as np\n",
    "import torch\n",
    "(ligand_coord, atoms_ligand, edges_ligand, edges_length_ligand,\n",
    "             num_atoms_ligand) = molecule_info(\"../../dataset2016/1a9m/1a9m_ligand.mol2\", \"Ligand\", 0, False)"
   ]
  },
  {
   "cell_type": "code",
   "execution_count": null,
   "metadata": {},
   "outputs": [
    {
     "name": "stdout",
     "output_type": "stream",
     "text": [
      "439 is water\n",
      "440 is water\n",
      "441 is water\n",
      "442 is water\n",
      "443 is water\n",
      "444 is water\n",
      "445 is water\n",
      "446 is water\n",
      "447 is water\n",
      "448 is water\n",
      "449 is water\n",
      "450 is water\n",
      "atom_features:  439\n"
     ]
    }
   ],
   "source": [
    "(protein_coord, atoms_protein, edges_protein,\n",
    "                 edges_length_protein,\n",
    "                 num_atoms_protein) = molecule_info(\"../../dataset2016/1a9m/1a9m_pocket.pdb\", \"Protein\", 33, False)"
   ]
  },
  {
   "attachments": {},
   "cell_type": "markdown",
   "metadata": {},
   "source": [
    "### Create Refined Set 2016 from all complexes"
   ]
  },
  {
   "cell_type": "code",
   "execution_count": null,
   "metadata": {},
   "outputs": [],
   "source": [
    "import pandas as pd\n",
    "df = pd.read_csv(\"../../pdb_ids_dataset2016.csv\")"
   ]
  },
  {
   "cell_type": "code",
   "execution_count": null,
   "metadata": {},
   "outputs": [],
   "source": [
    "# make index be the pdb_id\n",
    "df.set_index(\"pdb_id\", inplace=True)"
   ]
  },
  {
   "cell_type": "code",
   "execution_count": null,
   "metadata": {},
   "outputs": [
    {
     "data": {
      "text/plain": [
       "dataset2016               \n",
       "general-set-except-refined    9226\n",
       "refined-set                   3772\n",
       "core-set                       285\n",
       "Name: count, dtype: int64"
      ]
     },
     "execution_count": 10,
     "metadata": {},
     "output_type": "execute_result"
    }
   ],
   "source": [
    "df.value_counts()"
   ]
  },
  {
   "cell_type": "code",
   "execution_count": null,
   "metadata": {},
   "outputs": [
    {
     "data": {
      "text/plain": [
       "'core-set'"
      ]
     },
     "execution_count": 8,
     "metadata": {},
     "output_type": "execute_result"
    }
   ],
   "source": [
    "# access row with pdb_id 4de3\n",
    "df[\"dataset2016\"].loc[\"4de3\"]"
   ]
  },
  {
   "cell_type": "code",
   "execution_count": null,
   "metadata": {},
   "outputs": [],
   "source": [
    "# list all pdb_ids in the core set or general-except-refined set\n",
    "core_set = df[df[\"dataset2016\"] == \"core-set\"].index.tolist()\n",
    "general_except_refined_set = df[df[\"dataset2016\"] == \"general-set-except-refined\"].index.tolist()"
   ]
  },
  {
   "cell_type": "code",
   "execution_count": null,
   "metadata": {},
   "outputs": [
    {
     "name": "stderr",
     "output_type": "stream",
     "text": [
      "/home/sofiaguerreiro/molecules-binding/.env/lib/python3.10/site-packages/tqdm/auto.py:21: TqdmWarning: IProgress not found. Please update jupyter and ipywidgets. See https://ipywidgets.readthedocs.io/en/stable/user_install.html\n",
      "  from .autonotebook import tqdm as notebook_tqdm\n",
      "/home/sofiaguerreiro/molecules-binding/.env/lib/python3.10/site-packages/torchmetrics/utilities/prints.py:43: UserWarning: Metric `SpearmanCorrcoef` will save all targets and predictions in the buffer. For large datasets, this may lead to large memory footprint.\n",
      "  warnings.warn(*args, **kwargs)  # noqa: B028\n"
     ]
    }
   ],
   "source": [
    "import torch\n",
    "dataset = torch.load(\"../../datasetsprocessed/0920_dataset2016\")"
   ]
  },
  {
   "cell_type": "code",
   "execution_count": null,
   "metadata": {},
   "outputs": [
    {
     "data": {
      "text/plain": [
       "GraphDataset(12830)"
      ]
     },
     "execution_count": 16,
     "metadata": {},
     "output_type": "execute_result"
    }
   ],
   "source": [
    "dataset"
   ]
  },
  {
   "cell_type": "code",
   "execution_count": null,
   "metadata": {},
   "outputs": [
    {
     "data": {
      "text/plain": [
       "GraphDataset(12545)"
      ]
     },
     "execution_count": 17,
     "metadata": {},
     "output_type": "execute_result"
    }
   ],
   "source": [
    "dataset.remove_graph_by_ids(core_set)\n",
    "dataset"
   ]
  },
  {
   "cell_type": "code",
   "execution_count": null,
   "metadata": {},
   "outputs": [],
   "source": [
    "dataset.remove_graph_by_ids(general_except_refined_set)"
   ]
  },
  {
   "cell_type": "code",
   "execution_count": null,
   "metadata": {},
   "outputs": [
    {
     "data": {
      "text/plain": [
       "GraphDataset(3745)"
      ]
     },
     "execution_count": 19,
     "metadata": {},
     "output_type": "execute_result"
    }
   ],
   "source": [
    "dataset"
   ]
  },
  {
   "cell_type": "code",
   "execution_count": null,
   "metadata": {},
   "outputs": [],
   "source": [
    "# save dataset\n",
    "torch.save(dataset, \"../../datasetsprocessed/0929_dataset2016_refined\")"
   ]
  },
  {
   "attachments": {},
   "cell_type": "markdown",
   "metadata": {},
   "source": [
    "### create different sets from 2020 all dataset"
   ]
  },
  {
   "cell_type": "code",
   "execution_count": null,
   "metadata": {},
   "outputs": [
    {
     "name": "stderr",
     "output_type": "stream",
     "text": [
      "/home/sofiaguerreiro/molecules-binding/.env/lib/python3.10/site-packages/tqdm/auto.py:21: TqdmWarning: IProgress not found. Please update jupyter and ipywidgets. See https://ipywidgets.readthedocs.io/en/stable/user_install.html\n",
      "  from .autonotebook import tqdm as notebook_tqdm\n"
     ]
    }
   ],
   "source": [
    "import torch"
   ]
  },
  {
   "cell_type": "code",
   "execution_count": null,
   "metadata": {},
   "outputs": [],
   "source": [
    "dataset = torch.load(\"../../datasetsprocessed/0915_pdbbind2020_joined_edges_all_dataset\")"
   ]
  },
  {
   "cell_type": "code",
   "execution_count": null,
   "metadata": {},
   "outputs": [],
   "source": [
    "import pandas as pd\n",
    "df = pd.read_csv(\"../../LP_PDBBind.csv\")"
   ]
  },
  {
   "cell_type": "code",
   "execution_count": null,
   "metadata": {},
   "outputs": [],
   "source": [
    "# change name of Unnamed: 0 to pdb_id\n",
    "df.rename(columns={\"Unnamed: 0\": \"pdb_id\"}, inplace=True)"
   ]
  },
  {
   "cell_type": "code",
   "execution_count": null,
   "metadata": {},
   "outputs": [],
   "source": [
    "# set pdb_id as index\n",
    "df.set_index(\"pdb_id\", inplace=True)"
   ]
  },
  {
   "cell_type": "code",
   "execution_count": null,
   "metadata": {},
   "outputs": [
    {
     "data": {
      "text/html": [
       "<div>\n",
       "<style scoped>\n",
       "    .dataframe tbody tr th:only-of-type {\n",
       "        vertical-align: middle;\n",
       "    }\n",
       "\n",
       "    .dataframe tbody tr th {\n",
       "        vertical-align: top;\n",
       "    }\n",
       "\n",
       "    .dataframe thead th {\n",
       "        text-align: right;\n",
       "    }\n",
       "</style>\n",
       "<table border=\"1\" class=\"dataframe\">\n",
       "  <thead>\n",
       "    <tr style=\"text-align: right;\">\n",
       "      <th></th>\n",
       "      <th>header</th>\n",
       "      <th>smiles</th>\n",
       "      <th>category</th>\n",
       "      <th>seq</th>\n",
       "      <th>resolution</th>\n",
       "      <th>date</th>\n",
       "      <th>type</th>\n",
       "      <th>new_split</th>\n",
       "      <th>CL1</th>\n",
       "      <th>CL2</th>\n",
       "      <th>CL3</th>\n",
       "      <th>remove_for_balancing_val</th>\n",
       "      <th>kd/ki</th>\n",
       "      <th>value</th>\n",
       "      <th>covalent</th>\n",
       "    </tr>\n",
       "    <tr>\n",
       "      <th>pdb_id</th>\n",
       "      <th></th>\n",
       "      <th></th>\n",
       "      <th></th>\n",
       "      <th></th>\n",
       "      <th></th>\n",
       "      <th></th>\n",
       "      <th></th>\n",
       "      <th></th>\n",
       "      <th></th>\n",
       "      <th></th>\n",
       "      <th></th>\n",
       "      <th></th>\n",
       "      <th></th>\n",
       "      <th></th>\n",
       "      <th></th>\n",
       "    </tr>\n",
       "  </thead>\n",
       "  <tbody>\n",
       "    <tr>\n",
       "      <th>6r8o</th>\n",
       "      <td>isomerase</td>\n",
       "      <td>CSc1ccccc1[C@H]1CCCN1C(=O)CNC(=O)NCc1ccc2c(c1)...</td>\n",
       "      <td>refined</td>\n",
       "      <td>GNPLVYLDVDANGKPLGRVVLELKADVVPKTAENFRALCTGEKGFG...</td>\n",
       "      <td>1.36</td>\n",
       "      <td>2019-11-27</td>\n",
       "      <td>isomerase</td>\n",
       "      <td>test</td>\n",
       "      <td>True</td>\n",
       "      <td>True</td>\n",
       "      <td>True</td>\n",
       "      <td>False</td>\n",
       "      <td>Kd=0.006uM</td>\n",
       "      <td>8.22</td>\n",
       "      <td>False</td>\n",
       "    </tr>\n",
       "    <tr>\n",
       "      <th>3fh7</th>\n",
       "      <td>hydrolase/hydrolase inhibitor</td>\n",
       "      <td>O=C([O-])CCC[N@H+]1CCC[C@H]1COc1ccc(Oc2ccc(Cl)...</td>\n",
       "      <td>refined</td>\n",
       "      <td>VDTCSLASPASVCRTKHLHLRCSVDFTRRTLTGTAALTVQSQEDNL...</td>\n",
       "      <td>2.05</td>\n",
       "      <td>2010-01-05</td>\n",
       "      <td>hydrolase</td>\n",
       "      <td>test</td>\n",
       "      <td>True</td>\n",
       "      <td>True</td>\n",
       "      <td>True</td>\n",
       "      <td>False</td>\n",
       "      <td>Kd=25nM</td>\n",
       "      <td>7.60</td>\n",
       "      <td>False</td>\n",
       "    </tr>\n",
       "    <tr>\n",
       "      <th>4b7r</th>\n",
       "      <td>hydrolase</td>\n",
       "      <td>CCC(CC)O[C@@H]1C[C@H](C(=O)[O-])C[C@H]([NH3+])...</td>\n",
       "      <td>refined</td>\n",
       "      <td>VKLAGNSSLCPVSGWAIYSKDNSVRIGSKGDVFVIREPFISCSPLE...</td>\n",
       "      <td>1.90</td>\n",
       "      <td>2012-10-03</td>\n",
       "      <td>hydrolase</td>\n",
       "      <td>NaN</td>\n",
       "      <td>True</td>\n",
       "      <td>True</td>\n",
       "      <td>True</td>\n",
       "      <td>False</td>\n",
       "      <td>Ki=0.23nM</td>\n",
       "      <td>9.64</td>\n",
       "      <td>False</td>\n",
       "    </tr>\n",
       "    <tr>\n",
       "      <th>3qfd</th>\n",
       "      <td>immune system</td>\n",
       "      <td>CC[C@H](C)[C@H](NC(=O)CNC(=O)[C@H](C)NC(=O)[C@...</td>\n",
       "      <td>refined</td>\n",
       "      <td>GSHSMRYFFTSVSRPGRGEPRFIAVGYVDDTQFVRFDSDAASQRME...</td>\n",
       "      <td>1.68</td>\n",
       "      <td>2011-09-28</td>\n",
       "      <td>other</td>\n",
       "      <td>train</td>\n",
       "      <td>False</td>\n",
       "      <td>False</td>\n",
       "      <td>False</td>\n",
       "      <td>False</td>\n",
       "      <td>Kd=68uM</td>\n",
       "      <td>4.17</td>\n",
       "      <td>False</td>\n",
       "    </tr>\n",
       "    <tr>\n",
       "      <th>3fvn</th>\n",
       "      <td>membrane protein</td>\n",
       "      <td>[NH3+][C@@H](C[C@]1(C(=O)[O-])C[C@H]2OCC[C@@H]...</td>\n",
       "      <td>refined</td>\n",
       "      <td>ANRTLIVTTILEEPYVMYRKSDKPLYGNDRFEGYCLDLLKELSNIL...</td>\n",
       "      <td>1.50</td>\n",
       "      <td>2010-01-19</td>\n",
       "      <td>membrane</td>\n",
       "      <td>val</td>\n",
       "      <td>True</td>\n",
       "      <td>True</td>\n",
       "      <td>True</td>\n",
       "      <td>False</td>\n",
       "      <td>Ki=169nM</td>\n",
       "      <td>6.77</td>\n",
       "      <td>False</td>\n",
       "    </tr>\n",
       "  </tbody>\n",
       "</table>\n",
       "</div>"
      ],
      "text/plain": [
       "                               header  \\\n",
       "pdb_id                                  \n",
       "6r8o                        isomerase   \n",
       "3fh7    hydrolase/hydrolase inhibitor   \n",
       "4b7r                        hydrolase   \n",
       "3qfd                    immune system   \n",
       "3fvn                 membrane protein   \n",
       "\n",
       "                                                   smiles category  \\\n",
       "pdb_id                                                               \n",
       "6r8o    CSc1ccccc1[C@H]1CCCN1C(=O)CNC(=O)NCc1ccc2c(c1)...  refined   \n",
       "3fh7    O=C([O-])CCC[N@H+]1CCC[C@H]1COc1ccc(Oc2ccc(Cl)...  refined   \n",
       "4b7r    CCC(CC)O[C@@H]1C[C@H](C(=O)[O-])C[C@H]([NH3+])...  refined   \n",
       "3qfd    CC[C@H](C)[C@H](NC(=O)CNC(=O)[C@H](C)NC(=O)[C@...  refined   \n",
       "3fvn    [NH3+][C@@H](C[C@]1(C(=O)[O-])C[C@H]2OCC[C@@H]...  refined   \n",
       "\n",
       "                                                      seq  resolution  \\\n",
       "pdb_id                                                                  \n",
       "6r8o    GNPLVYLDVDANGKPLGRVVLELKADVVPKTAENFRALCTGEKGFG...        1.36   \n",
       "3fh7    VDTCSLASPASVCRTKHLHLRCSVDFTRRTLTGTAALTVQSQEDNL...        2.05   \n",
       "4b7r    VKLAGNSSLCPVSGWAIYSKDNSVRIGSKGDVFVIREPFISCSPLE...        1.90   \n",
       "3qfd    GSHSMRYFFTSVSRPGRGEPRFIAVGYVDDTQFVRFDSDAASQRME...        1.68   \n",
       "3fvn    ANRTLIVTTILEEPYVMYRKSDKPLYGNDRFEGYCLDLLKELSNIL...        1.50   \n",
       "\n",
       "              date       type new_split    CL1    CL2    CL3  \\\n",
       "pdb_id                                                         \n",
       "6r8o    2019-11-27  isomerase      test   True   True   True   \n",
       "3fh7    2010-01-05  hydrolase      test   True   True   True   \n",
       "4b7r    2012-10-03  hydrolase       NaN   True   True   True   \n",
       "3qfd    2011-09-28      other     train  False  False  False   \n",
       "3fvn    2010-01-19   membrane       val   True   True   True   \n",
       "\n",
       "        remove_for_balancing_val       kd/ki  value  covalent  \n",
       "pdb_id                                                         \n",
       "6r8o                       False  Kd=0.006uM   8.22     False  \n",
       "3fh7                       False     Kd=25nM   7.60     False  \n",
       "4b7r                       False   Ki=0.23nM   9.64     False  \n",
       "3qfd                       False     Kd=68uM   4.17     False  \n",
       "3fvn                       False    Ki=169nM   6.77     False  "
      ]
     },
     "execution_count": 4,
     "metadata": {},
     "output_type": "execute_result"
    }
   ],
   "source": [
    "df.head()"
   ]
  },
  {
   "cell_type": "code",
   "execution_count": null,
   "metadata": {},
   "outputs": [
    {
     "data": {
      "text/plain": [
       "category\n",
       "general    14108\n",
       "refined     5050\n",
       "core         285\n",
       "Name: count, dtype: int64"
      ]
     },
     "execution_count": 14,
     "metadata": {},
     "output_type": "execute_result"
    }
   ],
   "source": [
    "df.category.value_counts()"
   ]
  },
  {
   "cell_type": "code",
   "execution_count": null,
   "metadata": {},
   "outputs": [],
   "source": [
    "pdb_ids_core = df[df[\"category\"] == \"core\"].index.tolist()"
   ]
  },
  {
   "cell_type": "code",
   "execution_count": null,
   "metadata": {},
   "outputs": [],
   "source": [
    "dataset.remove_graph_by_ids(pdb_ids_core)"
   ]
  },
  {
   "cell_type": "code",
   "execution_count": null,
   "metadata": {},
   "outputs": [],
   "source": [
    "# store new dataset\n",
    "torch.save(dataset, \"../../datasetsprocessed/0930_pdbbind2020_general_refined\")"
   ]
  },
  {
   "cell_type": "code",
   "execution_count": null,
   "metadata": {},
   "outputs": [],
   "source": [
    "pdb_ids_general = df[df[\"category\"] == \"general\"].index.tolist()"
   ]
  },
  {
   "cell_type": "code",
   "execution_count": null,
   "metadata": {},
   "outputs": [],
   "source": [
    "dataset.remove_graph_by_ids(pdb_ids_general)"
   ]
  },
  {
   "cell_type": "code",
   "execution_count": null,
   "metadata": {},
   "outputs": [],
   "source": [
    "torch.save(dataset, \"../../datasetsprocessed/0930_pdbbind2020_refined\")"
   ]
  },
  {
   "attachments": {},
   "cell_type": "markdown",
   "metadata": {},
   "source": [
    "## Create dataset like the paper"
   ]
  },
  {
   "cell_type": "code",
   "execution_count": null,
   "metadata": {},
   "outputs": [
    {
     "data": {
      "text/html": [
       "<div>\n",
       "<style scoped>\n",
       "    .dataframe tbody tr th:only-of-type {\n",
       "        vertical-align: middle;\n",
       "    }\n",
       "\n",
       "    .dataframe tbody tr th {\n",
       "        vertical-align: top;\n",
       "    }\n",
       "\n",
       "    .dataframe thead th {\n",
       "        text-align: right;\n",
       "    }\n",
       "</style>\n",
       "<table border=\"1\" class=\"dataframe\">\n",
       "  <thead>\n",
       "    <tr style=\"text-align: right;\">\n",
       "      <th></th>\n",
       "      <th>header</th>\n",
       "      <th>smiles</th>\n",
       "      <th>category</th>\n",
       "      <th>seq</th>\n",
       "      <th>resolution</th>\n",
       "      <th>date</th>\n",
       "      <th>type</th>\n",
       "      <th>new_split</th>\n",
       "      <th>CL1</th>\n",
       "      <th>CL2</th>\n",
       "      <th>CL3</th>\n",
       "      <th>remove_for_balancing_val</th>\n",
       "      <th>kd/ki</th>\n",
       "      <th>value</th>\n",
       "      <th>covalent</th>\n",
       "    </tr>\n",
       "    <tr>\n",
       "      <th>pdb_id</th>\n",
       "      <th></th>\n",
       "      <th></th>\n",
       "      <th></th>\n",
       "      <th></th>\n",
       "      <th></th>\n",
       "      <th></th>\n",
       "      <th></th>\n",
       "      <th></th>\n",
       "      <th></th>\n",
       "      <th></th>\n",
       "      <th></th>\n",
       "      <th></th>\n",
       "      <th></th>\n",
       "      <th></th>\n",
       "      <th></th>\n",
       "    </tr>\n",
       "  </thead>\n",
       "  <tbody>\n",
       "    <tr>\n",
       "      <th>6r8o</th>\n",
       "      <td>isomerase</td>\n",
       "      <td>CSc1ccccc1[C@H]1CCCN1C(=O)CNC(=O)NCc1ccc2c(c1)...</td>\n",
       "      <td>refined</td>\n",
       "      <td>GNPLVYLDVDANGKPLGRVVLELKADVVPKTAENFRALCTGEKGFG...</td>\n",
       "      <td>1.36</td>\n",
       "      <td>2019-11-27</td>\n",
       "      <td>isomerase</td>\n",
       "      <td>test</td>\n",
       "      <td>True</td>\n",
       "      <td>True</td>\n",
       "      <td>True</td>\n",
       "      <td>False</td>\n",
       "      <td>Kd=0.006uM</td>\n",
       "      <td>8.22</td>\n",
       "      <td>False</td>\n",
       "    </tr>\n",
       "    <tr>\n",
       "      <th>3fh7</th>\n",
       "      <td>hydrolase/hydrolase inhibitor</td>\n",
       "      <td>O=C([O-])CCC[N@H+]1CCC[C@H]1COc1ccc(Oc2ccc(Cl)...</td>\n",
       "      <td>refined</td>\n",
       "      <td>VDTCSLASPASVCRTKHLHLRCSVDFTRRTLTGTAALTVQSQEDNL...</td>\n",
       "      <td>2.05</td>\n",
       "      <td>2010-01-05</td>\n",
       "      <td>hydrolase</td>\n",
       "      <td>test</td>\n",
       "      <td>True</td>\n",
       "      <td>True</td>\n",
       "      <td>True</td>\n",
       "      <td>False</td>\n",
       "      <td>Kd=25nM</td>\n",
       "      <td>7.60</td>\n",
       "      <td>False</td>\n",
       "    </tr>\n",
       "    <tr>\n",
       "      <th>4b7r</th>\n",
       "      <td>hydrolase</td>\n",
       "      <td>CCC(CC)O[C@@H]1C[C@H](C(=O)[O-])C[C@H]([NH3+])...</td>\n",
       "      <td>refined</td>\n",
       "      <td>VKLAGNSSLCPVSGWAIYSKDNSVRIGSKGDVFVIREPFISCSPLE...</td>\n",
       "      <td>1.90</td>\n",
       "      <td>2012-10-03</td>\n",
       "      <td>hydrolase</td>\n",
       "      <td>NaN</td>\n",
       "      <td>True</td>\n",
       "      <td>True</td>\n",
       "      <td>True</td>\n",
       "      <td>False</td>\n",
       "      <td>Ki=0.23nM</td>\n",
       "      <td>9.64</td>\n",
       "      <td>False</td>\n",
       "    </tr>\n",
       "    <tr>\n",
       "      <th>3qfd</th>\n",
       "      <td>immune system</td>\n",
       "      <td>CC[C@H](C)[C@H](NC(=O)CNC(=O)[C@H](C)NC(=O)[C@...</td>\n",
       "      <td>refined</td>\n",
       "      <td>GSHSMRYFFTSVSRPGRGEPRFIAVGYVDDTQFVRFDSDAASQRME...</td>\n",
       "      <td>1.68</td>\n",
       "      <td>2011-09-28</td>\n",
       "      <td>other</td>\n",
       "      <td>train</td>\n",
       "      <td>False</td>\n",
       "      <td>False</td>\n",
       "      <td>False</td>\n",
       "      <td>False</td>\n",
       "      <td>Kd=68uM</td>\n",
       "      <td>4.17</td>\n",
       "      <td>False</td>\n",
       "    </tr>\n",
       "    <tr>\n",
       "      <th>3fvn</th>\n",
       "      <td>membrane protein</td>\n",
       "      <td>[NH3+][C@@H](C[C@]1(C(=O)[O-])C[C@H]2OCC[C@@H]...</td>\n",
       "      <td>refined</td>\n",
       "      <td>ANRTLIVTTILEEPYVMYRKSDKPLYGNDRFEGYCLDLLKELSNIL...</td>\n",
       "      <td>1.50</td>\n",
       "      <td>2010-01-19</td>\n",
       "      <td>membrane</td>\n",
       "      <td>val</td>\n",
       "      <td>True</td>\n",
       "      <td>True</td>\n",
       "      <td>True</td>\n",
       "      <td>False</td>\n",
       "      <td>Ki=169nM</td>\n",
       "      <td>6.77</td>\n",
       "      <td>False</td>\n",
       "    </tr>\n",
       "    <tr>\n",
       "      <th>...</th>\n",
       "      <td>...</td>\n",
       "      <td>...</td>\n",
       "      <td>...</td>\n",
       "      <td>...</td>\n",
       "      <td>...</td>\n",
       "      <td>...</td>\n",
       "      <td>...</td>\n",
       "      <td>...</td>\n",
       "      <td>...</td>\n",
       "      <td>...</td>\n",
       "      <td>...</td>\n",
       "      <td>...</td>\n",
       "      <td>...</td>\n",
       "      <td>...</td>\n",
       "      <td>...</td>\n",
       "    </tr>\n",
       "    <tr>\n",
       "      <th>6npt</th>\n",
       "      <td>transferase</td>\n",
       "      <td>CC(C)(C)c1ccc(C(=O)Nc2cc(-c3ccccc3)nn2-c2ccccc...</td>\n",
       "      <td>general</td>\n",
       "      <td>IENCVHHIKRRDIVLKWELGEGAFGKVFLAECHNLLPEQDKMLVAV...</td>\n",
       "      <td>2.19</td>\n",
       "      <td>2019-05-22</td>\n",
       "      <td>transferase</td>\n",
       "      <td>test</td>\n",
       "      <td>True</td>\n",
       "      <td>False</td>\n",
       "      <td>False</td>\n",
       "      <td>False</td>\n",
       "      <td>IC50=68.3nM</td>\n",
       "      <td>7.17</td>\n",
       "      <td>False</td>\n",
       "    </tr>\n",
       "    <tr>\n",
       "      <th>3pax</th>\n",
       "      <td>transferase</td>\n",
       "      <td>COc1cccc(C(N)=O)c1</td>\n",
       "      <td>general</td>\n",
       "      <td>KSKLAKPIQDLIKMIFDVESMKKAMVEFEIDLQKMPLGKLSKRQIQ...</td>\n",
       "      <td>2.40</td>\n",
       "      <td>1998-05-27</td>\n",
       "      <td>transferase</td>\n",
       "      <td>val</td>\n",
       "      <td>True</td>\n",
       "      <td>False</td>\n",
       "      <td>False</td>\n",
       "      <td>False</td>\n",
       "      <td>IC50=10uM</td>\n",
       "      <td>5.00</td>\n",
       "      <td>False</td>\n",
       "    </tr>\n",
       "    <tr>\n",
       "      <th>5ezz</th>\n",
       "      <td>hydrolase/inhibitor</td>\n",
       "      <td>Cc1cc([C@@]2(c3cccc(-c4cncc(Cl)c4)c3)COC(=[NH2...</td>\n",
       "      <td>general</td>\n",
       "      <td>RGSFVEMVDNLRGKSGQGYYVEMTVGSPPQTLNILVDTGSSNFAVG...</td>\n",
       "      <td>2.10</td>\n",
       "      <td>2016-02-24</td>\n",
       "      <td>hydrolase</td>\n",
       "      <td>test</td>\n",
       "      <td>True</td>\n",
       "      <td>False</td>\n",
       "      <td>False</td>\n",
       "      <td>False</td>\n",
       "      <td>IC50=145nM</td>\n",
       "      <td>6.84</td>\n",
       "      <td>False</td>\n",
       "    </tr>\n",
       "    <tr>\n",
       "      <th>1hgi</th>\n",
       "      <td>viral protein</td>\n",
       "      <td>CO[C@]1(C(=O)[O-])C[C@H](OC(C)=O)[C@@H](NC(C)=...</td>\n",
       "      <td>general</td>\n",
       "      <td>QDLPGNDNSTATLCLGHHAVPNGTLVKTITDDQIEVTNATELVQSS...</td>\n",
       "      <td>2.70</td>\n",
       "      <td>1994-01-31</td>\n",
       "      <td>viral</td>\n",
       "      <td>train</td>\n",
       "      <td>True</td>\n",
       "      <td>True</td>\n",
       "      <td>False</td>\n",
       "      <td>False</td>\n",
       "      <td>Kd=2.1mM</td>\n",
       "      <td>2.68</td>\n",
       "      <td>False</td>\n",
       "    </tr>\n",
       "    <tr>\n",
       "      <th>3e9i</th>\n",
       "      <td>ligase</td>\n",
       "      <td>Nc1ncnc2c1ncn2C1OC(COP(=O)(O)ONC(=O)C([NH3+])C...</td>\n",
       "      <td>general</td>\n",
       "      <td>ELNDQLRVRREKLKKIEELGVDPFGKRFERTHKAEELFELYGDLSK...</td>\n",
       "      <td>2.20</td>\n",
       "      <td>2009-07-14</td>\n",
       "      <td>ligase</td>\n",
       "      <td>train</td>\n",
       "      <td>False</td>\n",
       "      <td>False</td>\n",
       "      <td>False</td>\n",
       "      <td>False</td>\n",
       "      <td>Ki=0.6uM</td>\n",
       "      <td>6.22</td>\n",
       "      <td>False</td>\n",
       "    </tr>\n",
       "  </tbody>\n",
       "</table>\n",
       "<p>19443 rows × 15 columns</p>\n",
       "</div>"
      ],
      "text/plain": [
       "                               header  \\\n",
       "pdb_id                                  \n",
       "6r8o                        isomerase   \n",
       "3fh7    hydrolase/hydrolase inhibitor   \n",
       "4b7r                        hydrolase   \n",
       "3qfd                    immune system   \n",
       "3fvn                 membrane protein   \n",
       "...                               ...   \n",
       "6npt                      transferase   \n",
       "3pax                      transferase   \n",
       "5ezz              hydrolase/inhibitor   \n",
       "1hgi                    viral protein   \n",
       "3e9i                           ligase   \n",
       "\n",
       "                                                   smiles category  \\\n",
       "pdb_id                                                               \n",
       "6r8o    CSc1ccccc1[C@H]1CCCN1C(=O)CNC(=O)NCc1ccc2c(c1)...  refined   \n",
       "3fh7    O=C([O-])CCC[N@H+]1CCC[C@H]1COc1ccc(Oc2ccc(Cl)...  refined   \n",
       "4b7r    CCC(CC)O[C@@H]1C[C@H](C(=O)[O-])C[C@H]([NH3+])...  refined   \n",
       "3qfd    CC[C@H](C)[C@H](NC(=O)CNC(=O)[C@H](C)NC(=O)[C@...  refined   \n",
       "3fvn    [NH3+][C@@H](C[C@]1(C(=O)[O-])C[C@H]2OCC[C@@H]...  refined   \n",
       "...                                                   ...      ...   \n",
       "6npt    CC(C)(C)c1ccc(C(=O)Nc2cc(-c3ccccc3)nn2-c2ccccc...  general   \n",
       "3pax                                   COc1cccc(C(N)=O)c1  general   \n",
       "5ezz    Cc1cc([C@@]2(c3cccc(-c4cncc(Cl)c4)c3)COC(=[NH2...  general   \n",
       "1hgi    CO[C@]1(C(=O)[O-])C[C@H](OC(C)=O)[C@@H](NC(C)=...  general   \n",
       "3e9i    Nc1ncnc2c1ncn2C1OC(COP(=O)(O)ONC(=O)C([NH3+])C...  general   \n",
       "\n",
       "                                                      seq  resolution  \\\n",
       "pdb_id                                                                  \n",
       "6r8o    GNPLVYLDVDANGKPLGRVVLELKADVVPKTAENFRALCTGEKGFG...        1.36   \n",
       "3fh7    VDTCSLASPASVCRTKHLHLRCSVDFTRRTLTGTAALTVQSQEDNL...        2.05   \n",
       "4b7r    VKLAGNSSLCPVSGWAIYSKDNSVRIGSKGDVFVIREPFISCSPLE...        1.90   \n",
       "3qfd    GSHSMRYFFTSVSRPGRGEPRFIAVGYVDDTQFVRFDSDAASQRME...        1.68   \n",
       "3fvn    ANRTLIVTTILEEPYVMYRKSDKPLYGNDRFEGYCLDLLKELSNIL...        1.50   \n",
       "...                                                   ...         ...   \n",
       "6npt    IENCVHHIKRRDIVLKWELGEGAFGKVFLAECHNLLPEQDKMLVAV...        2.19   \n",
       "3pax    KSKLAKPIQDLIKMIFDVESMKKAMVEFEIDLQKMPLGKLSKRQIQ...        2.40   \n",
       "5ezz    RGSFVEMVDNLRGKSGQGYYVEMTVGSPPQTLNILVDTGSSNFAVG...        2.10   \n",
       "1hgi    QDLPGNDNSTATLCLGHHAVPNGTLVKTITDDQIEVTNATELVQSS...        2.70   \n",
       "3e9i    ELNDQLRVRREKLKKIEELGVDPFGKRFERTHKAEELFELYGDLSK...        2.20   \n",
       "\n",
       "              date         type new_split    CL1    CL2    CL3  \\\n",
       "pdb_id                                                           \n",
       "6r8o    2019-11-27    isomerase      test   True   True   True   \n",
       "3fh7    2010-01-05    hydrolase      test   True   True   True   \n",
       "4b7r    2012-10-03    hydrolase       NaN   True   True   True   \n",
       "3qfd    2011-09-28        other     train  False  False  False   \n",
       "3fvn    2010-01-19     membrane       val   True   True   True   \n",
       "...            ...          ...       ...    ...    ...    ...   \n",
       "6npt    2019-05-22  transferase      test   True  False  False   \n",
       "3pax    1998-05-27  transferase       val   True  False  False   \n",
       "5ezz    2016-02-24    hydrolase      test   True  False  False   \n",
       "1hgi    1994-01-31        viral     train   True   True  False   \n",
       "3e9i    2009-07-14       ligase     train  False  False  False   \n",
       "\n",
       "        remove_for_balancing_val        kd/ki  value  covalent  \n",
       "pdb_id                                                          \n",
       "6r8o                       False   Kd=0.006uM   8.22     False  \n",
       "3fh7                       False      Kd=25nM   7.60     False  \n",
       "4b7r                       False    Ki=0.23nM   9.64     False  \n",
       "3qfd                       False      Kd=68uM   4.17     False  \n",
       "3fvn                       False     Ki=169nM   6.77     False  \n",
       "...                          ...          ...    ...       ...  \n",
       "6npt                       False  IC50=68.3nM   7.17     False  \n",
       "3pax                       False    IC50=10uM   5.00     False  \n",
       "5ezz                       False   IC50=145nM   6.84     False  \n",
       "1hgi                       False     Kd=2.1mM   2.68     False  \n",
       "3e9i                       False     Ki=0.6uM   6.22     False  \n",
       "\n",
       "[19443 rows x 15 columns]"
      ]
     },
     "execution_count": 5,
     "metadata": {},
     "output_type": "execute_result"
    }
   ],
   "source": [
    "df"
   ]
  },
  {
   "cell_type": "code",
   "execution_count": null,
   "metadata": {},
   "outputs": [
    {
     "data": {
      "text/plain": [
       "new_split\n",
       "train    11513\n",
       "test      4860\n",
       "val       2422\n",
       "Name: count, dtype: int64"
      ]
     },
     "execution_count": 6,
     "metadata": {},
     "output_type": "execute_result"
    }
   ],
   "source": [
    "df[\"new_split\"].value_counts()"
   ]
  },
  {
   "cell_type": "code",
   "execution_count": null,
   "metadata": {},
   "outputs": [
    {
     "data": {
      "text/plain": [
       "nan"
      ]
     },
     "execution_count": 26,
     "metadata": {},
     "output_type": "execute_result"
    }
   ],
   "source": [
    "df[\"new_split\"].loc[\"4b7r\"]"
   ]
  },
  {
   "cell_type": "code",
   "execution_count": null,
   "metadata": {},
   "outputs": [],
   "source": [
    "pdb_ids_nan = df[df[\"new_split\"].isna()].index.tolist()\n",
    "pdb_ids_test = df[df[\"new_split\"] == \"test\"].index.tolist()\n",
    "pdb_ids_val = df[df[\"new_split\"] == \"val\"].index.tolist()\n",
    "pdb_ids_train = df[df[\"new_split\"] == \"train\"].index.tolist()"
   ]
  },
  {
   "cell_type": "code",
   "execution_count": null,
   "metadata": {},
   "outputs": [],
   "source": [
    "dataset.remove_graph_by_ids(pdb_ids_nan)\n",
    "dataset.remove_graph_by_ids(pdb_ids_test)\n",
    "# dataset.remove_graph_by_ids(pdb_ids_val)\n",
    "dataset.remove_graph_by_ids(pdb_ids_train)"
   ]
  },
  {
   "cell_type": "code",
   "execution_count": null,
   "metadata": {},
   "outputs": [],
   "source": [
    "torch.save(dataset, \"../../datasetsprocessed/1003_pdbbind2020_val_paper\")"
   ]
  },
  {
   "cell_type": "code",
   "execution_count": null,
   "metadata": {},
   "outputs": [
    {
     "data": {
      "text/plain": [
       "GraphDataset(2344)"
      ]
     },
     "execution_count": 42,
     "metadata": {},
     "output_type": "execute_result"
    }
   ],
   "source": [
    "dataset"
   ]
  },
  {
   "attachments": {},
   "cell_type": "markdown",
   "metadata": {},
   "source": [
    "### CL1 filtering for the datasets"
   ]
  },
  {
   "cell_type": "code",
   "execution_count": null,
   "metadata": {},
   "outputs": [
    {
     "data": {
      "text/plain": [
       "CL1\n",
       "True     14324\n",
       "False     5119\n",
       "Name: count, dtype: int64"
      ]
     },
     "execution_count": 6,
     "metadata": {},
     "output_type": "execute_result"
    }
   ],
   "source": [
    "df['CL1'].value_counts()"
   ]
  },
  {
   "cell_type": "code",
   "execution_count": null,
   "metadata": {},
   "outputs": [],
   "source": [
    "pdb_ids_to_remove = df[df['CL1'] == False].index.tolist()"
   ]
  },
  {
   "cell_type": "code",
   "execution_count": null,
   "metadata": {},
   "outputs": [
    {
     "name": "stderr",
     "output_type": "stream",
     "text": [
      "/home/sofiaguerreiro/molecules-binding/.env/lib/python3.10/site-packages/tqdm/auto.py:21: TqdmWarning: IProgress not found. Please update jupyter and ipywidgets. See https://ipywidgets.readthedocs.io/en/stable/user_install.html\n",
      "  from .autonotebook import tqdm as notebook_tqdm\n",
      "/home/sofiaguerreiro/molecules-binding/.env/lib/python3.10/site-packages/torchmetrics/utilities/prints.py:43: UserWarning: Metric `SpearmanCorrcoef` will save all targets and predictions in the buffer. For large datasets, this may lead to large memory footprint.\n",
      "  warnings.warn(*args, **kwargs)  # noqa: B028\n"
     ]
    }
   ],
   "source": [
    "import torch\n",
    "dataset1 = torch.load(\"../../datasetsprocessed/1003_pdbbind2020_train_paper\")\n",
    "dataset2 = torch.load(\"../../datasetsprocessed/1003_pdbbind2020_val_paper\")\n",
    "dataset3 = torch.load(\"../../datasetsprocessed/1003_pdbbind2020_test_paper\")"
   ]
  },
  {
   "cell_type": "code",
   "execution_count": null,
   "metadata": {},
   "outputs": [
    {
     "name": "stdout",
     "output_type": "stream",
     "text": [
      "11049 2344 4736\n"
     ]
    }
   ],
   "source": [
    "print(len(dataset1), len(dataset2), len(dataset3))"
   ]
  },
  {
   "cell_type": "code",
   "execution_count": null,
   "metadata": {},
   "outputs": [],
   "source": [
    "dataset1.remove_graph_by_ids(pdb_ids_to_remove)\n",
    "dataset2.remove_graph_by_ids(pdb_ids_to_remove)\n",
    "dataset3.remove_graph_by_ids(pdb_ids_to_remove)"
   ]
  },
  {
   "cell_type": "code",
   "execution_count": null,
   "metadata": {},
   "outputs": [
    {
     "name": "stdout",
     "output_type": "stream",
     "text": [
      "7249 1918 4196\n"
     ]
    }
   ],
   "source": [
    "print(len(dataset1), len(dataset2), len(dataset3))"
   ]
  },
  {
   "cell_type": "code",
   "execution_count": null,
   "metadata": {},
   "outputs": [],
   "source": [
    "torch.save(dataset1, \"../../datasetsprocessed/1003_pdbbind2020_train_paper_cl1\")\n",
    "torch.save(dataset2, \"../../datasetsprocessed/1003_pdbbind2020_val_paper_cl1\")\n",
    "torch.save(dataset3, \"../../datasetsprocessed/1003_pdbbind2020_test_paper_cl1\")"
   ]
  },
  {
   "attachments": {},
   "cell_type": "markdown",
   "metadata": {},
   "source": [
    "## Check 2019 holdout set"
   ]
  },
  {
   "cell_type": "code",
   "execution_count": null,
   "metadata": {},
   "outputs": [],
   "source": [
    "import torch\n",
    "dataset = torch.load(\"../../datasetsprocessed/0915_pdbbind2020_joined_edges_all_dataset\")"
   ]
  },
  {
   "cell_type": "code",
   "execution_count": null,
   "metadata": {},
   "outputs": [
    {
     "data": {
      "text/plain": [
       "4366"
      ]
     },
     "execution_count": 19,
     "metadata": {},
     "output_type": "execute_result"
    }
   ],
   "source": [
    "pdb_ids_2019 = torch.load(\"../../pdb_ids_holdout2019\")\n",
    "len(pdb_ids_2019)"
   ]
  },
  {
   "cell_type": "code",
   "execution_count": null,
   "metadata": {},
   "outputs": [
    {
     "data": {
      "text/plain": [
       "GraphDataset(18760)"
      ]
     },
     "execution_count": 18,
     "metadata": {},
     "output_type": "execute_result"
    }
   ],
   "source": [
    "dataset"
   ]
  },
  {
   "cell_type": "code",
   "execution_count": null,
   "metadata": {},
   "outputs": [
    {
     "data": {
      "text/plain": [
       "14575"
      ]
     },
     "execution_count": 26,
     "metadata": {},
     "output_type": "execute_result"
    }
   ],
   "source": [
    "pdb_ids_in_total = []\n",
    "for graph in dataset:\n",
    "    if graph.y[1] not in pdb_ids_2019:\n",
    "        pdb_ids_in_total.append(graph.y[1])\n",
    "len(pdb_ids_in_total)"
   ]
  },
  {
   "cell_type": "code",
   "execution_count": null,
   "metadata": {},
   "outputs": [],
   "source": [
    "dataset.remove_graph_by_ids(pdb_ids_in_total)"
   ]
  },
  {
   "cell_type": "code",
   "execution_count": null,
   "metadata": {},
   "outputs": [],
   "source": [
    "torch.save(dataset, \"../../datasetsprocessed/1004_pdbbind_holdout_2019\")"
   ]
  },
  {
   "cell_type": "code",
   "execution_count": null,
   "metadata": {},
   "outputs": [
    {
     "data": {
      "text/plain": [
       "4185"
      ]
     },
     "execution_count": 30,
     "metadata": {},
     "output_type": "execute_result"
    },
    {
     "ename": "",
     "evalue": "",
     "output_type": "error",
     "traceback": [
      "\u001b[1;31mThe Kernel crashed while executing code in the the current cell or a previous cell. Please review the code in the cell(s) to identify a possible cause of the failure. Click <a href='https://aka.ms/vscodeJupyterKernelCrash'>here</a> for more info. View Jupyter <a href='command:jupyter.viewOutput'>log</a> for further details."
     ]
    }
   ],
   "source": [
    "len(dataset)"
   ]
  },
  {
   "attachments": {},
   "cell_type": "markdown",
   "metadata": {},
   "source": [
    "### just choose image"
   ]
  },
  {
   "cell_type": "code",
   "execution_count": null,
   "metadata": {},
   "outputs": [
    {
     "name": "stderr",
     "output_type": "stream",
     "text": [
      "/tmp/ipykernel_3775580/2181202964.py:2: UserWarning: Boolean Series key will be reindexed to match DataFrame index.\n",
      "  df[df[\"smiles\"].str.len() > 200][df[\"seq\"].str.len() > 200]\n"
     ]
    },
    {
     "data": {
      "text/html": [
       "<div>\n",
       "<style scoped>\n",
       "    .dataframe tbody tr th:only-of-type {\n",
       "        vertical-align: middle;\n",
       "    }\n",
       "\n",
       "    .dataframe tbody tr th {\n",
       "        vertical-align: top;\n",
       "    }\n",
       "\n",
       "    .dataframe thead th {\n",
       "        text-align: right;\n",
       "    }\n",
       "</style>\n",
       "<table border=\"1\" class=\"dataframe\">\n",
       "  <thead>\n",
       "    <tr style=\"text-align: right;\">\n",
       "      <th></th>\n",
       "      <th>header</th>\n",
       "      <th>smiles</th>\n",
       "      <th>category</th>\n",
       "      <th>seq</th>\n",
       "      <th>resolution</th>\n",
       "      <th>date</th>\n",
       "      <th>type</th>\n",
       "      <th>new_split</th>\n",
       "      <th>CL1</th>\n",
       "      <th>CL2</th>\n",
       "      <th>CL3</th>\n",
       "      <th>remove_for_balancing_val</th>\n",
       "      <th>kd/ki</th>\n",
       "      <th>value</th>\n",
       "      <th>covalent</th>\n",
       "    </tr>\n",
       "    <tr>\n",
       "      <th>pdb_id</th>\n",
       "      <th></th>\n",
       "      <th></th>\n",
       "      <th></th>\n",
       "      <th></th>\n",
       "      <th></th>\n",
       "      <th></th>\n",
       "      <th></th>\n",
       "      <th></th>\n",
       "      <th></th>\n",
       "      <th></th>\n",
       "      <th></th>\n",
       "      <th></th>\n",
       "      <th></th>\n",
       "      <th></th>\n",
       "      <th></th>\n",
       "    </tr>\n",
       "  </thead>\n",
       "  <tbody>\n",
       "    <tr>\n",
       "      <th>3old</th>\n",
       "      <td>hydrolase/hydrolase inhibitor</td>\n",
       "      <td>C[C@H]1O[C@H](O[C@@H]2[C@@H](CO)O[C@H](O[C@@H]...</td>\n",
       "      <td>refined</td>\n",
       "      <td>YSPNTQQGRTSIVHLFEWRWVDIALECERYLAPKGFGGVQVSPPNE...</td>\n",
       "      <td>2.00</td>\n",
       "      <td>2011-04-13</td>\n",
       "      <td>hydrolase</td>\n",
       "      <td>train</td>\n",
       "      <td>False</td>\n",
       "      <td>False</td>\n",
       "      <td>False</td>\n",
       "      <td>False</td>\n",
       "      <td>Ki=1254.9nM</td>\n",
       "      <td>5.90</td>\n",
       "      <td>False</td>\n",
       "    </tr>\n",
       "    <tr>\n",
       "      <th>1ppi</th>\n",
       "      <td>hydrolase (o-glycosyl)</td>\n",
       "      <td>C[C@H]1O[C@H](O[C@@H]2[C@@H](CO)O[C@@H](O)[C@H...</td>\n",
       "      <td>refined</td>\n",
       "      <td>QYAPQTQSGRTSIVHLFEWRWVDIALECERYLGPKGFGGVQVSPPN...</td>\n",
       "      <td>2.20</td>\n",
       "      <td>1995-05-24</td>\n",
       "      <td>hydrolase</td>\n",
       "      <td>train</td>\n",
       "      <td>False</td>\n",
       "      <td>False</td>\n",
       "      <td>False</td>\n",
       "      <td>False</td>\n",
       "      <td>Ki=9.7uM</td>\n",
       "      <td>5.01</td>\n",
       "      <td>False</td>\n",
       "    </tr>\n",
       "    <tr>\n",
       "      <th>4l6t</th>\n",
       "      <td>hydrolase</td>\n",
       "      <td>CC(=O)N[C@@H]1[C@@H](O)C[C@](O[C@H]2[C@@H](O[C...</td>\n",
       "      <td>refined</td>\n",
       "      <td>AERTPNEEKKVIGYADHNGQLYNITSIYGPVINYTVPDENITINTI...</td>\n",
       "      <td>1.86</td>\n",
       "      <td>2013-11-06</td>\n",
       "      <td>hydrolase</td>\n",
       "      <td>NaN</td>\n",
       "      <td>False</td>\n",
       "      <td>False</td>\n",
       "      <td>False</td>\n",
       "      <td>False</td>\n",
       "      <td>Kd=32nM</td>\n",
       "      <td>7.49</td>\n",
       "      <td>False</td>\n",
       "    </tr>\n",
       "    <tr>\n",
       "      <th>1m7i</th>\n",
       "      <td>immune system</td>\n",
       "      <td>CO[C@@H]1O[C@@H](C)[C@H](O)[C@@H](O)[C@H]1O[C@...</td>\n",
       "      <td>refined</td>\n",
       "      <td>DVVLTQTPLSLPVRLGDQASISCRSSQSLLHSDGNTYLHWYLQKPG...</td>\n",
       "      <td>2.50</td>\n",
       "      <td>2003-07-22</td>\n",
       "      <td>other</td>\n",
       "      <td>val</td>\n",
       "      <td>False</td>\n",
       "      <td>False</td>\n",
       "      <td>False</td>\n",
       "      <td>False</td>\n",
       "      <td>Kd=4.0uM</td>\n",
       "      <td>5.40</td>\n",
       "      <td>False</td>\n",
       "    </tr>\n",
       "    <tr>\n",
       "      <th>1h5v</th>\n",
       "      <td>hydrolase</td>\n",
       "      <td>CO[C@H]1O[C@H](CO)[C@@H](S[C@@H]2O[C@H](CO)[C@...</td>\n",
       "      <td>refined</td>\n",
       "      <td>SVVEEHGQLSISNGELVNERGEQVQLKGMSSHGLQWYGQFVNYESM...</td>\n",
       "      <td>1.10</td>\n",
       "      <td>2002-05-23</td>\n",
       "      <td>hydrolase</td>\n",
       "      <td>train</td>\n",
       "      <td>False</td>\n",
       "      <td>False</td>\n",
       "      <td>False</td>\n",
       "      <td>False</td>\n",
       "      <td>Ki=117uM</td>\n",
       "      <td>3.93</td>\n",
       "      <td>False</td>\n",
       "    </tr>\n",
       "    <tr>\n",
       "      <th>...</th>\n",
       "      <td>...</td>\n",
       "      <td>...</td>\n",
       "      <td>...</td>\n",
       "      <td>...</td>\n",
       "      <td>...</td>\n",
       "      <td>...</td>\n",
       "      <td>...</td>\n",
       "      <td>...</td>\n",
       "      <td>...</td>\n",
       "      <td>...</td>\n",
       "      <td>...</td>\n",
       "      <td>...</td>\n",
       "      <td>...</td>\n",
       "      <td>...</td>\n",
       "      <td>...</td>\n",
       "    </tr>\n",
       "    <tr>\n",
       "      <th>3zha</th>\n",
       "      <td>chaperone</td>\n",
       "      <td>CC(=O)N1CCC[C@H]1C(=O)N1CCC[C@H]1C(=O)NCC(=O)N...</td>\n",
       "      <td>general</td>\n",
       "      <td>MLSPKAATLAERSAGLAFSLYQAMAKDQAVENILLSPVVVASSLGL...</td>\n",
       "      <td>2.55</td>\n",
       "      <td>2013-01-09</td>\n",
       "      <td>chaperone</td>\n",
       "      <td>train</td>\n",
       "      <td>False</td>\n",
       "      <td>False</td>\n",
       "      <td>False</td>\n",
       "      <td>False</td>\n",
       "      <td>Kd~1uM</td>\n",
       "      <td>6.00</td>\n",
       "      <td>False</td>\n",
       "    </tr>\n",
       "    <tr>\n",
       "      <th>4wht</th>\n",
       "      <td>viral protein</td>\n",
       "      <td>CC[C@H](C)[C@H](NC(=O)[C@H](CC(C)C)NC(=O)[C@@H...</td>\n",
       "      <td>general</td>\n",
       "      <td>VKLQESGGGLVQPGRSLKLSCAASGFTFSDSYLAWVRQAPTKGLEW...</td>\n",
       "      <td>2.22</td>\n",
       "      <td>2014-12-17</td>\n",
       "      <td>viral</td>\n",
       "      <td>train</td>\n",
       "      <td>False</td>\n",
       "      <td>False</td>\n",
       "      <td>False</td>\n",
       "      <td>False</td>\n",
       "      <td>Kd=7.9nM</td>\n",
       "      <td>8.10</td>\n",
       "      <td>False</td>\n",
       "    </tr>\n",
       "    <tr>\n",
       "      <th>5icx</th>\n",
       "      <td>immune system</td>\n",
       "      <td>CC(C)C[C@@H]1NC(=O)[C@H](CCCNC(N)=[NH2+])NC(=O...</td>\n",
       "      <td>general</td>\n",
       "      <td>DILLTQSPVILSVSPGERVSFSCRASQSIGTNIHWYQQRTNGSPRL...</td>\n",
       "      <td>2.60</td>\n",
       "      <td>2016-06-15</td>\n",
       "      <td>other</td>\n",
       "      <td>val</td>\n",
       "      <td>False</td>\n",
       "      <td>False</td>\n",
       "      <td>False</td>\n",
       "      <td>False</td>\n",
       "      <td>Kd=110nM</td>\n",
       "      <td>6.96</td>\n",
       "      <td>False</td>\n",
       "    </tr>\n",
       "    <tr>\n",
       "      <th>4zdu</th>\n",
       "      <td>protein transport/signaling protein</td>\n",
       "      <td>CSCC[C@H](NC(=O)[C@H](CCC(N)=O)NC(=O)[C@H](CCC...</td>\n",
       "      <td>general</td>\n",
       "      <td>WSVEDIVKGINSNNLESQLQATQAARKLLSPIDNIIRAGLIPKFVS...</td>\n",
       "      <td>2.30</td>\n",
       "      <td>2015-10-21</td>\n",
       "      <td>transport</td>\n",
       "      <td>train</td>\n",
       "      <td>False</td>\n",
       "      <td>False</td>\n",
       "      <td>False</td>\n",
       "      <td>False</td>\n",
       "      <td>Kd=1.7uM</td>\n",
       "      <td>5.77</td>\n",
       "      <td>False</td>\n",
       "    </tr>\n",
       "    <tr>\n",
       "      <th>2h2d</th>\n",
       "      <td>hydrolase</td>\n",
       "      <td>CSCC[C@H](NC(=O)[C@H](CC(C)C)NC(=O)[C@H](CCCCN...</td>\n",
       "      <td>general</td>\n",
       "      <td>MKMKEFLDLLNESRLTVTLTGAGISTPSGIPDFNVFDIDFFYSHPE...</td>\n",
       "      <td>1.70</td>\n",
       "      <td>2006-09-19</td>\n",
       "      <td>hydrolase</td>\n",
       "      <td>train</td>\n",
       "      <td>False</td>\n",
       "      <td>False</td>\n",
       "      <td>False</td>\n",
       "      <td>False</td>\n",
       "      <td>Kd=4.3uM</td>\n",
       "      <td>5.37</td>\n",
       "      <td>False</td>\n",
       "    </tr>\n",
       "  </tbody>\n",
       "</table>\n",
       "<p>592 rows × 15 columns</p>\n",
       "</div>"
      ],
      "text/plain": [
       "                                     header  \\\n",
       "pdb_id                                        \n",
       "3old          hydrolase/hydrolase inhibitor   \n",
       "1ppi                 hydrolase (o-glycosyl)   \n",
       "4l6t                              hydrolase   \n",
       "1m7i                          immune system   \n",
       "1h5v                              hydrolase   \n",
       "...                                     ...   \n",
       "3zha                              chaperone   \n",
       "4wht                          viral protein   \n",
       "5icx                          immune system   \n",
       "4zdu    protein transport/signaling protein   \n",
       "2h2d                              hydrolase   \n",
       "\n",
       "                                                   smiles category  \\\n",
       "pdb_id                                                               \n",
       "3old    C[C@H]1O[C@H](O[C@@H]2[C@@H](CO)O[C@H](O[C@@H]...  refined   \n",
       "1ppi    C[C@H]1O[C@H](O[C@@H]2[C@@H](CO)O[C@@H](O)[C@H...  refined   \n",
       "4l6t    CC(=O)N[C@@H]1[C@@H](O)C[C@](O[C@H]2[C@@H](O[C...  refined   \n",
       "1m7i    CO[C@@H]1O[C@@H](C)[C@H](O)[C@@H](O)[C@H]1O[C@...  refined   \n",
       "1h5v    CO[C@H]1O[C@H](CO)[C@@H](S[C@@H]2O[C@H](CO)[C@...  refined   \n",
       "...                                                   ...      ...   \n",
       "3zha    CC(=O)N1CCC[C@H]1C(=O)N1CCC[C@H]1C(=O)NCC(=O)N...  general   \n",
       "4wht    CC[C@H](C)[C@H](NC(=O)[C@H](CC(C)C)NC(=O)[C@@H...  general   \n",
       "5icx    CC(C)C[C@@H]1NC(=O)[C@H](CCCNC(N)=[NH2+])NC(=O...  general   \n",
       "4zdu    CSCC[C@H](NC(=O)[C@H](CCC(N)=O)NC(=O)[C@H](CCC...  general   \n",
       "2h2d    CSCC[C@H](NC(=O)[C@H](CC(C)C)NC(=O)[C@H](CCCCN...  general   \n",
       "\n",
       "                                                      seq  resolution  \\\n",
       "pdb_id                                                                  \n",
       "3old    YSPNTQQGRTSIVHLFEWRWVDIALECERYLAPKGFGGVQVSPPNE...        2.00   \n",
       "1ppi    QYAPQTQSGRTSIVHLFEWRWVDIALECERYLGPKGFGGVQVSPPN...        2.20   \n",
       "4l6t    AERTPNEEKKVIGYADHNGQLYNITSIYGPVINYTVPDENITINTI...        1.86   \n",
       "1m7i    DVVLTQTPLSLPVRLGDQASISCRSSQSLLHSDGNTYLHWYLQKPG...        2.50   \n",
       "1h5v    SVVEEHGQLSISNGELVNERGEQVQLKGMSSHGLQWYGQFVNYESM...        1.10   \n",
       "...                                                   ...         ...   \n",
       "3zha    MLSPKAATLAERSAGLAFSLYQAMAKDQAVENILLSPVVVASSLGL...        2.55   \n",
       "4wht    VKLQESGGGLVQPGRSLKLSCAASGFTFSDSYLAWVRQAPTKGLEW...        2.22   \n",
       "5icx    DILLTQSPVILSVSPGERVSFSCRASQSIGTNIHWYQQRTNGSPRL...        2.60   \n",
       "4zdu    WSVEDIVKGINSNNLESQLQATQAARKLLSPIDNIIRAGLIPKFVS...        2.30   \n",
       "2h2d    MKMKEFLDLLNESRLTVTLTGAGISTPSGIPDFNVFDIDFFYSHPE...        1.70   \n",
       "\n",
       "              date       type new_split    CL1    CL2    CL3  \\\n",
       "pdb_id                                                         \n",
       "3old    2011-04-13  hydrolase     train  False  False  False   \n",
       "1ppi    1995-05-24  hydrolase     train  False  False  False   \n",
       "4l6t    2013-11-06  hydrolase       NaN  False  False  False   \n",
       "1m7i    2003-07-22      other       val  False  False  False   \n",
       "1h5v    2002-05-23  hydrolase     train  False  False  False   \n",
       "...            ...        ...       ...    ...    ...    ...   \n",
       "3zha    2013-01-09  chaperone     train  False  False  False   \n",
       "4wht    2014-12-17      viral     train  False  False  False   \n",
       "5icx    2016-06-15      other       val  False  False  False   \n",
       "4zdu    2015-10-21  transport     train  False  False  False   \n",
       "2h2d    2006-09-19  hydrolase     train  False  False  False   \n",
       "\n",
       "        remove_for_balancing_val        kd/ki  value  covalent  \n",
       "pdb_id                                                          \n",
       "3old                       False  Ki=1254.9nM   5.90     False  \n",
       "1ppi                       False     Ki=9.7uM   5.01     False  \n",
       "4l6t                       False      Kd=32nM   7.49     False  \n",
       "1m7i                       False     Kd=4.0uM   5.40     False  \n",
       "1h5v                       False     Ki=117uM   3.93     False  \n",
       "...                          ...          ...    ...       ...  \n",
       "3zha                       False       Kd~1uM   6.00     False  \n",
       "4wht                       False     Kd=7.9nM   8.10     False  \n",
       "5icx                       False     Kd=110nM   6.96     False  \n",
       "4zdu                       False     Kd=1.7uM   5.77     False  \n",
       "2h2d                       False     Kd=4.3uM   5.37     False  \n",
       "\n",
       "[592 rows x 15 columns]"
      ]
     },
     "execution_count": 22,
     "metadata": {},
     "output_type": "execute_result"
    }
   ],
   "source": [
    "# choose the lines with greater smiles length\n",
    "df[df[\"smiles\"].str.len() > 200][df[\"seq\"].str.len() > 200]\n"
   ]
  },
  {
   "attachments": {},
   "cell_type": "markdown",
   "metadata": {},
   "source": [
    "See the size of the created leak proof datasets "
   ]
  },
  {
   "cell_type": "code",
   "execution_count": null,
   "metadata": {},
   "outputs": [
    {
     "name": "stderr",
     "output_type": "stream",
     "text": [
      "/home/sofiaguerreiro/molecules-binding/.env/lib/python3.10/site-packages/torchmetrics/utilities/prints.py:43: UserWarning: Metric `SpearmanCorrcoef` will save all targets and predictions in the buffer. For large datasets, this may lead to large memory footprint.\n",
      "  warnings.warn(*args, **kwargs)  # noqa: B028\n"
     ]
    }
   ],
   "source": [
    "import torch\n",
    "dataset_train = torch.load(\"../../datasetsprocessed/1003_pdbbind2020_train_paper\")\n",
    "dataset_val = torch.load(\"../../datasetsprocessed/1003_pdbbind2020_val_paper\")\n",
    "dataset_test = torch.load(\"../../datasetsprocessed/1003_pdbbind2020_test_paper\")"
   ]
  },
  {
   "cell_type": "code",
   "execution_count": null,
   "metadata": {},
   "outputs": [],
   "source": [
    "print(len(dataset_train), len(dataset_val), len(dataset_test))"
   ]
  },
  {
   "cell_type": "code",
   "execution_count": null,
   "metadata": {},
   "outputs": [],
   "source": [
    "dataset_train = torch.load(\"../../datasetsprocessed/1003_pdbbind2020_train_paper_cl1\")\n",
    "dataset_val = torch.load(\"../../datasetsprocessed/1003_pdbbind2020_val_paper_cl1\")\n",
    "dataset_test = torch.load(\"../../datasetsprocessed/1003_pdbbind2020_test_paper_cl1\")"
   ]
  },
  {
   "cell_type": "code",
   "execution_count": null,
   "metadata": {},
   "outputs": [
    {
     "name": "stdout",
     "output_type": "stream",
     "text": [
      "7249 1918 4196\n"
     ]
    }
   ],
   "source": [
    "print(len(dataset_train), len(dataset_val), len(dataset_test))"
   ]
  },
  {
   "attachments": {},
   "cell_type": "markdown",
   "metadata": {},
   "source": [
    "### Normalize coords to be centered on the ligand"
   ]
  },
  {
   "cell_type": "code",
   "execution_count": null,
   "metadata": {},
   "outputs": [
    {
     "name": "stderr",
     "output_type": "stream",
     "text": [
      "/home/sofiaguerreiro/molecules-binding/.env/lib/python3.10/site-packages/tqdm/auto.py:21: TqdmWarning: IProgress not found. Please update jupyter and ipywidgets. See https://ipywidgets.readthedocs.io/en/stable/user_install.html\n",
      "  from .autonotebook import tqdm as notebook_tqdm\n",
      "/home/sofiaguerreiro/molecules-binding/.env/lib/python3.10/site-packages/torchmetrics/utilities/prints.py:43: UserWarning: Metric `SpearmanCorrcoef` will save all targets and predictions in the buffer. For large datasets, this may lead to large memory footprint.\n",
      "  warnings.warn(*args, **kwargs)  # noqa: B028\n"
     ]
    }
   ],
   "source": [
    "import torch\n",
    "dataset = torch.load(\"../../datasetsprocessed/0908_interactionNet_8_2016_final_chemical_feat\")"
   ]
  },
  {
   "cell_type": "code",
   "execution_count": null,
   "metadata": {},
   "outputs": [],
   "source": [
    "import torch"
   ]
  },
  {
   "cell_type": "code",
   "execution_count": null,
   "metadata": {},
   "outputs": [
    {
     "name": "stdout",
     "output_type": "stream",
     "text": [
      "0524_interactionNet_2016_edges_corrected_norm\n",
      "0525_interactionNet_2016_MLP\n",
      "0602_mlp_no_coords\n",
      "0602_mlp_with_coord\n",
      "0627_mlp_with_coord_normalized\n",
      "0628_interactionNet_2016_edges_corrected_norm\n",
      "0628_interactionNet_8_norm\n",
      "0629_interactionNet_10\n",
      "0819_experiment\n",
      "0821_interactionNet_8_2016_float32\n",
      "0829_interactionNet_8_2016_float32_ESM\n",
      "0904_interactionNet_8_2016_morefeat\n",
      "0905_interactionNet_6_2016_morefeat\n",
      "0905_interactionNet_7_2016_morefeat\n",
      "0905_interactionNet_9_2016_morefeat\n",
      "0908_interactionNet_8_2016_final_chemical_feat\n",
      "0908_interactionNet_8_2016_final_chemical_feat_core_set\n",
      "0908_interactionNet_8_2016_final_chemical_feat_core_set_ESM\n",
      "0908_interactionNet_8_2016_final_chemical_feat_ESM\n",
      "0909_experiment_with_edges\n",
      "0909_pdbbind2016_separate_edges\n",
      "0909_pdbbind2016_separate_edges_7\n",
      "0909_pdbbind2016_separate_edges_9\n",
      "0909_pdbbind2016_separate_edges_core_set\n",
      "0909_separate_edges_core_set_ESM\n",
      "0909_separate_edges_ESM\n",
      "0915_pdbbind2020_joined_edges_all_dataset\n",
      "0915_pdbbind2020_separate_edges_all_dataset\n",
      "0920_dataset2016\n",
      "0920_dataset2016_no_water\n",
      "0920_dataset2016_separate_edges_no_water\n",
      "0929_dataset2016_refined\n",
      "0930_pdbbind2020_general_refined\n",
      "0930_pdbbind2020_refined\n",
      "1003_pdbbind2020_test_paper\n",
      "1003_pdbbind2020_test_paper_cl1\n",
      "1003_pdbbind2020_train_paper\n",
      "1003_pdbbind2020_train_paper_cl1\n",
      "1003_pdbbind2020_val_paper\n",
      "1003_pdbbind2020_val_paper_cl1\n",
      "1004_pdbbind_holdout_2019\n"
     ]
    }
   ],
   "source": [
    "!ls ../../datasetsprocessed/"
   ]
  },
  {
   "cell_type": "code",
   "execution_count": null,
   "metadata": {},
   "outputs": [],
   "source": [
    "dataset = torch.load(\"../../datasetsprocessed/0908_interactionNet_8_2016_final_chemical_feat\")"
   ]
  },
  {
   "cell_type": "code",
   "execution_count": null,
   "metadata": {},
   "outputs": [],
   "source": [
    "dataset = torch.load(\"../../datasetsprocessed/0915_pdbbind2020_separate_edges_all_dataset\")"
   ]
  },
  {
   "cell_type": "code",
   "execution_count": null,
   "metadata": {},
   "outputs": [
    {
     "data": {
      "text/plain": [
       "18475"
      ]
     },
     "execution_count": 32,
     "metadata": {},
     "output_type": "execute_result"
    }
   ],
   "source": [
    "len(dataset)-285"
   ]
  },
  {
   "cell_type": "code",
   "execution_count": null,
   "metadata": {},
   "outputs": [
    {
     "data": {
      "text/plain": [
       "455"
      ]
     },
     "execution_count": 33,
     "metadata": {},
     "output_type": "execute_result"
    }
   ],
   "source": [
    "13000-12545"
   ]
  },
  {
   "cell_type": "code",
   "execution_count": null,
   "metadata": {},
   "outputs": [
    {
     "data": {
      "text/plain": [
       "683"
      ]
     },
     "execution_count": 34,
     "metadata": {},
     "output_type": "execute_result"
    }
   ],
   "source": [
    "19443-285-18475"
   ]
  },
  {
   "attachments": {},
   "cell_type": "markdown",
   "metadata": {},
   "source": [
    "### count statistics in graphs"
   ]
  },
  {
   "cell_type": "code",
   "execution_count": null,
   "metadata": {},
   "outputs": [],
   "source": [
    "import torch\n",
    "# dataset_6 = torch.load(\"../../datasetsprocessed/0909_pdbbind2016_separate_edges_6\")\n",
    "# dataset_7 = torch.load(\"../../datasetsprocessed/0909_pdbbind2016_separate_edges_7\")\n",
    "# dataset_8 = torch.load(\"../../datasetsprocessed/0909_pdbbind2016_separate_edges\")\n",
    "# dataset_9 = torch.load(\"../../datasetsprocessed/0909_pdbbind2016_separate_edges_9\")"
   ]
  },
  {
   "cell_type": "code",
   "execution_count": null,
   "metadata": {},
   "outputs": [],
   "source": [
    "from torch_geometric.utils import degree\n",
    "def avg_num_edges(dataset):\n",
    "    soma_interaction = 0\n",
    "    soma_bonds = 0\n",
    "    avg_deg_bonds = 0\n",
    "    avg_deg_interaction = 0\n",
    "    avg_num_nodes = 0\n",
    "    number = 0\n",
    "    for graph in dataset:\n",
    "        number += 1\n",
    "        soma_bonds += graph.edge_index_1.shape[1]/2\n",
    "        soma_interaction += graph.edge_index_2.shape[1]/2\n",
    "        avg_deg_bonds += degree(graph.edge_index_1[0], graph.num_nodes).mean()\n",
    "        avg_deg_interaction += degree(graph.edge_index_2[0], graph.num_nodes).mean()\n",
    "        avg_num_nodes += graph.x.shape[0]\n",
    "    return soma_bonds/number, soma_interaction/number, avg_deg_bonds/number, avg_deg_interaction/number, avg_num_nodes/number"
   ]
  },
  {
   "attachments": {},
   "cell_type": "markdown",
   "metadata": {},
   "source": [
    "# use potential net splits"
   ]
  },
  {
   "cell_type": "code",
   "execution_count": 7,
   "metadata": {},
   "outputs": [],
   "source": [
    "import pandas as pd\n",
    "df = pd.read_csv(\"../../potentialnet_splits.txt\")\n",
    "df.set_index(\"PDB ID\", inplace=True)"
   ]
  },
  {
   "cell_type": "code",
   "execution_count": 8,
   "metadata": {},
   "outputs": [
    {
     "data": {
      "text/html": [
       "<div>\n",
       "<style scoped>\n",
       "    .dataframe tbody tr th:only-of-type {\n",
       "        vertical-align: middle;\n",
       "    }\n",
       "\n",
       "    .dataframe tbody tr th {\n",
       "        vertical-align: top;\n",
       "    }\n",
       "\n",
       "    .dataframe thead th {\n",
       "        text-align: right;\n",
       "    }\n",
       "</style>\n",
       "<table border=\"1\" class=\"dataframe\">\n",
       "  <thead>\n",
       "    <tr style=\"text-align: right;\">\n",
       "      <th></th>\n",
       "      <th>Sequence-based assignment</th>\n",
       "      <th>Structure-based assignment</th>\n",
       "    </tr>\n",
       "    <tr>\n",
       "      <th>PDB ID</th>\n",
       "      <th></th>\n",
       "      <th></th>\n",
       "    </tr>\n",
       "  </thead>\n",
       "  <tbody>\n",
       "    <tr>\n",
       "      <th>10gs</th>\n",
       "      <td>train</td>\n",
       "      <td>train</td>\n",
       "    </tr>\n",
       "    <tr>\n",
       "      <th>11gs</th>\n",
       "      <td>train</td>\n",
       "      <td>train</td>\n",
       "    </tr>\n",
       "    <tr>\n",
       "      <th>1a08</th>\n",
       "      <td>train</td>\n",
       "      <td>train</td>\n",
       "    </tr>\n",
       "    <tr>\n",
       "      <th>1a0q</th>\n",
       "      <td>train</td>\n",
       "      <td>train</td>\n",
       "    </tr>\n",
       "    <tr>\n",
       "      <th>1a1b</th>\n",
       "      <td>train</td>\n",
       "      <td>train</td>\n",
       "    </tr>\n",
       "    <tr>\n",
       "      <th>...</th>\n",
       "      <td>...</td>\n",
       "      <td>...</td>\n",
       "    </tr>\n",
       "    <tr>\n",
       "      <th>830c</th>\n",
       "      <td>train</td>\n",
       "      <td>train</td>\n",
       "    </tr>\n",
       "    <tr>\n",
       "      <th>8abp</th>\n",
       "      <td>train</td>\n",
       "      <td>train</td>\n",
       "    </tr>\n",
       "    <tr>\n",
       "      <th>8cpa</th>\n",
       "      <td>train</td>\n",
       "      <td>train</td>\n",
       "    </tr>\n",
       "    <tr>\n",
       "      <th>966c</th>\n",
       "      <td>train</td>\n",
       "      <td>train</td>\n",
       "    </tr>\n",
       "    <tr>\n",
       "      <th>9abp</th>\n",
       "      <td>train</td>\n",
       "      <td>train</td>\n",
       "    </tr>\n",
       "  </tbody>\n",
       "</table>\n",
       "<p>1300 rows × 2 columns</p>\n",
       "</div>"
      ],
      "text/plain": [
       "       Sequence-based assignment Structure-based assignment\n",
       "PDB ID                                                     \n",
       "10gs                       train                      train\n",
       "11gs                       train                      train\n",
       "1a08                       train                      train\n",
       "1a0q                       train                      train\n",
       "1a1b                       train                      train\n",
       "...                          ...                        ...\n",
       "830c                       train                      train\n",
       "8abp                       train                      train\n",
       "8cpa                       train                      train\n",
       "966c                       train                      train\n",
       "9abp                       train                      train\n",
       "\n",
       "[1300 rows x 2 columns]"
      ]
     },
     "execution_count": 8,
     "metadata": {},
     "output_type": "execute_result"
    }
   ],
   "source": [
    "df"
   ]
  },
  {
   "cell_type": "code",
   "execution_count": 9,
   "metadata": {},
   "outputs": [
    {
     "name": "stdout",
     "output_type": "stream",
     "text": [
      "978 221 101\n"
     ]
    }
   ],
   "source": [
    "# sequence pdb_ids\n",
    "sequence_train = df[df[\"Sequence-based assignment\"] == \"train\"].index.tolist()\n",
    "sequence_val = df[df[\"Sequence-based assignment\"] == \"valid\"].index.tolist()\n",
    "sequence_test = df[df[\"Sequence-based assignment\"] == \"test\"].index.tolist()\n",
    "print(len(sequence_train), len(sequence_val), len(sequence_test))"
   ]
  },
  {
   "cell_type": "code",
   "execution_count": 49,
   "metadata": {},
   "outputs": [
    {
     "name": "stdout",
     "output_type": "stream",
     "text": [
      "925 257 118\n"
     ]
    }
   ],
   "source": [
    "structure_train = df[df[\"Structure-based assignment\"] == \"train\"].index.tolist()\n",
    "structure_val = df[df[\"Structure-based assignment\"] == \"valid\"].index.tolist()\n",
    "structure_test = df[df[\"Structure-based assignment\"] == \"test\"].index.tolist()\n",
    "print(len(structure_train), len(structure_val), len(structure_test))"
   ]
  },
  {
   "cell_type": "code",
   "execution_count": 51,
   "metadata": {},
   "outputs": [],
   "source": [
    "import torch\n",
    "dataset = torch.load(\"../../datasetsprocessed/0920_dataset2016\")"
   ]
  },
  {
   "cell_type": "code",
   "execution_count": 16,
   "metadata": {},
   "outputs": [],
   "source": [
    "pdb_ids = set()\n",
    "for graph in dataset:\n",
    "    pdb_ids.add(graph.y[1])"
   ]
  },
  {
   "cell_type": "code",
   "execution_count": 17,
   "metadata": {},
   "outputs": [
    {
     "data": {
      "text/plain": [
       "12830"
      ]
     },
     "execution_count": 17,
     "metadata": {},
     "output_type": "execute_result"
    }
   ],
   "source": [
    "len(pdb_ids)"
   ]
  },
  {
   "cell_type": "code",
   "execution_count": 24,
   "metadata": {},
   "outputs": [],
   "source": [
    "# list of pdb_ids without sequence\n",
    "pdb_ids_without_sequence = []\n",
    "for pdb_id in pdb_ids:\n",
    "    if pdb_id not in sequence_train and pdb_id not in sequence_val and pdb_id not in sequence_test:\n",
    "        pdb_ids_without_sequence.append(pdb_id)"
   ]
  },
  {
   "cell_type": "code",
   "execution_count": 52,
   "metadata": {},
   "outputs": [
    {
     "data": {
      "text/plain": [
       "11554"
      ]
     },
     "execution_count": 52,
     "metadata": {},
     "output_type": "execute_result"
    }
   ],
   "source": [
    "len(pdb_ids_without_sequence)"
   ]
  },
  {
   "cell_type": "code",
   "execution_count": 54,
   "metadata": {},
   "outputs": [],
   "source": [
    "dataset.remove_graph_by_ids(pdb_ids_without_sequence)"
   ]
  },
  {
   "cell_type": "code",
   "execution_count": 55,
   "metadata": {},
   "outputs": [],
   "source": [
    "torch.save(dataset,\"../../datasetsprocessed/1011_potentialnet\")"
   ]
  },
  {
   "attachments": {},
   "cell_type": "markdown",
   "metadata": {},
   "source": [
    "run this"
   ]
  },
  {
   "cell_type": "code",
   "execution_count": 10,
   "metadata": {},
   "outputs": [],
   "source": [
    "import torch\n",
    "dataset = torch.load(\"../../datasetsprocessed/1011_potentialnet\")"
   ]
  },
  {
   "cell_type": "code",
   "execution_count": 11,
   "metadata": {},
   "outputs": [
    {
     "data": {
      "text/plain": [
       "GraphDataset(1276)"
      ]
     },
     "execution_count": 11,
     "metadata": {},
     "output_type": "execute_result"
    }
   ],
   "source": [
    "dataset"
   ]
  },
  {
   "cell_type": "code",
   "execution_count": 36,
   "metadata": {},
   "outputs": [
    {
     "name": "stdout",
     "output_type": "stream",
     "text": [
      "978 221 101 1300\n"
     ]
    }
   ],
   "source": [
    "print(len(sequence_train), len(sequence_val), len(sequence_test), len(sequence_train)+len(sequence_val)+len(sequence_test))"
   ]
  },
  {
   "cell_type": "code",
   "execution_count": 12,
   "metadata": {},
   "outputs": [],
   "source": [
    "# concatenate two lists\n",
    "sequence_train_test = sequence_train + sequence_test\n",
    "dataset.remove_graph_by_ids(sequence_train_test)"
   ]
  },
  {
   "cell_type": "code",
   "execution_count": 13,
   "metadata": {},
   "outputs": [
    {
     "data": {
      "text/plain": [
       "GraphDataset(217)"
      ]
     },
     "execution_count": 13,
     "metadata": {},
     "output_type": "execute_result"
    }
   ],
   "source": [
    "dataset"
   ]
  },
  {
   "cell_type": "code",
   "execution_count": 14,
   "metadata": {},
   "outputs": [],
   "source": [
    "torch.save(dataset, \"../../datasetsprocessed/1011_potentialnet_sequence_valid\")"
   ]
  },
  {
   "cell_type": "code",
   "execution_count": 45,
   "metadata": {},
   "outputs": [
    {
     "name": "stdout",
     "output_type": "stream",
     "text": [
      "GraphDataset(217)\n"
     ]
    }
   ],
   "source": [
    "sequence_train_test = sequence_train + sequence_test\n",
    "dataset.remove_graph_by_ids(sequence_train_test)\n",
    "print(dataset)"
   ]
  },
  {
   "cell_type": "code",
   "execution_count": 15,
   "metadata": {},
   "outputs": [],
   "source": [
    "dataset_train = torch.load(\"../../datasetsprocessed/1011_potentialnet_sequence_train\")\n",
    "dataset_val = torch.load(\"../../datasetsprocessed/1011_potentialnet_sequence_valid\")\n",
    "dataset_test = torch.load(\"../../datasetsprocessed/1011_potentialnet_sequence_test\")"
   ]
  },
  {
   "attachments": {},
   "cell_type": "markdown",
   "metadata": {},
   "source": [
    "## Determine the size of complexes"
   ]
  },
  {
   "cell_type": "code",
   "execution_count": 1,
   "metadata": {},
   "outputs": [
    {
     "name": "stderr",
     "output_type": "stream",
     "text": [
      "/home/sofiaguerreiro/molecules-binding/.env/lib/python3.10/site-packages/tqdm/auto.py:21: TqdmWarning: IProgress not found. Please update jupyter and ipywidgets. See https://ipywidgets.readthedocs.io/en/stable/user_install.html\n",
      "  from .autonotebook import tqdm as notebook_tqdm\n",
      "/home/sofiaguerreiro/molecules-binding/.env/lib/python3.10/site-packages/torchmetrics/utilities/prints.py:43: UserWarning: Metric `SpearmanCorrcoef` will save all targets and predictions in the buffer. For large datasets, this may lead to large memory footprint.\n",
      "  warnings.warn(*args, **kwargs)  # noqa: B028\n"
     ]
    }
   ],
   "source": [
    "import torch\n",
    "dataset = torch.load(\"../../datasetsprocessed/0908_interactionNet_8_2016_final_chemical_feat\")"
   ]
  },
  {
   "cell_type": "code",
   "execution_count": 8,
   "metadata": {},
   "outputs": [
    {
     "data": {
      "text/plain": [
       "tensor([38.5150, 32.3460, 33.7860])"
      ]
     },
     "execution_count": 8,
     "metadata": {},
     "output_type": "execute_result"
    }
   ],
   "source": [
    "# min and max of pos\n",
    "graph.pos.max(dim=0).values - graph.pos.min(dim=0).values"
   ]
  },
  {
   "cell_type": "code",
   "execution_count": 9,
   "metadata": {},
   "outputs": [],
   "source": [
    "avg_box_size = torch.tensor([])\n",
    "for graph in dataset:\n",
    "    box_size = graph.pos.max(dim=0).values - graph.pos.min(dim=0).values\n",
    "    avg_box_size = torch.cat((avg_box_size, box_size.unsqueeze(0)), dim=0)"
   ]
  },
  {
   "cell_type": "code",
   "execution_count": 11,
   "metadata": {},
   "outputs": [
    {
     "data": {
      "text/plain": [
       "tensor([27.4223, 27.1936, 27.4185])"
      ]
     },
     "execution_count": 11,
     "metadata": {},
     "output_type": "execute_result"
    }
   ],
   "source": [
    "avg_box_size.mean(dim=0)"
   ]
  },
  {
   "cell_type": "code",
   "execution_count": 12,
   "metadata": {},
   "outputs": [],
   "source": [
    "avg_center = torch.tensor([])\n",
    "for graph in dataset:\n",
    "    center = graph.pos.mean(dim=0)\n",
    "    avg_center = torch.cat((avg_center, center.unsqueeze(0)), dim=0)"
   ]
  },
  {
   "cell_type": "code",
   "execution_count": 16,
   "metadata": {},
   "outputs": [
    {
     "data": {
      "text/plain": [
       "(tensor([14.3471, 13.4552, 17.5882]), tensor([32.3115, 34.9225, 33.6246]))"
      ]
     },
     "execution_count": 16,
     "metadata": {},
     "output_type": "execute_result"
    }
   ],
   "source": [
    "avg_center.mean(dim=0), avg_center.std(dim=0)"
   ]
  },
  {
   "cell_type": "code",
   "execution_count": 17,
   "metadata": {},
   "outputs": [
    {
     "data": {
      "text/plain": [
       "(tensor([-185.5470, -847.9028, -150.2082]),\n",
       " tensor([ 514.1652,  460.8585, 1048.1508]))"
      ]
     },
     "execution_count": 17,
     "metadata": {},
     "output_type": "execute_result"
    }
   ],
   "source": [
    "avg_center.min(dim=0).values, avg_center.max(dim=0).values"
   ]
  },
  {
   "attachments": {},
   "cell_type": "markdown",
   "metadata": {},
   "source": [
    "# number of elements inequality"
   ]
  },
  {
   "cell_type": "code",
   "execution_count": 2,
   "metadata": {},
   "outputs": [],
   "source": [
    "import re\n",
    "def get_affinities_testing(affinity_directory):\n",
    "    affinity_dict = {}\n",
    "    with open(affinity_directory, 'r', encoding='utf-8') as f:\n",
    "        for line in f:\n",
    "            aff_not_uncertain = True\n",
    "            if line[0] != '#':\n",
    "                fields = line.split()\n",
    "                pdb_id = fields[0]\n",
    "                log_aff = float(fields[3])\n",
    "                aff_str = fields[4]\n",
    "                if '<' in aff_str or '>' in aff_str or '~' in aff_str:\n",
    "                    aff_not_uncertain = False\n",
    "                aff_tokens = re.split('[=<>~]+', aff_str)\n",
    "                assert len(aff_tokens) == 2\n",
    "                label, aff_and_unity = aff_tokens\n",
    "                assert label in ['Kd', 'Ki', 'IC50']\n",
    "                affinity_value = float(aff_and_unity[:-2])\n",
    "                aff_unity = aff_and_unity[-2:]\n",
    "                aff = float(affinity_value)\n",
    "                affinity_dict[pdb_id] = [\n",
    "                    label, log_aff, aff, aff_unity, aff_not_uncertain\n",
    "                ]\n",
    "    return affinity_dict"
   ]
  },
  {
   "cell_type": "code",
   "execution_count": 11,
   "metadata": {},
   "outputs": [],
   "source": [
    "affinity_dict = get_affinities_testing(\"../../dataset2016/index/INDEX_general_PL_data.2016\")"
   ]
  },
  {
   "cell_type": "code",
   "execution_count": 12,
   "metadata": {},
   "outputs": [],
   "source": [
    "import os\n",
    "molecules_files = []\n",
    "for folder_name in os.listdir(\"../../dataset2016/\"):\n",
    "    if len(folder_name) == 4:\n",
    "        molecules_files.append(folder_name)"
   ]
  },
  {
   "cell_type": "code",
   "execution_count": 13,
   "metadata": {},
   "outputs": [
    {
     "data": {
      "text/plain": [
       "13283"
      ]
     },
     "execution_count": 13,
     "metadata": {},
     "output_type": "execute_result"
    }
   ],
   "source": [
    "len(molecules_files)"
   ]
  },
  {
   "cell_type": "code",
   "execution_count": 14,
   "metadata": {},
   "outputs": [],
   "source": [
    "files_uncertain = []\n",
    "for file in molecules_files:\n",
    "    if affinity_dict[file][4] == False:\n",
    "        files_uncertain.append(file)"
   ]
  },
  {
   "cell_type": "code",
   "execution_count": 15,
   "metadata": {},
   "outputs": [
    {
     "data": {
      "text/plain": [
       "286"
      ]
     },
     "execution_count": 15,
     "metadata": {},
     "output_type": "execute_result"
    }
   ],
   "source": [
    "len(files_uncertain)"
   ]
  },
  {
   "cell_type": "code",
   "execution_count": 17,
   "metadata": {},
   "outputs": [],
   "source": [
    "files_with_error = [\n",
    "    '3p3h', '3p3j', '3p44', '3p55', '4i60', '4jfv', '4jfw', '4jhq', '4um9',\n",
    "    '2vnp', '3vjs', '2z3z', '2zjw', '3bwf', '2rib', '2jdk', '3pup', '3dcq',\n",
    "    '2c5y', '1ppw', '4avt', '3wax', '3zp9', '3egk', '2fov', '2q2n', '4c4n',\n",
    "    '1qon', '4ie3', '3cst', '5a3o', '4ixv', '3wc5', '4hmq', '1rdn', '4z7n',\n",
    "    '4rlp', '2eep', '4gql', '4m3b', '2foy', '2jdu', '1h07', '2a5b', '2wfg',\n",
    "    '2jdp', '2vr0', '2ci9', '4hxq', '3vjt', '4daw', '3lp1', '2a3w', '1epq',\n",
    "    '3v9b', '4hww', '3eyd', '2cfd', '2w08', '4hze', '3whw', '1r1h', '3e9b',\n",
    "    '4fxz', '4ayu', '3lil', '1ai6', '4z7s', '1sl3', '1esz', '3kck', '4z7f',\n",
    "    '2z97', '2fou', '2nwn', '2jsd', '2aoh', '2cfg', '2boj', '2boi', '1biw',\n",
    "    '3gpe', '3e6k', '4mma', '2jdy', '1a7x', '2g83', '4avs', '4kw6', '1z3j',\n",
    "    '4kcx', '2ork', '1mue', '2brh', '2bv4', '4ob1', '3q4c', '1ksn', '2pll',\n",
    "    '3kqr', '4fil', '4x1r', '3lik', '3qlb', '1hyz', '2jdn', '2ggx', '4ob0',\n",
    "    '4m3f', '3udn', '4ixu', '4ob2', '2wl4', '2jdm', '1bm6', '3w8o', '4kai',\n",
    "    '2ria', '2jdh', '2yak', '4kb7', '1q54', '4mm4', '2os9', '2fm5', '2ggu',\n",
    "    '4abd', '3lp2', '4u0x', '4no1', '4aoc', '1cps', '4mm6', '4dcx', '3lir',\n",
    "    '3zdv', '1k2v', '4kbi', '3rj7', '4wkv', '4lv1', '1rdl', '3h9f', '1nu1',\n",
    "    '4z7q', '4wku', '1rdi', '3m1s', '2jbl', '1bcj', '4wkt', '3zju', '3l2y',\n",
    "    '4wk2', '2fuu', '4iu0', '4l6q', '3zjt', '1f92', '3fxz', '3bho', '3fy0',\n",
    "    '1qpf', '1rdj', '4ie2', '4i06', '1g7v'\n",
    "]"
   ]
  },
  {
   "cell_type": "code",
   "execution_count": 18,
   "metadata": {},
   "outputs": [
    {
     "data": {
      "text/plain": [
       "167"
      ]
     },
     "execution_count": 18,
     "metadata": {},
     "output_type": "execute_result"
    }
   ],
   "source": [
    "len(files_with_error)"
   ]
  },
  {
   "cell_type": "code",
   "execution_count": 20,
   "metadata": {},
   "outputs": [
    {
     "data": {
      "text/plain": [
       "453"
      ]
     },
     "execution_count": 20,
     "metadata": {},
     "output_type": "execute_result"
    }
   ],
   "source": [
    "12998-12545"
   ]
  },
  {
   "cell_type": "code",
   "execution_count": 21,
   "metadata": {},
   "outputs": [
    {
     "data": {
      "text/plain": [
       "453"
      ]
     },
     "execution_count": 21,
     "metadata": {},
     "output_type": "execute_result"
    }
   ],
   "source": [
    "286+167"
   ]
  },
  {
   "cell_type": "code",
   "execution_count": 22,
   "metadata": {},
   "outputs": [
    {
     "data": {
      "text/plain": [
       "13283"
      ]
     },
     "execution_count": 22,
     "metadata": {},
     "output_type": "execute_result"
    }
   ],
   "source": [
    "len(molecules_files)"
   ]
  },
  {
   "attachments": {},
   "cell_type": "markdown",
   "metadata": {},
   "source": [
    "### Average size of ligands"
   ]
  },
  {
   "cell_type": "code",
   "execution_count": 23,
   "metadata": {},
   "outputs": [
    {
     "name": "stderr",
     "output_type": "stream",
     "text": [
      "/home/sofiaguerreiro/molecules-binding/.env/lib/python3.10/site-packages/tqdm/auto.py:21: TqdmWarning: IProgress not found. Please update jupyter and ipywidgets. See https://ipywidgets.readthedocs.io/en/stable/user_install.html\n",
      "  from .autonotebook import tqdm as notebook_tqdm\n",
      "/home/sofiaguerreiro/molecules-binding/.env/lib/python3.10/site-packages/torchmetrics/utilities/prints.py:43: UserWarning: Metric `SpearmanCorrcoef` will save all targets and predictions in the buffer. For large datasets, this may lead to large memory footprint.\n",
      "  warnings.warn(*args, **kwargs)  # noqa: B028\n"
     ]
    }
   ],
   "source": [
    "import torch\n",
    "dataset = torch.load(\"../../datasetsprocessed/0908_interactionNet_8_2016_final_chemical_feat\")"
   ]
  },
  {
   "cell_type": "code",
   "execution_count": 24,
   "metadata": {},
   "outputs": [],
   "source": [
    "graph = dataset[0]"
   ]
  },
  {
   "cell_type": "code",
   "execution_count": 27,
   "metadata": {},
   "outputs": [
    {
     "data": {
      "text/plain": [
       "tensor(46)"
      ]
     },
     "execution_count": 27,
     "metadata": {},
     "output_type": "execute_result"
    }
   ],
   "source": [
    "# count lines where\n",
    "(graph.x[:,0] == 1).sum() "
   ]
  },
  {
   "cell_type": "code",
   "execution_count": 28,
   "metadata": {},
   "outputs": [
    {
     "data": {
      "text/plain": [
       "tensor(32.7674)"
      ]
     },
     "execution_count": 28,
     "metadata": {},
     "output_type": "execute_result"
    }
   ],
   "source": [
    "avg_ligand_size = torch.tensor([])\n",
    "for graph in dataset:\n",
    "    avg_ligand_size = torch.cat((avg_ligand_size, graph.x[:,0].sum().unsqueeze(0)), dim=0)\n",
    "# determine the avg ligand size\n",
    "avg_ligand_size.mean()"
   ]
  },
  {
   "cell_type": "code",
   "execution_count": 29,
   "metadata": {},
   "outputs": [
    {
     "data": {
      "text/plain": [
       "tensor([46., 23., 57.,  ..., 23., 30., 27.])"
      ]
     },
     "execution_count": 29,
     "metadata": {},
     "output_type": "execute_result"
    }
   ],
   "source": [
    "avg_ligand_size"
   ]
  },
  {
   "attachments": {},
   "cell_type": "markdown",
   "metadata": {},
   "source": [
    "#### Analyzing if we did things right in leak bind"
   ]
  },
  {
   "cell_type": "code",
   "execution_count": 7,
   "metadata": {},
   "outputs": [],
   "source": [
    "import torch\n",
    "dataset = torch.load(\"../../datasetsprocessed/1003_pdbbind2020_test_paper\")"
   ]
  },
  {
   "cell_type": "code",
   "execution_count": 2,
   "metadata": {},
   "outputs": [],
   "source": [
    "set_of_pdb_ids = set()\n",
    "for graph in dataset:\n",
    "    set_of_pdb_ids.add(graph.y[1])"
   ]
  },
  {
   "cell_type": "code",
   "execution_count": 4,
   "metadata": {},
   "outputs": [],
   "source": [
    "set_of_pdb_ids_val = set()\n",
    "for graph in dataset:\n",
    "    set_of_pdb_ids_val.add(graph.y[1])"
   ]
  },
  {
   "cell_type": "code",
   "execution_count": 8,
   "metadata": {},
   "outputs": [],
   "source": [
    "set_of_pdb_ids_test = set()\n",
    "for graph in dataset:\n",
    "    set_of_pdb_ids_val.add(graph.y[1])"
   ]
  },
  {
   "cell_type": "code",
   "execution_count": 10,
   "metadata": {},
   "outputs": [
    {
     "name": "stdout",
     "output_type": "stream",
     "text": [
      "set()\n",
      "set()\n",
      "set()\n"
     ]
    }
   ],
   "source": [
    "# compare the three sets: see if there are any pdb_ids in common\n",
    "print(set_of_pdb_ids.intersection(set_of_pdb_ids_val))\n",
    "print(set_of_pdb_ids.intersection(set_of_pdb_ids_test))\n",
    "print(set_of_pdb_ids_val.intersection(set_of_pdb_ids_test))"
   ]
  },
  {
   "attachments": {},
   "cell_type": "markdown",
   "metadata": {},
   "source": [
    "### Dataset of just ligands"
   ]
  },
  {
   "cell_type": "code",
   "execution_count": 58,
   "metadata": {},
   "outputs": [],
   "source": [
    "import torch\n",
    "dataset = torch.load(\"../../datasetsprocessed/0920_dataset2016\")"
   ]
  },
  {
   "cell_type": "code",
   "execution_count": 50,
   "metadata": {},
   "outputs": [],
   "source": [
    "from torch_geometric import data"
   ]
  },
  {
   "cell_type": "code",
   "execution_count": 52,
   "metadata": {},
   "outputs": [],
   "source": [
    "for i,graph in enumerate(dataset):\n",
    "    index_nodes_ligand = torch.where(graph.x[:,0] == 1)[0]\n",
    "    x = graph.x[index_nodes_ligand]\n",
    "    pos = graph.pos[index_nodes_ligand]\n",
    "    index_edges_ligand = torch.where(torch.isin(graph.edge_index[0], index_nodes_ligand) & torch.isin(graph.edge_index[1], index_nodes_ligand))[0]\n",
    "    edge_index = graph.edge_index[:, index_edges_ligand]\n",
    "    edge_attr = graph.edge_attr[index_edges_ligand]\n",
    "    edge_attr = edge_attr[:, :13]\n",
    "    dataset.data_list[i] = data.Data(x=x, pos=pos, edge_index=edge_index, edge_attr=edge_attr, y=graph.y)"
   ]
  },
  {
   "cell_type": "code",
   "execution_count": 62,
   "metadata": {},
   "outputs": [],
   "source": [
    "for i,graph in enumerate(dataset):\n",
    "    index_nodes_protein = torch.where(graph.x[:,0] == 0)[0]\n",
    "    number_of_ligands = index_nodes_protein[0]\n",
    "    x = graph.x[index_nodes_protein]\n",
    "    pos = graph.pos[index_nodes_protein]\n",
    "    index_edges_protein = torch.where(torch.isin(graph.edge_index[0], index_nodes_protein) & torch.isin(graph.edge_index[1], index_nodes_protein))[0]\n",
    "    edge_index = graph.edge_index[:, index_edges_protein]\n",
    "    edge_index = edge_index - number_of_ligands\n",
    "    edge_attr = graph.edge_attr[index_edges_protein]\n",
    "    edge_attr = edge_attr[:, :13]\n",
    "    dataset.data_list[i] = data.Data(x=x, pos=pos, edge_index=edge_index, edge_attr=edge_attr, y=graph.y)"
   ]
  },
  {
   "cell_type": "code",
   "execution_count": 18,
   "metadata": {},
   "outputs": [],
   "source": [
    "import torch\n",
    "dataset = torch.load(\"../../datasetsprocessed/1017_pdbbind2016_ligand_only\")"
   ]
  },
  {
   "cell_type": "code",
   "execution_count": 19,
   "metadata": {},
   "outputs": [],
   "source": [
    "pdb_ids = []\n",
    "for graph in dataset:\n",
    "    pdb_ids.append(graph.y[1])"
   ]
  },
  {
   "cell_type": "code",
   "execution_count": 6,
   "metadata": {},
   "outputs": [],
   "source": [
    "from parsers import CASF_2016_core_set"
   ]
  },
  {
   "cell_type": "code",
   "execution_count": 20,
   "metadata": {},
   "outputs": [],
   "source": [
    "# remove CASF 2016 core set from pdb_ids\n",
    "pdb_ids_no_casf = []\n",
    "for pdb_id in pdb_ids:\n",
    "    if pdb_id not in CASF_2016_core_set:\n",
    "        pdb_ids_no_casf.append(pdb_id)"
   ]
  },
  {
   "cell_type": "code",
   "execution_count": 21,
   "metadata": {},
   "outputs": [],
   "source": [
    "dataset.remove_graph_by_ids(pdb_ids_no_casf)"
   ]
  },
  {
   "cell_type": "code",
   "execution_count": 23,
   "metadata": {},
   "outputs": [],
   "source": [
    "torch.save(dataset, \"../../datasetsprocessed/1017_pdbbind2016_ligand_core_set\")"
   ]
  },
  {
   "cell_type": "code",
   "execution_count": 22,
   "metadata": {},
   "outputs": [
    {
     "data": {
      "text/plain": [
       "GraphDataset(285)"
      ]
     },
     "execution_count": 22,
     "metadata": {},
     "output_type": "execute_result"
    }
   ],
   "source": [
    "dataset"
   ]
  },
  {
   "attachments": {},
   "cell_type": "markdown",
   "metadata": {},
   "source": [
    "## See what edges are geometric"
   ]
  },
  {
   "cell_type": "code",
   "execution_count": 1,
   "metadata": {},
   "outputs": [
    {
     "name": "stderr",
     "output_type": "stream",
     "text": [
      "/home/sofiaguerreiro/molecules-binding/.env/lib/python3.10/site-packages/tqdm/auto.py:21: TqdmWarning: IProgress not found. Please update jupyter and ipywidgets. See https://ipywidgets.readthedocs.io/en/stable/user_install.html\n",
      "  from .autonotebook import tqdm as notebook_tqdm\n",
      "/home/sofiaguerreiro/molecules-binding/.env/lib/python3.10/site-packages/torchmetrics/utilities/prints.py:43: UserWarning: Metric `SpearmanCorrcoef` will save all targets and predictions in the buffer. For large datasets, this may lead to large memory footprint.\n",
      "  warnings.warn(*args, **kwargs)  # noqa: B028\n"
     ]
    }
   ],
   "source": [
    "import torch\n",
    "dataset = torch.load(\"../../datasetsprocessed/0908_interactionNet_8_2016_final_chemical_feat\")"
   ]
  },
  {
   "cell_type": "code",
   "execution_count": 2,
   "metadata": {},
   "outputs": [],
   "source": [
    "graph = dataset[0]"
   ]
  },
  {
   "cell_type": "code",
   "execution_count": 5,
   "metadata": {},
   "outputs": [
    {
     "data": {
      "text/plain": [
       "tensor([[1.0000, 0.0000, 0.0000,  ..., 0.0000, 0.0000, 0.0000],\n",
       "        [1.0000, 0.0000, 0.0000,  ..., 0.0000, 0.0000, 0.0000],\n",
       "        [0.0000, 1.0000, 0.0000,  ..., 0.0000, 0.0000, 0.0000],\n",
       "        ...,\n",
       "        [0.0000, 0.0000, 0.0000,  ..., 0.0000, 0.0000, 0.6233],\n",
       "        [0.0000, 0.0000, 0.0000,  ..., 0.0000, 0.0000, 0.7635],\n",
       "        [0.0000, 0.0000, 0.0000,  ..., 0.0000, 0.0000, 0.7635]])"
      ]
     },
     "execution_count": 5,
     "metadata": {},
     "output_type": "execute_result"
    }
   ],
   "source": [
    "graph.edge_attr[:, :14]"
   ]
  },
  {
   "cell_type": "code",
   "execution_count": null,
   "metadata": {},
   "outputs": [],
   "source": []
  }
 ],
 "metadata": {
  "kernelspec": {
   "display_name": "env_mol_bind",
   "language": "python",
   "name": "python3"
  },
  "language_info": {
   "codemirror_mode": {
    "name": "ipython",
    "version": 3
   },
   "file_extension": ".py",
   "mimetype": "text/x-python",
   "name": "python",
   "nbconvert_exporter": "python",
   "pygments_lexer": "ipython3",
   "version": "3.10.12"
  },
  "orig_nbformat": 4
 },
 "nbformat": 4,
 "nbformat_minor": 2
}
