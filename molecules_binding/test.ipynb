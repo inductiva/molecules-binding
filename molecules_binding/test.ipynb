{
    "cells": [{
        "cell_type": "code",
        "execution_count": 1,
        "metadata": {},
        "outputs": [{
            "name":
                "stderr",
            "output_type":
                "stream",
            "text": [
                "/home/sofiaguerreiro/molecules-binding/env_mol_bind/lib/python3.10/site-packages/tqdm/auto.py:21: TqdmWarning: IProgress not found. Please update jupyter and ipywidgets. See https://ipywidgets.readthedocs.io/en/stable/user_install.html\n",
                "  from .autonotebook import tqdm as notebook_tqdm\n"
            ]
        }],
        "source": ["import torch"]
    }, {
        "cell_type":
            "code",
        "execution_count":
            7,
        "metadata": {},
        "outputs": [],
        "source": [
            "from torch import Tensor\n", "\n",
            "import torch_geometric.typing\n", "import torch_scatter\n", "\n",
            "\n",
            "def segment(src: Tensor, ptr: Tensor, reduce: str = 'sum') -> Tensor:\n",
            "    if not torch_geometric.typing.WITH_TORCH_SCATTER:\n",
            "        raise ImportError(\"'segment' requires the 'torch-scatter' package\")\n",
            "    return torch_scatter.segment_csr(src, ptr, reduce=reduce)"
        ]
    }, {
        "cell_type":
            "code",
        "execution_count":
            16,
        "metadata": {},
        "outputs": [],
        "source": [
            "from typing import Optional\n", "\n", "from torch import Tensor\n",
            "\n", "from torch_geometric.utils import scatter# , segment\n",
            "from torch_geometric.utils.num_nodes import maybe_num_nodes\n",
            "\n", "def softmax(\n", "    src: Tensor,\n",
            "    index: Optional[Tensor] = None,\n",
            "    ptr: Optional[Tensor] = None,\n",
            "    num_nodes: Optional[int] = None,\n", "    dim: int = 0,\n",
            ") -> Tensor:\n", "\n", "    if ptr is not None:\n",
            "        dim = dim + src.dim() if dim < 0 else dim\n",
            "        size = ([1] * dim) + [-1]\n",
            "        count = ptr[1:] - ptr[:-1]\n",
            "        ptr = ptr.view(size)\n",
            "        src_max = segment(src.detach(), ptr, reduce='max')\n",
            "        src_max = src_max.repeat_interleave(count, dim=dim)\n",
            "        out = (src - src_max).exp()\n",
            "        out_sum = segment(out, ptr, reduce='sum') + 1e-16\n",
            "        out_sum = out_sum.repeat_interleave(count, dim=dim)\n",
            "    elif index is not None:\n",
            "        N = maybe_num_nodes(index, num_nodes)\n",
            "        print(\"N is \", N)\n",
            "        src_max = scatter(src.detach(), index, dim, dim_size=N, reduce='max')\n",
            "        print(\"src_max is \", src_max)\n",
            "        out = src - src_max.index_select(dim, index)\n",
            "        print(\"out is \", out)\n", "        out = out.exp()\n",
            "        print(\"out is \", out)\n",
            "        out_sum = scatter(out, index, dim, dim_size=N, reduce='sum') + 1e-16\n",
            "        print(\"out_sum is \", out_sum)\n",
            "        out_sum = out_sum.index_select(dim, index)\n",
            "        print(\"out_sum is \", out_sum)\n", "    else:\n",
            "        raise NotImplementedError\n", "\n",
            "    return out / out_sum"
        ]
    }, {
        "cell_type":
            "code",
        "execution_count":
            19,
        "metadata": {},
        "outputs": [],
        "source": [
            "src = torch.as_tensor([3,1,1,1,1,1,2,1])\n",
            "index = torch.as_tensor([0,0,1,1,1,1,2,2])\n",
            "ptr = torch.as_tensor([0,2,6,8])"
        ]
    }, {
        "cell_type": "code",
        "execution_count": 20,
        "metadata": {},
        "outputs": [{
            "name":
                "stdout",
            "output_type":
                "stream",
            "text": [
                "N is  3\n", "src_max is  tensor([3, 1, 2])\n",
                "out is  tensor([ 0, -2,  0,  0,  0,  0,  0, -1])\n",
                "out is  tensor([1.0000, 0.1353, 1.0000, 1.0000, 1.0000, 1.0000, 1.0000, 0.3679])\n",
                "out_sum is  tensor([1.1353, 4.0000, 1.3679])\n",
                "out_sum is  tensor([1.1353, 1.1353, 4.0000, 4.0000, 4.0000, 4.0000, 1.3679, 1.3679])\n"
            ]
        }, {
            "data": {
                "text/plain": [
                    "tensor([0.8808, 0.1192, 0.2500, 0.2500, 0.2500, 0.2500, 0.7311, 0.2689])"
                ]
            },
            "execution_count": 20,
            "metadata": {},
            "output_type": "execute_result"
        }],
        "source": ["softmax(src, index)"]
    }, {
        "cell_type": "code",
        "execution_count": 22,
        "metadata": {},
        "outputs": [{
            "data": {
                "text/plain": ["0.8807970779778824"]
            },
            "execution_count": 22,
            "metadata": {},
            "output_type": "execute_result"
        }],
        "source": ["import numpy as np\n", "(np.exp(3))/(np.exp(3)+np.exp(1))"]
    }, {
        "cell_type": "code",
        "execution_count": null,
        "metadata": {},
        "outputs": [],
        "source": []
    }],
    "metadata": {
        "kernelspec": {
            "display_name": "env_mol_bind",
            "language": "python",
            "name": "python3"
        },
        "language_info": {
            "codemirror_mode": {
                "name": "ipython",
                "version": 3
            },
            "file_extension": ".py",
            "mimetype": "text/x-python",
            "name": "python",
            "nbconvert_exporter": "python",
            "pygments_lexer": "ipython3",
            "version": "3.10.8"
        },
        "orig_nbformat": 4
    },
    "nbformat": 4,
    "nbformat_minor": 2
}
