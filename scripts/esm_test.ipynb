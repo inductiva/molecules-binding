{
 "cells": [
  {
   "cell_type": "code",
   "execution_count": 1,
   "metadata": {},
   "outputs": [],
   "source": [
    "import pathlib\n",
    "import torch\n",
    "from absl import app\n",
    "from absl import flags\n",
    "import esm\n",
    "from esm import pretrained, MSATransformer, FastaBatchedDataset\n",
    "from tqdm import tqdm\n",
    "from Bio import PDB\n",
    "from typing import List"
   ]
  },
  {
   "cell_type": "code",
   "execution_count": 2,
   "metadata": {},
   "outputs": [],
   "source": [
    "from rdkit import Chem\n",
    "path_protein = \"../../dataset2016/1a4k/1a4k_protein.pdb\"\n",
    "path_pocket = \"../../dataset2016/1a4k/1a4k_pocket.pdb\""
   ]
  },
  {
   "attachments": {},
   "cell_type": "markdown",
   "metadata": {},
   "source": [
    "## Get sequence from protein"
   ]
  },
  {
   "cell_type": "code",
   "execution_count": 5,
   "metadata": {},
   "outputs": [],
   "source": [
    "pdb_parser = PDB.PDBParser(QUIET=True)\n",
    "structure = pdb_parser.get_structure(\"1a4k\", path_protein)\n",
    "ppb = PDB.PPBuilder()\n",
    "peptides = ppb.build_peptides(structure)\n",
    "polypeptide_sequences = [pp.get_sequence() for pp in peptides]"
   ]
  },
  {
   "cell_type": "code",
   "execution_count": 6,
   "metadata": {},
   "outputs": [
    {
     "name": "stdout",
     "output_type": "stream",
     "text": [
      "E ELVMTQTPLSLPVSLGDQASISCRSSQSLLHSNGNTYLHWYLQKPGQSPKLLIYKVSNRFSGVPDRFSGSGSGTDFTLKISRVEAEDLGVYFCSQVTHVPPTFGGGTKLEIKRTVAAPSVFIFPPSDEQLKSGTASVVCLLNNFYPREAKVQWKVDNALQSGNSQESVTEQDSKDSTYSLSSTLTLSKADYEKHKVYACEVTHQGLSSPVTKSFNRG\n"
     ]
    }
   ],
   "source": [
    "first_seq = polypeptide_sequences[0]\n",
    "element = first_seq[0]\n",
    "print(element, polypeptide_sequences[0])"
   ]
  },
  {
   "cell_type": "code",
   "execution_count": 7,
   "metadata": {},
   "outputs": [
    {
     "data": {
      "text/plain": [
       "'CYS'"
      ]
     },
     "execution_count": 7,
     "metadata": {},
     "output_type": "execute_result"
    }
   ],
   "source": [
    "PDB.Polypeptide.index_to_three(1)"
   ]
  },
  {
   "cell_type": "code",
   "execution_count": 17,
   "metadata": {},
   "outputs": [],
   "source": [
    "a = str(polypeptide_sequences[0])"
   ]
  },
  {
   "cell_type": "code",
   "execution_count": 16,
   "metadata": {},
   "outputs": [],
   "source": [
    "b = str(polypeptide_sequences[2])"
   ]
  },
  {
   "cell_type": "code",
   "execution_count": 11,
   "metadata": {},
   "outputs": [],
   "source": [
    "from nltk.metrics.distance import *"
   ]
  },
  {
   "cell_type": "code",
   "execution_count": 18,
   "metadata": {},
   "outputs": [
    {
     "data": {
      "text/plain": [
       "1"
      ]
     },
     "execution_count": 18,
     "metadata": {},
     "output_type": "execute_result"
    }
   ],
   "source": [
    "edit_distance(a, b)"
   ]
  },
  {
   "cell_type": "code",
   "execution_count": 19,
   "metadata": {},
   "outputs": [
    {
     "name": "stderr",
     "output_type": "stream",
     "text": [
      "/home/sofiaguerreiro/molecules-binding/.env/lib/python3.10/site-packages/Bio/PDB/Polypeptide.py:161: BiopythonDeprecationWarning: 'one_to_three' will be deprecated in a future release of Biopython in favor of 'Bio.PDB.Polypeptide.protein_letters_1to3'.\n",
      "  warnings.warn(\n"
     ]
    },
    {
     "data": {
      "text/plain": [
       "['GLU',\n",
       " 'LEU',\n",
       " 'VAL',\n",
       " 'MET',\n",
       " 'THR',\n",
       " 'GLN',\n",
       " 'THR',\n",
       " 'PRO',\n",
       " 'LEU',\n",
       " 'SER',\n",
       " 'LEU',\n",
       " 'PRO',\n",
       " 'VAL',\n",
       " 'SER',\n",
       " 'LEU',\n",
       " 'GLY',\n",
       " 'ASP',\n",
       " 'GLN',\n",
       " 'ALA',\n",
       " 'SER',\n",
       " 'ILE',\n",
       " 'SER',\n",
       " 'CYS',\n",
       " 'ARG',\n",
       " 'SER',\n",
       " 'SER',\n",
       " 'GLN',\n",
       " 'SER',\n",
       " 'LEU',\n",
       " 'LEU',\n",
       " 'HIS',\n",
       " 'SER',\n",
       " 'ASN',\n",
       " 'GLY',\n",
       " 'ASN',\n",
       " 'THR',\n",
       " 'TYR',\n",
       " 'LEU',\n",
       " 'HIS',\n",
       " 'TRP',\n",
       " 'TYR',\n",
       " 'LEU',\n",
       " 'GLN',\n",
       " 'LYS',\n",
       " 'PRO',\n",
       " 'GLY',\n",
       " 'GLN',\n",
       " 'SER',\n",
       " 'PRO',\n",
       " 'LYS',\n",
       " 'LEU',\n",
       " 'LEU',\n",
       " 'ILE',\n",
       " 'TYR',\n",
       " 'LYS',\n",
       " 'VAL',\n",
       " 'SER',\n",
       " 'ASN',\n",
       " 'ARG',\n",
       " 'PHE',\n",
       " 'SER',\n",
       " 'GLY',\n",
       " 'VAL',\n",
       " 'PRO',\n",
       " 'ASP',\n",
       " 'ARG',\n",
       " 'PHE',\n",
       " 'SER',\n",
       " 'GLY',\n",
       " 'SER',\n",
       " 'GLY',\n",
       " 'SER',\n",
       " 'GLY',\n",
       " 'THR',\n",
       " 'ASP',\n",
       " 'PHE',\n",
       " 'THR',\n",
       " 'LEU',\n",
       " 'LYS',\n",
       " 'ILE',\n",
       " 'SER',\n",
       " 'ARG',\n",
       " 'VAL',\n",
       " 'GLU',\n",
       " 'ALA',\n",
       " 'GLU',\n",
       " 'ASP',\n",
       " 'LEU',\n",
       " 'GLY',\n",
       " 'VAL',\n",
       " 'TYR',\n",
       " 'PHE',\n",
       " 'CYS',\n",
       " 'SER',\n",
       " 'GLN',\n",
       " 'VAL',\n",
       " 'THR',\n",
       " 'HIS',\n",
       " 'VAL',\n",
       " 'PRO',\n",
       " 'PRO',\n",
       " 'THR',\n",
       " 'PHE',\n",
       " 'GLY',\n",
       " 'GLY',\n",
       " 'GLY',\n",
       " 'THR',\n",
       " 'LYS',\n",
       " 'LEU',\n",
       " 'GLU',\n",
       " 'ILE',\n",
       " 'LYS',\n",
       " 'ARG',\n",
       " 'THR',\n",
       " 'VAL',\n",
       " 'ALA',\n",
       " 'ALA',\n",
       " 'PRO',\n",
       " 'SER',\n",
       " 'VAL',\n",
       " 'PHE',\n",
       " 'ILE',\n",
       " 'PHE',\n",
       " 'PRO',\n",
       " 'PRO',\n",
       " 'SER',\n",
       " 'ASP',\n",
       " 'GLU',\n",
       " 'GLN',\n",
       " 'LEU',\n",
       " 'LYS',\n",
       " 'SER',\n",
       " 'GLY',\n",
       " 'THR',\n",
       " 'ALA',\n",
       " 'SER',\n",
       " 'VAL',\n",
       " 'VAL',\n",
       " 'CYS',\n",
       " 'LEU',\n",
       " 'LEU',\n",
       " 'ASN',\n",
       " 'ASN',\n",
       " 'PHE',\n",
       " 'TYR',\n",
       " 'PRO',\n",
       " 'ARG',\n",
       " 'GLU',\n",
       " 'ALA',\n",
       " 'LYS',\n",
       " 'VAL',\n",
       " 'GLN',\n",
       " 'TRP',\n",
       " 'LYS',\n",
       " 'VAL',\n",
       " 'ASP',\n",
       " 'ASN',\n",
       " 'ALA',\n",
       " 'LEU',\n",
       " 'GLN',\n",
       " 'SER',\n",
       " 'GLY',\n",
       " 'ASN',\n",
       " 'SER',\n",
       " 'GLN',\n",
       " 'GLU',\n",
       " 'SER',\n",
       " 'VAL',\n",
       " 'THR',\n",
       " 'GLU',\n",
       " 'GLN',\n",
       " 'ASP',\n",
       " 'SER',\n",
       " 'LYS',\n",
       " 'ASP',\n",
       " 'SER',\n",
       " 'THR',\n",
       " 'TYR',\n",
       " 'SER',\n",
       " 'LEU',\n",
       " 'SER',\n",
       " 'SER',\n",
       " 'THR',\n",
       " 'LEU',\n",
       " 'THR',\n",
       " 'LEU',\n",
       " 'SER',\n",
       " 'LYS',\n",
       " 'ALA',\n",
       " 'ASP',\n",
       " 'TYR',\n",
       " 'GLU',\n",
       " 'LYS',\n",
       " 'HIS',\n",
       " 'LYS',\n",
       " 'VAL',\n",
       " 'TYR',\n",
       " 'ALA',\n",
       " 'CYS',\n",
       " 'GLU',\n",
       " 'VAL',\n",
       " 'THR',\n",
       " 'HIS',\n",
       " 'GLN',\n",
       " 'GLY',\n",
       " 'LEU',\n",
       " 'SER',\n",
       " 'SER',\n",
       " 'PRO',\n",
       " 'VAL',\n",
       " 'THR',\n",
       " 'LYS',\n",
       " 'SER',\n",
       " 'PHE',\n",
       " 'ASN',\n",
       " 'ARG']"
      ]
     },
     "execution_count": 19,
     "metadata": {},
     "output_type": "execute_result"
    }
   ],
   "source": [
    "l = []\n",
    "for i in polypeptide_sequences[2]:\n",
    "    l.append(PDB.Polypeptide.one_to_three(i))\n",
    "l"
   ]
  },
  {
   "cell_type": "code",
   "execution_count": 20,
   "metadata": {},
   "outputs": [
    {
     "name": "stdout",
     "output_type": "stream",
     "text": [
      "217\n",
      "217\n",
      "216\n",
      "219\n"
     ]
    }
   ],
   "source": [
    "for i in polypeptide_sequences:\n",
    "    print(len(i))"
   ]
  },
  {
   "cell_type": "code",
   "execution_count": null,
   "metadata": {},
   "outputs": [],
   "source": [
    "molecule = Chem.MolFromPDBFile(path_protein)\n"
   ]
  },
  {
   "attachments": {},
   "cell_type": "markdown",
   "metadata": {},
   "source": [
    "### Get residues numbers and residues ids"
   ]
  },
  {
   "cell_type": "code",
   "execution_count": 3,
   "metadata": {},
   "outputs": [],
   "source": [
    "from Bio import PDB\n",
    "parser = PDB.PDBParser(QUIET=True)\n",
    "structure = parser.get_structure(\"1a4k\", path_protein)"
   ]
  },
  {
   "cell_type": "code",
   "execution_count": 19,
   "metadata": {},
   "outputs": [
    {
     "name": "stdout",
     "output_type": "stream",
     "text": [
      "SER 10 ('1a4k', 0, 'A', (' ', 10, ' ')) <generator object Residue.get_atoms at 0x7fb12e7ff760>\n",
      "SER 14 ('1a4k', 0, 'A', (' ', 14, ' ')) <generator object Residue.get_atoms at 0x7fb12e7ff760>\n",
      "SER 20 ('1a4k', 0, 'A', (' ', 20, ' ')) <generator object Residue.get_atoms at 0x7fb12e7ff760>\n",
      "SER 22 ('1a4k', 0, 'A', (' ', 22, ' ')) <generator object Residue.get_atoms at 0x7fb12e7ff760>\n",
      "SER 25 ('1a4k', 0, 'A', (' ', 25, ' ')) <generator object Residue.get_atoms at 0x7fb12e7ff760>\n",
      "SER 26 ('1a4k', 0, 'A', (' ', 26, ' ')) <generator object Residue.get_atoms at 0x7fb12e7ff760>\n",
      "SER 1027 ('1a4k', 0, 'A', (' ', 1027, ' ')) <generator object Residue.get_atoms at 0x7fb12e7ff760>\n",
      "SER 5027 ('1a4k', 0, 'A', (' ', 5027, ' ')) <generator object Residue.get_atoms at 0x7fb12e7ff760>\n",
      "SER 43 ('1a4k', 0, 'A', (' ', 43, ' ')) <generator object Residue.get_atoms at 0x7fb12e7ff760>\n",
      "SER 52 ('1a4k', 0, 'A', (' ', 52, ' ')) <generator object Residue.get_atoms at 0x7fb12e7ff760>\n",
      "SER 56 ('1a4k', 0, 'A', (' ', 56, ' ')) <generator object Residue.get_atoms at 0x7fb12e7ff760>\n",
      "SER 63 ('1a4k', 0, 'A', (' ', 63, ' ')) <generator object Residue.get_atoms at 0x7fb12e7ff760>\n",
      "SER 65 ('1a4k', 0, 'A', (' ', 65, ' ')) <generator object Residue.get_atoms at 0x7fb12e7ff760>\n",
      "SER 67 ('1a4k', 0, 'A', (' ', 67, ' ')) <generator object Residue.get_atoms at 0x7fb12e7ff760>\n",
      "SER 76 ('1a4k', 0, 'A', (' ', 76, ' ')) <generator object Residue.get_atoms at 0x7fb12e7ff760>\n",
      "SER 89 ('1a4k', 0, 'A', (' ', 89, ' ')) <generator object Residue.get_atoms at 0x7fb12e7ff760>\n",
      "SER 114 ('1a4k', 0, 'A', (' ', 114, ' ')) <generator object Residue.get_atoms at 0x7fb12e7ff760>\n",
      "SER 121 ('1a4k', 0, 'A', (' ', 121, ' ')) <generator object Residue.get_atoms at 0x7fb12e7ff760>\n",
      "SER 127 ('1a4k', 0, 'A', (' ', 127, ' ')) <generator object Residue.get_atoms at 0x7fb12e7ff760>\n",
      "SER 131 ('1a4k', 0, 'A', (' ', 131, ' ')) <generator object Residue.get_atoms at 0x7fb12e7ff760>\n",
      "SER 156 ('1a4k', 0, 'A', (' ', 156, ' ')) <generator object Residue.get_atoms at 0x7fb12e7ff760>\n",
      "SER 159 ('1a4k', 0, 'A', (' ', 159, ' ')) <generator object Residue.get_atoms at 0x7fb12e7ff760>\n",
      "SER 162 ('1a4k', 0, 'A', (' ', 162, ' ')) <generator object Residue.get_atoms at 0x7fb12e7ff760>\n",
      "SER 168 ('1a4k', 0, 'A', (' ', 168, ' ')) <generator object Residue.get_atoms at 0x7fb12e7ff760>\n",
      "SER 171 ('1a4k', 0, 'A', (' ', 171, ' ')) <generator object Residue.get_atoms at 0x7fb12e7ff760>\n",
      "SER 174 ('1a4k', 0, 'A', (' ', 174, ' ')) <generator object Residue.get_atoms at 0x7fb12e7ff760>\n",
      "SER 176 ('1a4k', 0, 'A', (' ', 176, ' ')) <generator object Residue.get_atoms at 0x7fb12e7ff760>\n",
      "SER 177 ('1a4k', 0, 'A', (' ', 177, ' ')) <generator object Residue.get_atoms at 0x7fb12e7ff760>\n",
      "SER 182 ('1a4k', 0, 'A', (' ', 182, ' ')) <generator object Residue.get_atoms at 0x7fb12e7ff760>\n",
      "SER 202 ('1a4k', 0, 'A', (' ', 202, ' ')) <generator object Residue.get_atoms at 0x7fb12e7ff760>\n",
      "SER 203 ('1a4k', 0, 'A', (' ', 203, ' ')) <generator object Residue.get_atoms at 0x7fb12e7ff760>\n",
      "SER 208 ('1a4k', 0, 'A', (' ', 208, ' ')) <generator object Residue.get_atoms at 0x7fb12e7ff760>\n"
     ]
    }
   ],
   "source": [
    "model = structure[0]\n",
    "chain = model['A']\n",
    "residues = chain.get_residues()\n",
    "for residue in residues:\n",
    "    if residue.get_resname() == \"SER\":\n",
    "        print(residue.get_resname(), residue.get_id()[1], residue.get_full_id(), residue.get_atoms())\n",
    "    # print(residue.get_resname(), residue.get_id()[1], residue.get_full_id(), residue.get_atoms())"
   ]
  },
  {
   "attachments": {},
   "cell_type": "markdown",
   "metadata": {},
   "source": [
    "### For one atom find the corresponding residue"
   ]
  },
  {
   "cell_type": "code",
   "execution_count": 3,
   "metadata": {},
   "outputs": [],
   "source": [
    "def find_correct_element_of_chain(residue_name, residue_id, atom_symbol, atom_coords, structure):\n",
    "    for model in structure:\n",
    "        for i, chain in enumerate(model):\n",
    "            for j,residue in enumerate(chain):\n",
    "                if residue.get_resname() == residue_name and residue.get_id()[1] == residue_id:\n",
    "                    for atom in residue:\n",
    "                        if atom.element == atom_symbol:\n",
    "                            if (atom.get_coord() - atom_coords < 0.1).all():\n",
    "                                return i,j\n",
    "    return None, None"
   ]
  },
  {
   "cell_type": "code",
   "execution_count": 114,
   "metadata": {},
   "outputs": [
    {
     "name": "stdout",
     "output_type": "stream",
     "text": [
      "[35.6340011  48.51599884 -1.04699998]\n",
      "[36.35600122 48.15100098 -2.32800011]\n",
      "[34.57499918 47.45999908 -0.74699979]\n",
      "[35.14299997 46.15699768 -0.28700023]\n",
      "[35.58800348 45.08399963 -0.98000006]\n",
      "[35.79800256 44.625       1.15400024]\n",
      "[ 3.20434570e-07  0.00000000e+00 -4.57763676e-08]\n"
     ]
    },
    {
     "data": {
      "text/plain": [
       "(2, 30)"
      ]
     },
     "execution_count": 114,
     "metadata": {},
     "output_type": "execute_result"
    }
   ],
   "source": [
    "find_correct_element_of_chain(\"HIS\", 4027, \"C\", coords[1], structure)"
   ]
  },
  {
   "attachments": {},
   "cell_type": "markdown",
   "metadata": {},
   "source": [
    "### For each atom in the pocket find the corresponding chains and residues"
   ]
  },
  {
   "cell_type": "code",
   "execution_count": 4,
   "metadata": {},
   "outputs": [],
   "source": [
    "molecule = Chem.MolFromPDBFile(path_pocket, flavor=2, sanitize=True, removeHs=True)\n",
    "conformer = molecule.GetConformer(0)\n",
    "coords = conformer.GetPositions()"
   ]
  },
  {
   "cell_type": "code",
   "execution_count": 12,
   "metadata": {},
   "outputs": [
    {
     "name": "stdout",
     "output_type": "stream",
     "text": [
      "[(2, 30), (2, 30), (2, 30), (2, 30), (2, 30), (2, 30), (2, 30), (2, 30), (2, 30), (2, 30), (2, 32), (2, 32), (2, 32), (2, 32), (2, 32), (2, 32), (2, 32), (2, 32), (2, 36), (2, 36), (2, 36), (2, 36), (2, 36), (2, 36), (2, 36), (2, 36), (2, 36), (2, 36), (2, 36), (2, 36), (2, 38), (2, 38), (2, 38), (2, 38), (2, 38), (2, 38), (2, 38), (2, 38), (2, 38), (2, 38), (2, 40), (2, 40), (2, 40), (2, 40), (2, 40), (2, 40), (2, 40), (2, 40), (2, 40), (2, 40), (2, 40), (2, 40), (2, 94), (2, 94), (2, 94), (2, 94), (2, 94), (2, 94), (2, 94), (2, 94), (2, 94), (2, 95), (2, 95), (2, 95), (2, 95), (2, 95), (2, 95), (2, 95), (2, 96), (2, 96), (2, 96), (2, 96), (2, 96), (2, 96), (2, 96), (2, 97), (2, 97), (2, 97), (2, 97), (2, 97), (2, 97), (2, 97), (2, 97), (2, 97), (2, 97), (2, 98), (2, 98), (2, 98), (2, 98), (2, 98), (2, 98), (2, 98), (2, 99), (2, 99), (2, 99), (2, 99), (2, 99), (2, 99), (2, 99), (2, 100), (2, 100), (2, 100), (2, 100), (2, 100), (2, 100), (2, 100), (3, 27), (3, 27), (3, 27), (3, 27), (3, 27), (3, 27), (3, 27), (3, 28), (3, 28), (3, 28), (3, 28), (3, 28), (3, 28), (3, 28), (3, 28), (3, 28), (3, 28), (3, 28), (3, 29), (3, 29), (3, 29), (3, 29), (3, 29), (3, 29), (3, 29), (3, 30), (3, 30), (3, 30), (3, 30), (3, 30), (3, 30), (3, 30), (3, 30), (3, 31), (3, 31), (3, 31), (3, 31), (3, 31), (3, 31), (3, 31), (3, 31), (3, 31), (3, 31), (3, 31), (3, 31), (3, 32), (3, 32), (3, 32), (3, 32), (3, 33), (3, 33), (3, 33), (3, 33), (3, 33), (3, 33), (3, 33), (3, 33), (3, 34), (3, 34), (3, 34), (3, 34), (3, 34), (3, 34), (3, 34), (3, 34), (3, 35), (3, 35), (3, 35), (3, 35), (3, 35), (3, 35), (3, 35), (3, 35), (3, 35), (3, 35), (3, 35), (3, 35), (3, 35), (3, 35), (3, 46), (3, 46), (3, 46), (3, 46), (3, 46), (3, 46), (3, 46), (3, 46), (3, 46), (3, 46), (3, 46), (3, 46), (3, 46), (3, 46), (3, 48), (3, 48), (3, 48), (3, 48), (3, 49), (3, 49), (3, 49), (3, 49), (3, 49), (3, 49), (3, 49), (3, 49), (3, 49), (3, 49), (3, 49), (3, 49), (3, 49), (3, 49), (3, 50), (3, 50), (3, 50), (3, 50), (3, 50), (3, 50), (3, 50), (3, 50), (3, 51), (3, 51), (3, 51), (3, 51), (3, 51), (3, 51), (3, 51), (3, 51), (3, 52), (3, 52), (3, 52), (3, 52), (3, 52), (3, 52), (3, 52), (3, 53), (3, 53), (3, 53), (3, 53), (3, 53), (3, 53), (3, 53), (3, 53), (3, 53), (3, 53), (3, 53), (3, 53), (3, 54), (3, 54), (3, 54), (3, 54), (3, 54), (3, 54), (3, 54), (3, 58), (3, 58), (3, 58), (3, 58), (3, 58), (3, 58), (3, 58), (3, 96), (3, 96), (3, 96), (3, 96), (3, 96), (3, 96), (3, 96), (3, 97), (3, 97), (3, 97), (3, 97), (3, 97), (3, 97), (3, 97), (3, 97), (3, 97), (3, 98), (3, 98), (3, 98), (3, 98), (3, 98), (3, 99), (3, 99), (3, 99), (3, 99), (3, 99), (3, 99), (3, 99), (3, 99), (3, 99), (3, 100), (3, 100), (3, 100), (3, 100), (3, 100), (3, 100), (3, 100), (3, 100), (3, 100), (3, 100), (3, 100), (3, 101), (3, 101), (3, 101), (3, 101), (3, 101), (3, 101), (3, 101), (3, 101), (3, 102), (3, 102), (3, 102), (3, 102), (3, 102), (3, 102), (3, 102), (3, 102), (3, 102), (3, 102), (3, 102), (3, 103), (3, 103), (3, 103), (3, 103), (3, 103), (3, 103), (3, 103), (3, 103), (3, 103), (3, 103), (3, 103), (3, 104), (3, 104), (3, 104), (3, 104), (3, 104), (3, 104), (3, 104), (3, 105), (3, 105), (3, 105), (3, 105), (3, 105), (3, 105), (3, 105), (3, 105), (3, 105), (3, 105), (3, 105), (3, 106), (3, 106), (3, 106), (3, 106), (3, 106), (3, 106), (3, 106), (3, 106), (4, 137), (4, 175), (4, 182), (4, 204), (4, 208), (4, 210), (4, 211), (4, 214)]\n"
     ]
    }
   ],
   "source": [
    "correct_chain_residue = []\n",
    "for n, atom in enumerate(molecule.GetAtoms()):\n",
    "    atom_coord = coords[n]\n",
    "    atom_symbol = atom.GetSymbol()\n",
    "    atom_res = atom.GetPDBResidueInfo()\n",
    "    atom_res_name = atom_res.GetResidueName()\n",
    "    atom_res_id = atom_res.GetResidueNumber()\n",
    "    (i, j) = find_correct_element_of_chain(atom_res_name, atom_res_id, atom_symbol, atom_coord, structure)\n",
    "    correct_chain_residue.append((i, j))\n",
    "print(correct_chain_residue)"
   ]
  },
  {
   "cell_type": "code",
   "execution_count": 22,
   "metadata": {},
   "outputs": [
    {
     "name": "stdout",
     "output_type": "stream",
     "text": [
      "0 HIS HIS\n",
      "1 HIS HIS\n",
      "2 HIS HIS\n",
      "3 HIS HIS\n",
      "4 HIS HIS\n",
      "5 HIS HIS\n",
      "6 HIS HIS\n",
      "7 HIS HIS\n",
      "8 HIS HIS\n",
      "9 HIS HIS\n",
      "10 ASN ASN\n",
      "11 ASN ASN\n",
      "12 ASN ASN\n",
      "13 ASN ASN\n",
      "14 ASN ASN\n",
      "15 ASN ASN\n",
      "16 ASN ASN\n",
      "17 ASN ASN\n",
      "18 TYR TYR\n",
      "19 TYR TYR\n",
      "20 TYR TYR\n",
      "21 TYR TYR\n",
      "22 TYR TYR\n",
      "23 TYR TYR\n",
      "24 TYR TYR\n",
      "25 TYR TYR\n",
      "26 TYR TYR\n",
      "27 TYR TYR\n",
      "28 TYR TYR\n",
      "29 TYR TYR\n",
      "30 HIS HIS\n",
      "31 HIS HIS\n",
      "32 HIS HIS\n",
      "33 HIS HIS\n",
      "34 HIS HIS\n",
      "35 HIS HIS\n",
      "36 HIS HIS\n",
      "37 HIS HIS\n",
      "38 HIS HIS\n",
      "39 HIS HIS\n",
      "40 TYR TYR\n",
      "41 TYR TYR\n",
      "42 TYR TYR\n",
      "43 TYR TYR\n",
      "44 TYR TYR\n",
      "45 TYR TYR\n",
      "46 TYR TYR\n",
      "47 TYR TYR\n",
      "48 TYR TYR\n",
      "49 TYR TYR\n",
      "50 TYR TYR\n",
      "51 TYR TYR\n",
      "52 GLN GLN\n",
      "53 GLN GLN\n",
      "54 GLN GLN\n",
      "55 GLN GLN\n",
      "56 GLN GLN\n",
      "57 GLN GLN\n",
      "58 GLN GLN\n",
      "59 GLN GLN\n",
      "60 GLN GLN\n",
      "61 VAL VAL\n",
      "62 VAL VAL\n",
      "63 VAL VAL\n",
      "64 VAL VAL\n",
      "65 VAL VAL\n",
      "66 VAL VAL\n",
      "67 VAL VAL\n",
      "68 THR THR\n",
      "69 THR THR\n",
      "70 THR THR\n",
      "71 THR THR\n",
      "72 THR THR\n",
      "73 THR THR\n",
      "74 THR THR\n",
      "75 HIS HIS\n",
      "76 HIS HIS\n",
      "77 HIS HIS\n",
      "78 HIS HIS\n",
      "79 HIS HIS\n",
      "80 HIS HIS\n",
      "81 HIS HIS\n",
      "82 HIS HIS\n",
      "83 HIS HIS\n",
      "84 HIS HIS\n",
      "85 VAL VAL\n",
      "86 VAL VAL\n",
      "87 VAL VAL\n",
      "88 VAL VAL\n",
      "89 VAL VAL\n",
      "90 VAL VAL\n",
      "91 VAL VAL\n",
      "92 PRO PRO\n",
      "93 PRO PRO\n",
      "94 PRO PRO\n",
      "95 PRO PRO\n",
      "96 PRO PRO\n",
      "97 PRO PRO\n",
      "98 PRO PRO\n",
      "99 PRO PRO\n",
      "100 PRO PRO\n",
      "101 PRO PRO\n",
      "102 PRO PRO\n",
      "103 PRO PRO\n",
      "104 PRO PRO\n",
      "105 PRO PRO\n",
      "106 THR THR\n",
      "107 THR THR\n",
      "108 THR THR\n",
      "109 THR THR\n",
      "110 THR THR\n",
      "111 THR THR\n",
      "112 THR THR\n",
      "113 PHE PHE\n",
      "114 PHE PHE\n",
      "115 PHE PHE\n",
      "116 PHE PHE\n",
      "117 PHE PHE\n",
      "118 PHE PHE\n",
      "119 PHE PHE\n",
      "120 PHE PHE\n",
      "121 PHE PHE\n",
      "122 PHE PHE\n",
      "123 PHE PHE\n",
      "124 THR THR\n",
      "125 THR THR\n",
      "126 THR THR\n",
      "127 THR THR\n",
      "128 THR THR\n",
      "129 THR THR\n",
      "130 THR THR\n",
      "131 ASN ASN\n",
      "132 ASN ASN\n",
      "133 ASN ASN\n",
      "134 ASN ASN\n",
      "135 ASN ASN\n",
      "136 ASN ASN\n",
      "137 ASN ASN\n",
      "138 ASN ASN\n",
      "139 TYR TYR\n",
      "140 TYR TYR\n",
      "141 TYR TYR\n",
      "142 TYR TYR\n",
      "143 TYR TYR\n",
      "144 TYR TYR\n",
      "145 TYR TYR\n",
      "146 TYR TYR\n",
      "147 TYR TYR\n",
      "148 TYR TYR\n",
      "149 TYR TYR\n",
      "150 TYR TYR\n",
      "151 GLY GLY\n",
      "152 GLY GLY\n",
      "153 GLY GLY\n",
      "154 GLY GLY\n",
      "155 MET MET\n",
      "156 MET MET\n",
      "157 MET MET\n",
      "158 MET MET\n",
      "159 MET MET\n",
      "160 MET MET\n",
      "161 MET MET\n",
      "162 MET MET\n",
      "163 ASN ASN\n",
      "164 ASN ASN\n",
      "165 ASN ASN\n",
      "166 ASN ASN\n",
      "167 ASN ASN\n",
      "168 ASN ASN\n",
      "169 ASN ASN\n",
      "170 ASN ASN\n",
      "171 TRP TRP\n",
      "172 TRP TRP\n",
      "173 TRP TRP\n",
      "174 TRP TRP\n",
      "175 TRP TRP\n",
      "176 TRP TRP\n",
      "177 TRP TRP\n",
      "178 TRP TRP\n",
      "179 TRP TRP\n",
      "180 TRP TRP\n",
      "181 TRP TRP\n",
      "182 TRP TRP\n",
      "183 TRP TRP\n",
      "184 TRP TRP\n",
      "185 TRP TRP\n",
      "186 TRP TRP\n",
      "187 TRP TRP\n",
      "188 TRP TRP\n",
      "189 TRP TRP\n",
      "190 TRP TRP\n",
      "191 TRP TRP\n",
      "192 TRP TRP\n",
      "193 TRP TRP\n",
      "194 TRP TRP\n",
      "195 TRP TRP\n",
      "196 TRP TRP\n",
      "197 TRP TRP\n",
      "198 TRP TRP\n",
      "199 GLY GLY\n",
      "200 GLY GLY\n",
      "201 GLY GLY\n",
      "202 GLY GLY\n",
      "203 TRP TRP\n",
      "204 TRP TRP\n",
      "205 TRP TRP\n",
      "206 TRP TRP\n",
      "207 TRP TRP\n",
      "208 TRP TRP\n",
      "209 TRP TRP\n",
      "210 TRP TRP\n",
      "211 TRP TRP\n",
      "212 TRP TRP\n",
      "213 TRP TRP\n",
      "214 TRP TRP\n",
      "215 TRP TRP\n",
      "216 TRP TRP\n",
      "217 ILE ILE\n",
      "218 ILE ILE\n",
      "219 ILE ILE\n",
      "220 ILE ILE\n",
      "221 ILE ILE\n",
      "222 ILE ILE\n",
      "223 ILE ILE\n",
      "224 ILE ILE\n",
      "225 ASN ASN\n",
      "226 ASN ASN\n",
      "227 ASN ASN\n",
      "228 ASN ASN\n",
      "229 ASN ASN\n",
      "230 ASN ASN\n",
      "231 ASN ASN\n",
      "232 ASN ASN\n",
      "233 THR THR\n",
      "234 THR THR\n",
      "235 THR THR\n",
      "236 THR THR\n",
      "237 THR THR\n",
      "238 THR THR\n",
      "239 THR THR\n",
      "240 TYR TYR\n",
      "241 TYR TYR\n",
      "242 TYR TYR\n",
      "243 TYR TYR\n",
      "244 TYR TYR\n",
      "245 TYR TYR\n",
      "246 TYR TYR\n",
      "247 TYR TYR\n",
      "248 TYR TYR\n",
      "249 TYR TYR\n",
      "250 TYR TYR\n",
      "251 TYR TYR\n",
      "252 THR THR\n",
      "253 THR THR\n",
      "254 THR THR\n",
      "255 THR THR\n",
      "256 THR THR\n",
      "257 THR THR\n",
      "258 THR THR\n",
      "259 THR THR\n",
      "260 THR THR\n",
      "261 THR THR\n",
      "262 THR THR\n",
      "263 THR THR\n",
      "264 THR THR\n",
      "265 THR THR\n",
      "266 VAL VAL\n",
      "267 VAL VAL\n",
      "268 VAL VAL\n",
      "269 VAL VAL\n",
      "270 VAL VAL\n",
      "271 VAL VAL\n",
      "272 VAL VAL\n",
      "273 GLN GLN\n",
      "274 GLN GLN\n",
      "275 GLN GLN\n",
      "276 GLN GLN\n",
      "277 GLN GLN\n",
      "278 GLN GLN\n",
      "279 GLN GLN\n",
      "280 GLN GLN\n",
      "281 GLN GLN\n",
      "282 ALA ALA\n",
      "283 ALA ALA\n",
      "284 ALA ALA\n",
      "285 ALA ALA\n",
      "286 ALA ALA\n",
      "287 GLU GLU\n",
      "288 GLU GLU\n",
      "289 GLU GLU\n",
      "290 GLU GLU\n",
      "291 GLU GLU\n",
      "292 GLU GLU\n",
      "293 GLU GLU\n",
      "294 GLU GLU\n",
      "295 GLU GLU\n",
      "296 ARG ARG\n",
      "297 ARG ARG\n",
      "298 ARG ARG\n",
      "299 ARG ARG\n",
      "300 ARG ARG\n",
      "301 ARG ARG\n",
      "302 ARG ARG\n",
      "303 ARG ARG\n",
      "304 ARG ARG\n",
      "305 ARG ARG\n",
      "306 ARG ARG\n",
      "307 LEU LEU\n",
      "308 LEU LEU\n",
      "309 LEU LEU\n",
      "310 LEU LEU\n",
      "311 LEU LEU\n",
      "312 LEU LEU\n",
      "313 LEU LEU\n",
      "314 LEU LEU\n",
      "315 ARG ARG\n",
      "316 ARG ARG\n",
      "317 ARG ARG\n",
      "318 ARG ARG\n",
      "319 ARG ARG\n",
      "320 ARG ARG\n",
      "321 ARG ARG\n",
      "322 ARG ARG\n",
      "323 ARG ARG\n",
      "324 ARG ARG\n",
      "325 ARG ARG\n",
      "326 ARG ARG\n",
      "327 ARG ARG\n",
      "328 ARG ARG\n",
      "329 ARG ARG\n",
      "330 ARG ARG\n",
      "331 ARG ARG\n",
      "332 ARG ARG\n",
      "333 ARG ARG\n",
      "334 ARG ARG\n",
      "335 ARG ARG\n",
      "336 ARG ARG\n",
      "337 THR THR\n",
      "338 THR THR\n",
      "339 THR THR\n",
      "340 THR THR\n",
      "341 THR THR\n",
      "342 THR THR\n",
      "343 THR THR\n",
      "344 PHE PHE\n",
      "345 PHE PHE\n",
      "346 PHE PHE\n",
      "347 PHE PHE\n",
      "348 PHE PHE\n",
      "349 PHE PHE\n",
      "350 PHE PHE\n",
      "351 PHE PHE\n",
      "352 PHE PHE\n",
      "353 PHE PHE\n",
      "354 PHE PHE\n",
      "355 ASP ASP\n",
      "356 ASP ASP\n",
      "357 ASP ASP\n",
      "358 ASP ASP\n",
      "359 ASP ASP\n",
      "360 ASP ASP\n",
      "361 ASP ASP\n",
      "362 ASP ASP\n",
      "363 we are in water\n",
      "364 we are in water\n",
      "365 we are in water\n",
      "366 we are in water\n",
      "367 we are in water\n",
      "368 we are in water\n",
      "369 we are in water\n",
      "370 we are in water\n"
     ]
    },
    {
     "name": "stderr",
     "output_type": "stream",
     "text": [
      "/home/sofiaguerreiro/molecules-binding/.env/lib/python3.10/site-packages/Bio/PDB/Polypeptide.py:161: BiopythonDeprecationWarning: 'one_to_three' will be deprecated in a future release of Biopython in favor of 'Bio.PDB.Polypeptide.protein_letters_1to3'.\n",
      "  warnings.warn(\n"
     ]
    }
   ],
   "source": [
    "for i, atom in enumerate(molecule.GetAtoms()):\n",
    "    chain, residue = correct_chain_residue[i]\n",
    "    if len(seqs) > chain:\n",
    "        res = seqs[chain][residue]\n",
    "        print(i, PDB.Polypeptide.one_to_three(res), atom.GetPDBResidueInfo().GetResidueName())\n",
    "    else:\n",
    "        print(i, \"we are in water\")"
   ]
  },
  {
   "cell_type": "code",
   "execution_count": 5,
   "metadata": {},
   "outputs": [],
   "source": [
    "def pdb_to_sequences(pdb_filepath: str) -> List[str]:\n",
    "    pdb_parser = PDB.PDBParser(QUIET=True)\n",
    "    structure = pdb_parser.get_structure(\"X\", pdb_filepath)\n",
    "    # Using C-N\n",
    "    ppb = PDB.PPBuilder()\n",
    "    polypeptide_sequences = [\n",
    "        str(pp.get_sequence()) for pp in ppb.build_peptides(structure)\n",
    "    ]\n",
    "    return polypeptide_sequences"
   ]
  },
  {
   "cell_type": "code",
   "execution_count": 6,
   "metadata": {},
   "outputs": [
    {
     "data": {
      "text/plain": [
       "['ELVMTQTPLSLPVSLGDQASISCRSSQSLLHSNGNTYLHWYLQKPGQSPKLLIYKVSNRFSGVPDRFSGSGSGTDFTLKISRVEAEDLGVYFCSQVTHVPPTFGGGTKLEIKRTVAAPSVFIFPPSDEQLKSGTASVVCLLNNFYPREAKVQWKVDNALQSGNSQESVTEQDSKDSTYSLSSTLTLSKADYEKHKVYACEVTHQGLSSPVTKSFNRG',\n",
       " 'QVQLLESGPELKKPGETVKISCKASGYTFTNYGMNWVKQAPGKGLKWMGWINTYTGEPTYADDFKGRFAFSLETSASTAYLQINNLKNEDTATYFCVQAERLRRTFDYWGAGTTVTVSSASTKGPSVFPLAPSSKSTSGGTAALGCLVKDYFPEPVTVSWNSGALTSGVHTFPAVLQSSGLYSLSSVVTVPSSSLGTQTYICNVNHKPSNTKVDKKV',\n",
       " 'ELVMTQTPLSLPVSLGDQASISCRSSQSLLHSNGNTYLHWYLQKPGQSPKLLIYKVSNRFSGVPDRFSGSGSGTDFTLKISRVEAEDLGVYFCSQVTHVPPTFGGGTKLEIKRTVAAPSVFIFPPSDEQLKSGTASVVCLLNNFYPREAKVQWKVDNALQSGNSQESVTEQDSKDSTYSLSSTLTLSKADYEKHKVYACEVTHQGLSSPVTKSFNR',\n",
       " 'QVQLLESGPELKKPGETVKISCKASGYTFTNYGMNWVKQAPGKGLKWMGWINTYTGEPTYADDFKGRFAFSLETSASTAYLQINNLKNEDTATYFCVQAERLRRTFDYWGAGTTVTVSSASTKGPSVFPLAPSSKSTSGGTAALGCLVKDYFPEPVTVSWNSGALTSGVHTFPAVLQSSGLYSLSSVVTVPSSSLGTQTYICNVNHKPSNTKVDKKVEP']"
      ]
     },
     "execution_count": 6,
     "metadata": {},
     "output_type": "execute_result"
    }
   ],
   "source": [
    "seqs = pdb_to_sequences(path_protein)\n",
    "seqs"
   ]
  },
  {
   "cell_type": "code",
   "execution_count": 151,
   "metadata": {},
   "outputs": [
    {
     "data": {
      "text/plain": [
       "'H'"
      ]
     },
     "execution_count": 151,
     "metadata": {},
     "output_type": "execute_result"
    }
   ],
   "source": [
    "seqs[2][30]"
   ]
  },
  {
   "cell_type": "code",
   "execution_count": 155,
   "metadata": {},
   "outputs": [
    {
     "data": {
      "text/plain": [
       "'ASN'"
      ]
     },
     "execution_count": 155,
     "metadata": {},
     "output_type": "execute_result"
    }
   ],
   "source": [
    "PDB.Polypeptide.one_to_three(seqs[2][32])"
   ]
  },
  {
   "cell_type": "code",
   "execution_count": 148,
   "metadata": {},
   "outputs": [
    {
     "name": "stdout",
     "output_type": "stream",
     "text": [
      "['ELVMTQTPLSLPVSLGDQASISCRSSQSLLHSNGNTYLHWYLQKPGQSPKLLIYKVSNRFSGVPDRFSGSGSGTDFTLKISRVEAEDLGVYFCSQVTHVPPTFGGGTKLEIKRTVAAPSVFIFPPSDEQLKSGTASVVCLLNNFYPREAKVQWKVDNALQSGNSQESVTEQDSKDSTYSLSSTLTLSKADYEKHKVYACEVTHQGLSSPVTKSFNRG']\n",
      "['ELVMTQTPLSLPVSLGDQASISCRSSQSLLHSNGNTYLHWYLQKPGQSPKLLIYKVSNRFSGVPDRFSGSGSGTDFTLKISRVEAEDLGVYFCSQVTHVPPTFGGGTKLEIKRTVAAPSVFIFPPSDEQLKSGTASVVCLLNNFYPREAKVQWKVDNALQSGNSQESVTEQDSKDSTYSLSSTLTLSKADYEKHKVYACEVTHQGLSSPVTKSFNRG', 'QVQLLESGPELKKPGETVKISCKASGYTFTNYGMNWVKQAPGKGLKWMGWINTYTGEPTYADDFKGRFAFSLETSASTAYLQINNLKNEDTATYFCVQAERLRRTFDYWGAGTTVTVSSASTKGPSVFPLAPSSKSTSGGTAALGCLVKDYFPEPVTVSWNSGALTSGVHTFPAVLQSSGLYSLSSVVTVPSSSLGTQTYICNVNHKPSNTKVDKKV']\n",
      "['ELVMTQTPLSLPVSLGDQASISCRSSQSLLHSNGNTYLHWYLQKPGQSPKLLIYKVSNRFSGVPDRFSGSGSGTDFTLKISRVEAEDLGVYFCSQVTHVPPTFGGGTKLEIKRTVAAPSVFIFPPSDEQLKSGTASVVCLLNNFYPREAKVQWKVDNALQSGNSQESVTEQDSKDSTYSLSSTLTLSKADYEKHKVYACEVTHQGLSSPVTKSFNRG', 'QVQLLESGPELKKPGETVKISCKASGYTFTNYGMNWVKQAPGKGLKWMGWINTYTGEPTYADDFKGRFAFSLETSASTAYLQINNLKNEDTATYFCVQAERLRRTFDYWGAGTTVTVSSASTKGPSVFPLAPSSKSTSGGTAALGCLVKDYFPEPVTVSWNSGALTSGVHTFPAVLQSSGLYSLSSVVTVPSSSLGTQTYICNVNHKPSNTKVDKKV', 'ELVMTQTPLSLPVSLGDQASISCRSSQSLLHSNGNTYLHWYLQKPGQSPKLLIYKVSNRFSGVPDRFSGSGSGTDFTLKISRVEAEDLGVYFCSQVTHVPPTFGGGTKLEIKRTVAAPSVFIFPPSDEQLKSGTASVVCLLNNFYPREAKVQWKVDNALQSGNSQESVTEQDSKDSTYSLSSTLTLSKADYEKHKVYACEVTHQGLSSPVTKSFNR']\n",
      "['ELVMTQTPLSLPVSLGDQASISCRSSQSLLHSNGNTYLHWYLQKPGQSPKLLIYKVSNRFSGVPDRFSGSGSGTDFTLKISRVEAEDLGVYFCSQVTHVPPTFGGGTKLEIKRTVAAPSVFIFPPSDEQLKSGTASVVCLLNNFYPREAKVQWKVDNALQSGNSQESVTEQDSKDSTYSLSSTLTLSKADYEKHKVYACEVTHQGLSSPVTKSFNRG', 'QVQLLESGPELKKPGETVKISCKASGYTFTNYGMNWVKQAPGKGLKWMGWINTYTGEPTYADDFKGRFAFSLETSASTAYLQINNLKNEDTATYFCVQAERLRRTFDYWGAGTTVTVSSASTKGPSVFPLAPSSKSTSGGTAALGCLVKDYFPEPVTVSWNSGALTSGVHTFPAVLQSSGLYSLSSVVTVPSSSLGTQTYICNVNHKPSNTKVDKKV', 'ELVMTQTPLSLPVSLGDQASISCRSSQSLLHSNGNTYLHWYLQKPGQSPKLLIYKVSNRFSGVPDRFSGSGSGTDFTLKISRVEAEDLGVYFCSQVTHVPPTFGGGTKLEIKRTVAAPSVFIFPPSDEQLKSGTASVVCLLNNFYPREAKVQWKVDNALQSGNSQESVTEQDSKDSTYSLSSTLTLSKADYEKHKVYACEVTHQGLSSPVTKSFNR', 'QVQLLESGPELKKPGETVKISCKASGYTFTNYGMNWVKQAPGKGLKWMGWINTYTGEPTYADDFKGRFAFSLETSASTAYLQINNLKNEDTATYFCVQAERLRRTFDYWGAGTTVTVSSASTKGPSVFPLAPSSKSTSGGTAALGCLVKDYFPEPVTVSWNSGALTSGVHTFPAVLQSSGLYSLSSVVTVPSSSLGTQTYICNVNHKPSNTKVDKKVEP']\n"
     ]
    },
    {
     "ename": "KeyError",
     "evalue": "'CD'",
     "output_type": "error",
     "traceback": [
      "\u001b[0;31m---------------------------------------------------------------------------\u001b[0m",
      "\u001b[0;31mKeyError\u001b[0m                                  Traceback (most recent call last)",
      "Cell \u001b[0;32mIn[148], line 8\u001b[0m\n\u001b[1;32m      6\u001b[0m ll \u001b[39m=\u001b[39m \u001b[39mstr\u001b[39m()\n\u001b[1;32m      7\u001b[0m \u001b[39mfor\u001b[39;00m j,residue \u001b[39min\u001b[39;00m \u001b[39menumerate\u001b[39m(chain):\n\u001b[0;32m----> 8\u001b[0m     ll \u001b[39m+\u001b[39m\u001b[39m=\u001b[39m PDB\u001b[39m.\u001b[39;49mPolypeptide\u001b[39m.\u001b[39;49mprotein_letters_3to1[residue\u001b[39m.\u001b[39;49mget_resname()]\n\u001b[1;32m      9\u001b[0m l\u001b[39m.\u001b[39mappend(ll)\n\u001b[1;32m     10\u001b[0m \u001b[39mprint\u001b[39m(l)\n",
      "\u001b[0;31mKeyError\u001b[0m: 'CD'"
     ]
    }
   ],
   "source": [
    "l = []\n",
    "pdb_parser = PDB.PDBParser(QUIET=True)\n",
    "structure = pdb_parser.get_structure(\"1a4k\", path_protein)\n",
    "for model in structure:\n",
    "    for i, chain in enumerate(model):\n",
    "        ll = str()\n",
    "        for j,residue in enumerate(chain):\n",
    "            ll += PDB.Polypeptide.protein_letters_3to1[residue.get_resname()]\n",
    "        l.append(ll)\n",
    "        print(l)\n",
    "print(l)"
   ]
  },
  {
   "cell_type": "code",
   "execution_count": 137,
   "metadata": {},
   "outputs": [
    {
     "data": {
      "text/plain": [
       "219"
      ]
     },
     "execution_count": 137,
     "metadata": {},
     "output_type": "execute_result"
    }
   ],
   "source": [
    "len(l[3])"
   ]
  },
  {
   "cell_type": "code",
   "execution_count": null,
   "metadata": {},
   "outputs": [],
   "source": []
  },
  {
   "cell_type": "code",
   "execution_count": null,
   "metadata": {},
   "outputs": [],
   "source": []
  },
  {
   "cell_type": "code",
   "execution_count": null,
   "metadata": {},
   "outputs": [],
   "source": []
  },
  {
   "cell_type": "code",
   "execution_count": 4,
   "metadata": {},
   "outputs": [
    {
     "name": "stdout",
     "output_type": "stream",
     "text": [
      "Residue ID: 1, Residue Name: GLU\n",
      "Residue ID: 2, Residue Name: LEU\n",
      "Residue ID: 3, Residue Name: VAL\n",
      "Residue ID: 4, Residue Name: MET\n",
      "Residue ID: 5, Residue Name: THR\n",
      "Residue ID: 6, Residue Name: GLN\n",
      "Residue ID: 7, Residue Name: THR\n",
      "Residue ID: 8, Residue Name: PRO\n",
      "Residue ID: 9, Residue Name: LEU\n",
      "Residue ID: 10, Residue Name: SER\n",
      "Residue ID: 11, Residue Name: LEU\n",
      "Residue ID: 12, Residue Name: PRO\n",
      "Residue ID: 13, Residue Name: VAL\n",
      "Residue ID: 14, Residue Name: SER\n",
      "Residue ID: 15, Residue Name: LEU\n",
      "Residue ID: 16, Residue Name: GLY\n",
      "Residue ID: 17, Residue Name: ASP\n",
      "Residue ID: 18, Residue Name: GLN\n",
      "Residue ID: 19, Residue Name: ALA\n",
      "Residue ID: 20, Residue Name: SER\n",
      "Residue ID: 21, Residue Name: ILE\n",
      "Residue ID: 22, Residue Name: SER\n",
      "Residue ID: 23, Residue Name: CYS\n",
      "Residue ID: 24, Residue Name: ARG\n",
      "Residue ID: 25, Residue Name: SER\n",
      "Residue ID: 26, Residue Name: SER\n",
      "Residue ID: 27, Residue Name: GLN\n",
      "Residue ID: 1027, Residue Name: SER\n",
      "Residue ID: 2027, Residue Name: LEU\n",
      "Residue ID: 3027, Residue Name: LEU\n",
      "Residue ID: 4027, Residue Name: HIS\n",
      "Residue ID: 5027, Residue Name: SER\n",
      "Residue ID: 28, Residue Name: ASN\n",
      "Residue ID: 29, Residue Name: GLY\n",
      "Residue ID: 30, Residue Name: ASN\n",
      "Residue ID: 31, Residue Name: THR\n",
      "Residue ID: 32, Residue Name: TYR\n",
      "Residue ID: 33, Residue Name: LEU\n",
      "Residue ID: 34, Residue Name: HIS\n",
      "Residue ID: 35, Residue Name: TRP\n",
      "Residue ID: 36, Residue Name: TYR\n",
      "Residue ID: 37, Residue Name: LEU\n",
      "Residue ID: 38, Residue Name: GLN\n",
      "Residue ID: 39, Residue Name: LYS\n",
      "Residue ID: 40, Residue Name: PRO\n",
      "Residue ID: 41, Residue Name: GLY\n",
      "Residue ID: 42, Residue Name: GLN\n",
      "Residue ID: 43, Residue Name: SER\n",
      "Residue ID: 44, Residue Name: PRO\n",
      "Residue ID: 45, Residue Name: LYS\n",
      "Residue ID: 46, Residue Name: LEU\n",
      "Residue ID: 47, Residue Name: LEU\n",
      "Residue ID: 48, Residue Name: ILE\n",
      "Residue ID: 49, Residue Name: TYR\n",
      "Residue ID: 50, Residue Name: LYS\n",
      "Residue ID: 51, Residue Name: VAL\n",
      "Residue ID: 52, Residue Name: SER\n",
      "Residue ID: 53, Residue Name: ASN\n",
      "Residue ID: 54, Residue Name: ARG\n",
      "Residue ID: 55, Residue Name: PHE\n",
      "Residue ID: 56, Residue Name: SER\n",
      "Residue ID: 57, Residue Name: GLY\n",
      "Residue ID: 58, Residue Name: VAL\n",
      "Residue ID: 59, Residue Name: PRO\n",
      "Residue ID: 60, Residue Name: ASP\n",
      "Residue ID: 61, Residue Name: ARG\n",
      "Residue ID: 62, Residue Name: PHE\n",
      "Residue ID: 63, Residue Name: SER\n",
      "Residue ID: 64, Residue Name: GLY\n",
      "Residue ID: 65, Residue Name: SER\n",
      "Residue ID: 66, Residue Name: GLY\n",
      "Residue ID: 67, Residue Name: SER\n",
      "Residue ID: 68, Residue Name: GLY\n",
      "Residue ID: 69, Residue Name: THR\n",
      "Residue ID: 70, Residue Name: ASP\n",
      "Residue ID: 71, Residue Name: PHE\n",
      "Residue ID: 72, Residue Name: THR\n",
      "Residue ID: 73, Residue Name: LEU\n",
      "Residue ID: 74, Residue Name: LYS\n",
      "Residue ID: 75, Residue Name: ILE\n",
      "Residue ID: 76, Residue Name: SER\n",
      "Residue ID: 77, Residue Name: ARG\n",
      "Residue ID: 78, Residue Name: VAL\n",
      "Residue ID: 79, Residue Name: GLU\n",
      "Residue ID: 80, Residue Name: ALA\n",
      "Residue ID: 81, Residue Name: GLU\n",
      "Residue ID: 82, Residue Name: ASP\n",
      "Residue ID: 83, Residue Name: LEU\n",
      "Residue ID: 84, Residue Name: GLY\n",
      "Residue ID: 85, Residue Name: VAL\n",
      "Residue ID: 86, Residue Name: TYR\n",
      "Residue ID: 87, Residue Name: PHE\n",
      "Residue ID: 88, Residue Name: CYS\n",
      "Residue ID: 89, Residue Name: SER\n",
      "Residue ID: 90, Residue Name: GLN\n",
      "Residue ID: 91, Residue Name: VAL\n",
      "Residue ID: 92, Residue Name: THR\n",
      "Residue ID: 93, Residue Name: HIS\n",
      "Residue ID: 94, Residue Name: VAL\n",
      "Residue ID: 95, Residue Name: PRO\n",
      "Residue ID: 96, Residue Name: PRO\n",
      "Residue ID: 97, Residue Name: THR\n",
      "Residue ID: 98, Residue Name: PHE\n",
      "Residue ID: 99, Residue Name: GLY\n",
      "Residue ID: 100, Residue Name: GLY\n",
      "Residue ID: 101, Residue Name: GLY\n",
      "Residue ID: 102, Residue Name: THR\n",
      "Residue ID: 103, Residue Name: LYS\n",
      "Residue ID: 104, Residue Name: LEU\n",
      "Residue ID: 105, Residue Name: GLU\n",
      "Residue ID: 106, Residue Name: ILE\n",
      "Residue ID: 107, Residue Name: LYS\n",
      "Residue ID: 108, Residue Name: ARG\n",
      "Residue ID: 109, Residue Name: THR\n",
      "Residue ID: 110, Residue Name: VAL\n",
      "Residue ID: 111, Residue Name: ALA\n",
      "Residue ID: 112, Residue Name: ALA\n",
      "Residue ID: 113, Residue Name: PRO\n",
      "Residue ID: 114, Residue Name: SER\n",
      "Residue ID: 115, Residue Name: VAL\n",
      "Residue ID: 116, Residue Name: PHE\n",
      "Residue ID: 117, Residue Name: ILE\n",
      "Residue ID: 118, Residue Name: PHE\n",
      "Residue ID: 119, Residue Name: PRO\n",
      "Residue ID: 120, Residue Name: PRO\n",
      "Residue ID: 121, Residue Name: SER\n",
      "Residue ID: 122, Residue Name: ASP\n",
      "Residue ID: 123, Residue Name: GLU\n",
      "Residue ID: 124, Residue Name: GLN\n",
      "Residue ID: 125, Residue Name: LEU\n",
      "Residue ID: 126, Residue Name: LYS\n",
      "Residue ID: 127, Residue Name: SER\n",
      "Residue ID: 128, Residue Name: GLY\n",
      "Residue ID: 129, Residue Name: THR\n",
      "Residue ID: 130, Residue Name: ALA\n",
      "Residue ID: 131, Residue Name: SER\n",
      "Residue ID: 132, Residue Name: VAL\n",
      "Residue ID: 133, Residue Name: VAL\n",
      "Residue ID: 134, Residue Name: CYS\n",
      "Residue ID: 135, Residue Name: LEU\n",
      "Residue ID: 136, Residue Name: LEU\n",
      "Residue ID: 137, Residue Name: ASN\n",
      "Residue ID: 138, Residue Name: ASN\n",
      "Residue ID: 139, Residue Name: PHE\n",
      "Residue ID: 140, Residue Name: TYR\n",
      "Residue ID: 141, Residue Name: PRO\n",
      "Residue ID: 142, Residue Name: ARG\n",
      "Residue ID: 143, Residue Name: GLU\n",
      "Residue ID: 144, Residue Name: ALA\n",
      "Residue ID: 145, Residue Name: LYS\n",
      "Residue ID: 146, Residue Name: VAL\n",
      "Residue ID: 147, Residue Name: GLN\n",
      "Residue ID: 148, Residue Name: TRP\n",
      "Residue ID: 149, Residue Name: LYS\n",
      "Residue ID: 150, Residue Name: VAL\n",
      "Residue ID: 151, Residue Name: ASP\n",
      "Residue ID: 152, Residue Name: ASN\n",
      "Residue ID: 153, Residue Name: ALA\n",
      "Residue ID: 154, Residue Name: LEU\n",
      "Residue ID: 155, Residue Name: GLN\n",
      "Residue ID: 156, Residue Name: SER\n",
      "Residue ID: 157, Residue Name: GLY\n",
      "Residue ID: 158, Residue Name: ASN\n",
      "Residue ID: 159, Residue Name: SER\n",
      "Residue ID: 160, Residue Name: GLN\n",
      "Residue ID: 161, Residue Name: GLU\n",
      "Residue ID: 162, Residue Name: SER\n",
      "Residue ID: 163, Residue Name: VAL\n",
      "Residue ID: 164, Residue Name: THR\n",
      "Residue ID: 165, Residue Name: GLU\n",
      "Residue ID: 166, Residue Name: GLN\n",
      "Residue ID: 167, Residue Name: ASP\n",
      "Residue ID: 168, Residue Name: SER\n",
      "Residue ID: 169, Residue Name: LYS\n",
      "Residue ID: 170, Residue Name: ASP\n",
      "Residue ID: 171, Residue Name: SER\n",
      "Residue ID: 172, Residue Name: THR\n",
      "Residue ID: 173, Residue Name: TYR\n",
      "Residue ID: 174, Residue Name: SER\n",
      "Residue ID: 175, Residue Name: LEU\n",
      "Residue ID: 176, Residue Name: SER\n",
      "Residue ID: 177, Residue Name: SER\n",
      "Residue ID: 178, Residue Name: THR\n",
      "Residue ID: 179, Residue Name: LEU\n",
      "Residue ID: 180, Residue Name: THR\n",
      "Residue ID: 181, Residue Name: LEU\n",
      "Residue ID: 182, Residue Name: SER\n",
      "Residue ID: 183, Residue Name: LYS\n",
      "Residue ID: 184, Residue Name: ALA\n",
      "Residue ID: 185, Residue Name: ASP\n",
      "Residue ID: 186, Residue Name: TYR\n",
      "Residue ID: 187, Residue Name: GLU\n",
      "Residue ID: 188, Residue Name: LYS\n",
      "Residue ID: 189, Residue Name: HIS\n",
      "Residue ID: 190, Residue Name: LYS\n",
      "Residue ID: 191, Residue Name: VAL\n",
      "Residue ID: 192, Residue Name: TYR\n",
      "Residue ID: 193, Residue Name: ALA\n",
      "Residue ID: 194, Residue Name: CYS\n",
      "Residue ID: 195, Residue Name: GLU\n",
      "Residue ID: 196, Residue Name: VAL\n",
      "Residue ID: 197, Residue Name: THR\n",
      "Residue ID: 198, Residue Name: HIS\n",
      "Residue ID: 199, Residue Name: GLN\n",
      "Residue ID: 200, Residue Name: GLY\n",
      "Residue ID: 201, Residue Name: LEU\n",
      "Residue ID: 202, Residue Name: SER\n",
      "Residue ID: 203, Residue Name: SER\n",
      "Residue ID: 204, Residue Name: PRO\n",
      "Residue ID: 205, Residue Name: VAL\n",
      "Residue ID: 206, Residue Name: THR\n",
      "Residue ID: 207, Residue Name: LYS\n",
      "Residue ID: 208, Residue Name: SER\n",
      "Residue ID: 209, Residue Name: PHE\n",
      "Residue ID: 210, Residue Name: ASN\n",
      "Residue ID: 211, Residue Name: ARG\n"
     ]
    }
   ],
   "source": [
    "from Bio import PDB\n",
    "\n",
    "def extract_chain_info(pdb_filepath, chain_id):\n",
    "    parser = PDB.PDBParser(QUIET=True)\n",
    "    structure = parser.get_structure(\"protein\", pdb_filepath)\n",
    "\n",
    "    chain = None\n",
    "    for model in structure:\n",
    "        for c in model:\n",
    "            if c.id == chain_id:\n",
    "                chain = c\n",
    "                break\n",
    "    \n",
    "    if chain is None:\n",
    "        raise ValueError(f\"Chain '{chain_id}' not found in the structure.\")\n",
    "\n",
    "    chain_info = []\n",
    "    for residue in chain:\n",
    "        residue_id = residue.id[1]\n",
    "        residue_name = residue.resname\n",
    "        chain_info.append((residue_id, residue_name))\n",
    "    \n",
    "    return chain_info\n",
    "\n",
    "pdb_filepath = path_protein\n",
    "chain_id = \"A\"  # Specify the chain ID you want to extract\n",
    "chain_info = extract_chain_info(pdb_filepath, chain_id)\n",
    "\n",
    "for residue_id, residue_name in chain_info:\n",
    "    print(f\"Residue ID: {residue_id}, Residue Name: {residue_name}\")\n"
   ]
  },
  {
   "cell_type": "code",
   "execution_count": null,
   "metadata": {},
   "outputs": [],
   "source": [
    "from Bio import PDB\n",
    "\n",
    "def find_original_residue(pocket_filepath, protein_filepath, threshold=0.5):\n",
    "    parser = PDB.PDBParser(QUIET=True)\n",
    "    \n",
    "    # Parse pocket structure\n",
    "    pocket_structure = parser.get_structure(\"pocket\", pocket_filepath)\n",
    "    pocket_atoms = [atom for atom in pocket_structure.get_atoms()]\n",
    "    \n",
    "    # Parse full protein structure\n",
    "    protein_structure = parser.get_structure(\"protein\", protein_filepath)\n",
    "    \n",
    "    for pocket_atom in pocket_atoms:\n",
    "        pocket_coord = pocket_atom.get_coord()\n",
    "        \n",
    "        for model in protein_structure:\n",
    "            for chain in model:\n",
    "                for residue in chain:\n",
    "                    for atom in residue:\n",
    "                        distance = atom - pocket_coord\n",
    "                        if distance <= threshold:\n",
    "                            return residue\n",
    "    return None\n",
    "\n",
    "pocket_filepath = \"path_to_pocket.pdb\"\n",
    "protein_filepath = \"path_to_protein.pdb\"\n",
    "threshold = 1.0  # You can adjust the threshold distance as needed\n",
    "\n",
    "residue_with_atom = find_original_residue(pocket_filepath, protein_filepath, threshold)\n",
    "\n",
    "if residue_with_atom:\n",
    "    print(\"Atom in pocket corresponds to:\")\n",
    "    print(\"Chain:\", residue_with_atom.parent.id)\n",
    "    print(\"Residue ID:\", residue_with_atom.id[1])\n",
    "else:\n",
    "    print(\"No corresponding residue found.\")\n"
   ]
  },
  {
   "attachments": {},
   "cell_type": "markdown",
   "metadata": {},
   "source": [
    "## Get atoms from Molecule"
   ]
  },
  {
   "cell_type": "code",
   "execution_count": 20,
   "metadata": {},
   "outputs": [
    {
     "name": "stdout",
     "output_type": "stream",
     "text": [
      "6859\n",
      "6813\n"
     ]
    }
   ],
   "source": [
    "molecule = Chem.MolFromPDBFile(path_protein,flavor=2,sanitize=True, removeHs=True)\n",
    "print(molecule.GetNumAtoms())\n",
    "print(molecule.GetNumBonds())"
   ]
  },
  {
   "cell_type": "code",
   "execution_count": 21,
   "metadata": {},
   "outputs": [],
   "source": [
    "molecule = Chem.MolFromPDBFile(path_pocket, flavor=2,sanitize=True, removeHs=True)"
   ]
  },
  {
   "cell_type": "code",
   "execution_count": 76,
   "metadata": {},
   "outputs": [
    {
     "name": "stdout",
     "output_type": "stream",
     "text": [
      "[28.614 18.875 -6.927]\n",
      "371 C CHI_TETRAHEDRAL_CCW\n",
      "4027 HIS     1.0 27.1\n"
     ]
    }
   ],
   "source": [
    "atom = molecule.GetAtoms()[1]\n",
    "atom_res = atom.GetPDBResidueInfo()\n",
    "conformer = molecule.GetConformer(0)\n",
    "coords = conformer.GetPositions()\n",
    "print(coords[1])\n",
    "print(molecule.GetNumAtoms(), atom.GetSymbol(), atom.GetChiralTag())\n",
    "print(atom_res.GetResidueNumber(), atom_res.GetResidueName(), atom_res.GetChainId(),\n",
    "      atom_res.GetInsertionCode(), atom_res.GetOccupancy(), atom_res.GetTempFactor())"
   ]
  },
  {
   "cell_type": "code",
   "execution_count": 30,
   "metadata": {},
   "outputs": [
    {
     "name": "stdout",
     "output_type": "stream",
     "text": [
      "4027 HIS    \n",
      "4027 HIS    \n",
      "4027 HIS    \n",
      "4027 HIS    \n",
      "4027 HIS    \n",
      "4027 HIS    \n",
      "4027 HIS    \n",
      "4027 HIS    \n",
      "4027 HIS    \n",
      "4027 HIS    \n",
      "28 ASN    \n",
      "28 ASN    \n",
      "28 ASN    \n",
      "28 ASN    \n",
      "28 ASN    \n",
      "28 ASN    \n",
      "28 ASN    \n",
      "28 ASN    \n",
      "32 TYR    \n",
      "32 TYR    \n",
      "32 TYR    \n",
      "32 TYR    \n",
      "32 TYR    \n",
      "32 TYR    \n",
      "32 TYR    \n",
      "32 TYR    \n",
      "32 TYR    \n",
      "32 TYR    \n",
      "32 TYR    \n",
      "32 TYR    \n",
      "34 HIS    \n",
      "34 HIS    \n",
      "34 HIS    \n",
      "34 HIS    \n",
      "34 HIS    \n",
      "34 HIS    \n",
      "34 HIS    \n",
      "34 HIS    \n",
      "34 HIS    \n",
      "34 HIS    \n",
      "36 TYR    \n",
      "36 TYR    \n",
      "36 TYR    \n",
      "36 TYR    \n",
      "36 TYR    \n",
      "36 TYR    \n",
      "36 TYR    \n",
      "36 TYR    \n",
      "36 TYR    \n",
      "36 TYR    \n",
      "36 TYR    \n",
      "36 TYR    \n",
      "90 GLN    \n",
      "90 GLN    \n",
      "90 GLN    \n",
      "90 GLN    \n",
      "90 GLN    \n",
      "90 GLN    \n",
      "90 GLN    \n",
      "90 GLN    \n",
      "90 GLN    \n",
      "91 VAL    \n",
      "91 VAL    \n",
      "91 VAL    \n",
      "91 VAL    \n",
      "91 VAL    \n",
      "91 VAL    \n",
      "91 VAL    \n",
      "92 THR    \n",
      "92 THR    \n",
      "92 THR    \n",
      "92 THR    \n",
      "92 THR    \n",
      "92 THR    \n",
      "92 THR    \n",
      "93 HIS    \n",
      "93 HIS    \n",
      "93 HIS    \n",
      "93 HIS    \n",
      "93 HIS    \n",
      "93 HIS    \n",
      "93 HIS    \n",
      "93 HIS    \n",
      "93 HIS    \n",
      "93 HIS    \n",
      "94 VAL    \n",
      "94 VAL    \n",
      "94 VAL    \n",
      "94 VAL    \n",
      "94 VAL    \n",
      "94 VAL    \n",
      "94 VAL    \n",
      "95 PRO    \n",
      "95 PRO    \n",
      "95 PRO    \n",
      "95 PRO    \n",
      "95 PRO    \n",
      "95 PRO    \n",
      "95 PRO    \n",
      "96 PRO    \n",
      "96 PRO    \n",
      "96 PRO    \n",
      "96 PRO    \n",
      "96 PRO    \n",
      "96 PRO    \n",
      "96 PRO    \n",
      "28 THR    \n",
      "28 THR    \n",
      "28 THR    \n",
      "28 THR    \n",
      "28 THR    \n",
      "28 THR    \n",
      "28 THR    \n",
      "29 PHE    \n",
      "29 PHE    \n",
      "29 PHE    \n",
      "29 PHE    \n",
      "29 PHE    \n",
      "29 PHE    \n",
      "29 PHE    \n",
      "29 PHE    \n",
      "29 PHE    \n",
      "29 PHE    \n",
      "29 PHE    \n",
      "30 THR    \n",
      "30 THR    \n",
      "30 THR    \n",
      "30 THR    \n",
      "30 THR    \n",
      "30 THR    \n",
      "30 THR    \n",
      "31 ASN    \n",
      "31 ASN    \n",
      "31 ASN    \n",
      "31 ASN    \n",
      "31 ASN    \n",
      "31 ASN    \n",
      "31 ASN    \n",
      "31 ASN    \n",
      "32 TYR    \n",
      "32 TYR    \n",
      "32 TYR    \n",
      "32 TYR    \n",
      "32 TYR    \n",
      "32 TYR    \n",
      "32 TYR    \n",
      "32 TYR    \n",
      "32 TYR    \n",
      "32 TYR    \n",
      "32 TYR    \n",
      "32 TYR    \n",
      "33 GLY    \n",
      "33 GLY    \n",
      "33 GLY    \n",
      "33 GLY    \n",
      "34 MET    \n",
      "34 MET    \n",
      "34 MET    \n",
      "34 MET    \n",
      "34 MET    \n",
      "34 MET    \n",
      "34 MET    \n",
      "34 MET    \n",
      "35 ASN    \n",
      "35 ASN    \n",
      "35 ASN    \n",
      "35 ASN    \n",
      "35 ASN    \n",
      "35 ASN    \n",
      "35 ASN    \n",
      "35 ASN    \n",
      "36 TRP    \n",
      "36 TRP    \n",
      "36 TRP    \n",
      "36 TRP    \n",
      "36 TRP    \n",
      "36 TRP    \n",
      "36 TRP    \n",
      "36 TRP    \n",
      "36 TRP    \n",
      "36 TRP    \n",
      "36 TRP    \n",
      "36 TRP    \n",
      "36 TRP    \n",
      "36 TRP    \n",
      "47 TRP    \n",
      "47 TRP    \n",
      "47 TRP    \n",
      "47 TRP    \n",
      "47 TRP    \n",
      "47 TRP    \n",
      "47 TRP    \n",
      "47 TRP    \n",
      "47 TRP    \n",
      "47 TRP    \n",
      "47 TRP    \n",
      "47 TRP    \n",
      "47 TRP    \n",
      "47 TRP    \n",
      "49 GLY    \n",
      "49 GLY    \n",
      "49 GLY    \n",
      "49 GLY    \n",
      "50 TRP    \n",
      "50 TRP    \n",
      "50 TRP    \n",
      "50 TRP    \n",
      "50 TRP    \n",
      "50 TRP    \n",
      "50 TRP    \n",
      "50 TRP    \n",
      "50 TRP    \n",
      "50 TRP    \n",
      "50 TRP    \n",
      "50 TRP    \n",
      "50 TRP    \n",
      "50 TRP    \n",
      "51 ILE    \n",
      "51 ILE    \n",
      "51 ILE    \n",
      "51 ILE    \n",
      "51 ILE    \n",
      "51 ILE    \n",
      "51 ILE    \n",
      "51 ILE    \n",
      "52 ASN    \n",
      "52 ASN    \n",
      "52 ASN    \n",
      "52 ASN    \n",
      "52 ASN    \n",
      "52 ASN    \n",
      "52 ASN    \n",
      "52 ASN    \n",
      "1052 THR    \n",
      "1052 THR    \n",
      "1052 THR    \n",
      "1052 THR    \n",
      "1052 THR    \n",
      "1052 THR    \n",
      "1052 THR    \n",
      "53 TYR    \n",
      "53 TYR    \n",
      "53 TYR    \n",
      "53 TYR    \n",
      "53 TYR    \n",
      "53 TYR    \n",
      "53 TYR    \n",
      "53 TYR    \n",
      "53 TYR    \n",
      "53 TYR    \n",
      "53 TYR    \n",
      "53 TYR    \n",
      "54 THR    \n",
      "54 THR    \n",
      "54 THR    \n",
      "54 THR    \n",
      "54 THR    \n",
      "54 THR    \n",
      "54 THR    \n",
      "58 THR    \n",
      "58 THR    \n",
      "58 THR    \n",
      "58 THR    \n",
      "58 THR    \n",
      "58 THR    \n",
      "58 THR    \n",
      "93 VAL    \n",
      "93 VAL    \n",
      "93 VAL    \n",
      "93 VAL    \n",
      "93 VAL    \n",
      "93 VAL    \n",
      "93 VAL    \n",
      "94 GLN    \n",
      "94 GLN    \n",
      "94 GLN    \n",
      "94 GLN    \n",
      "94 GLN    \n",
      "94 GLN    \n",
      "94 GLN    \n",
      "94 GLN    \n",
      "94 GLN    \n",
      "95 ALA    \n",
      "95 ALA    \n",
      "95 ALA    \n",
      "95 ALA    \n",
      "95 ALA    \n",
      "96 GLU    \n",
      "96 GLU    \n",
      "96 GLU    \n",
      "96 GLU    \n",
      "96 GLU    \n",
      "96 GLU    \n",
      "96 GLU    \n",
      "96 GLU    \n",
      "96 GLU    \n",
      "97 ARG    \n",
      "97 ARG    \n",
      "97 ARG    \n",
      "97 ARG    \n",
      "97 ARG    \n",
      "97 ARG    \n",
      "97 ARG    \n",
      "97 ARG    \n",
      "97 ARG    \n",
      "97 ARG    \n",
      "97 ARG    \n",
      "98 LEU    \n",
      "98 LEU    \n",
      "98 LEU    \n",
      "98 LEU    \n",
      "98 LEU    \n",
      "98 LEU    \n",
      "98 LEU    \n",
      "98 LEU    \n",
      "99 ARG    \n",
      "99 ARG    \n",
      "99 ARG    \n",
      "99 ARG    \n",
      "99 ARG    \n",
      "99 ARG    \n",
      "99 ARG    \n",
      "99 ARG    \n",
      "99 ARG    \n",
      "99 ARG    \n",
      "99 ARG    \n",
      "100 ARG    \n",
      "100 ARG    \n",
      "100 ARG    \n",
      "100 ARG    \n",
      "100 ARG    \n",
      "100 ARG    \n",
      "100 ARG    \n",
      "100 ARG    \n",
      "100 ARG    \n",
      "100 ARG    \n",
      "100 ARG    \n",
      "1100 THR    \n",
      "1100 THR    \n",
      "1100 THR    \n",
      "1100 THR    \n",
      "1100 THR    \n",
      "1100 THR    \n",
      "1100 THR    \n",
      "2100 PHE    \n",
      "2100 PHE    \n",
      "2100 PHE    \n",
      "2100 PHE    \n",
      "2100 PHE    \n",
      "2100 PHE    \n",
      "2100 PHE    \n",
      "2100 PHE    \n",
      "2100 PHE    \n",
      "2100 PHE    \n",
      "2100 PHE    \n",
      "101 ASP    \n",
      "101 ASP    \n",
      "101 ASP    \n",
      "101 ASP    \n",
      "101 ASP    \n",
      "101 ASP    \n",
      "101 ASP    \n",
      "101 ASP    \n",
      "138 HOH    \n",
      "176 HOH    \n",
      "183 HOH    \n",
      "205 HOH    \n",
      "209 HOH    \n",
      "211 HOH    \n",
      "212 HOH    \n",
      "215 HOH    \n"
     ]
    }
   ],
   "source": [
    "for atom in molecule.GetAtoms():\n",
    "    atom_res = atom.GetPDBResidueInfo()\n",
    "    print(atom_res.GetResidueNumber(), atom_res.GetResidueName(), atom_res.GetChainId(),\n",
    "          atom_res.GetInsertionCode())"
   ]
  },
  {
   "attachments": {},
   "cell_type": "markdown",
   "metadata": {},
   "source": [
    "## Testing the esm model"
   ]
  },
  {
   "cell_type": "code",
   "execution_count": 31,
   "metadata": {},
   "outputs": [
    {
     "data": {
      "text/plain": [
       "ESM2(\n",
       "  (embed_tokens): Embedding(33, 320, padding_idx=1)\n",
       "  (layers): ModuleList(\n",
       "    (0): TransformerLayer(\n",
       "      (self_attn): MultiheadAttention(\n",
       "        (k_proj): Linear(in_features=320, out_features=320, bias=True)\n",
       "        (v_proj): Linear(in_features=320, out_features=320, bias=True)\n",
       "        (q_proj): Linear(in_features=320, out_features=320, bias=True)\n",
       "        (out_proj): Linear(in_features=320, out_features=320, bias=True)\n",
       "        (rot_emb): RotaryEmbedding()\n",
       "      )\n",
       "      (self_attn_layer_norm): LayerNorm((320,), eps=1e-05, elementwise_affine=True)\n",
       "      (fc1): Linear(in_features=320, out_features=1280, bias=True)\n",
       "      (fc2): Linear(in_features=1280, out_features=320, bias=True)\n",
       "      (final_layer_norm): LayerNorm((320,), eps=1e-05, elementwise_affine=True)\n",
       "    )\n",
       "    (1): TransformerLayer(\n",
       "      (self_attn): MultiheadAttention(\n",
       "        (k_proj): Linear(in_features=320, out_features=320, bias=True)\n",
       "        (v_proj): Linear(in_features=320, out_features=320, bias=True)\n",
       "        (q_proj): Linear(in_features=320, out_features=320, bias=True)\n",
       "        (out_proj): Linear(in_features=320, out_features=320, bias=True)\n",
       "        (rot_emb): RotaryEmbedding()\n",
       "      )\n",
       "      (self_attn_layer_norm): LayerNorm((320,), eps=1e-05, elementwise_affine=True)\n",
       "      (fc1): Linear(in_features=320, out_features=1280, bias=True)\n",
       "      (fc2): Linear(in_features=1280, out_features=320, bias=True)\n",
       "      (final_layer_norm): LayerNorm((320,), eps=1e-05, elementwise_affine=True)\n",
       "    )\n",
       "    (2): TransformerLayer(\n",
       "      (self_attn): MultiheadAttention(\n",
       "        (k_proj): Linear(in_features=320, out_features=320, bias=True)\n",
       "        (v_proj): Linear(in_features=320, out_features=320, bias=True)\n",
       "        (q_proj): Linear(in_features=320, out_features=320, bias=True)\n",
       "        (out_proj): Linear(in_features=320, out_features=320, bias=True)\n",
       "        (rot_emb): RotaryEmbedding()\n",
       "      )\n",
       "      (self_attn_layer_norm): LayerNorm((320,), eps=1e-05, elementwise_affine=True)\n",
       "      (fc1): Linear(in_features=320, out_features=1280, bias=True)\n",
       "      (fc2): Linear(in_features=1280, out_features=320, bias=True)\n",
       "      (final_layer_norm): LayerNorm((320,), eps=1e-05, elementwise_affine=True)\n",
       "    )\n",
       "    (3): TransformerLayer(\n",
       "      (self_attn): MultiheadAttention(\n",
       "        (k_proj): Linear(in_features=320, out_features=320, bias=True)\n",
       "        (v_proj): Linear(in_features=320, out_features=320, bias=True)\n",
       "        (q_proj): Linear(in_features=320, out_features=320, bias=True)\n",
       "        (out_proj): Linear(in_features=320, out_features=320, bias=True)\n",
       "        (rot_emb): RotaryEmbedding()\n",
       "      )\n",
       "      (self_attn_layer_norm): LayerNorm((320,), eps=1e-05, elementwise_affine=True)\n",
       "      (fc1): Linear(in_features=320, out_features=1280, bias=True)\n",
       "      (fc2): Linear(in_features=1280, out_features=320, bias=True)\n",
       "      (final_layer_norm): LayerNorm((320,), eps=1e-05, elementwise_affine=True)\n",
       "    )\n",
       "    (4): TransformerLayer(\n",
       "      (self_attn): MultiheadAttention(\n",
       "        (k_proj): Linear(in_features=320, out_features=320, bias=True)\n",
       "        (v_proj): Linear(in_features=320, out_features=320, bias=True)\n",
       "        (q_proj): Linear(in_features=320, out_features=320, bias=True)\n",
       "        (out_proj): Linear(in_features=320, out_features=320, bias=True)\n",
       "        (rot_emb): RotaryEmbedding()\n",
       "      )\n",
       "      (self_attn_layer_norm): LayerNorm((320,), eps=1e-05, elementwise_affine=True)\n",
       "      (fc1): Linear(in_features=320, out_features=1280, bias=True)\n",
       "      (fc2): Linear(in_features=1280, out_features=320, bias=True)\n",
       "      (final_layer_norm): LayerNorm((320,), eps=1e-05, elementwise_affine=True)\n",
       "    )\n",
       "    (5): TransformerLayer(\n",
       "      (self_attn): MultiheadAttention(\n",
       "        (k_proj): Linear(in_features=320, out_features=320, bias=True)\n",
       "        (v_proj): Linear(in_features=320, out_features=320, bias=True)\n",
       "        (q_proj): Linear(in_features=320, out_features=320, bias=True)\n",
       "        (out_proj): Linear(in_features=320, out_features=320, bias=True)\n",
       "        (rot_emb): RotaryEmbedding()\n",
       "      )\n",
       "      (self_attn_layer_norm): LayerNorm((320,), eps=1e-05, elementwise_affine=True)\n",
       "      (fc1): Linear(in_features=320, out_features=1280, bias=True)\n",
       "      (fc2): Linear(in_features=1280, out_features=320, bias=True)\n",
       "      (final_layer_norm): LayerNorm((320,), eps=1e-05, elementwise_affine=True)\n",
       "    )\n",
       "  )\n",
       "  (contact_head): ContactPredictionHead(\n",
       "    (regression): Linear(in_features=120, out_features=1, bias=True)\n",
       "    (activation): Sigmoid()\n",
       "  )\n",
       "  (emb_layer_norm_after): LayerNorm((320,), eps=1e-05, elementwise_affine=True)\n",
       "  (lm_head): RobertaLMHead(\n",
       "    (dense): Linear(in_features=320, out_features=320, bias=True)\n",
       "    (layer_norm): LayerNorm((320,), eps=1e-05, elementwise_affine=True)\n",
       "  )\n",
       ")"
      ]
     },
     "execution_count": 31,
     "metadata": {},
     "output_type": "execute_result"
    }
   ],
   "source": [
    "# model, alphabet = esm.pretrained.esm2_t33_650M_UR50D()\n",
    "model, alphabet = esm.pretrained.esm2_t6_8M_UR50D()\n",
    "batch_converter = alphabet.get_batch_converter()\n",
    "model.eval()"
   ]
  },
  {
   "cell_type": "code",
   "execution_count": 32,
   "metadata": {},
   "outputs": [],
   "source": [
    "def pdb_to_sequences(pdb_filepath: str) -> List[str]:\n",
    "    pdb_parser = PDB.PDBParser(QUIET=True)\n",
    "    structure = pdb_parser.get_structure(\"X\", pdb_filepath)\n",
    "    # Using C-N\n",
    "    ppb = PDB.PPBuilder()\n",
    "    polypeptide_sequences = [\n",
    "        str(pp.get_sequence()) for pp in ppb.build_peptides(structure)\n",
    "    ]\n",
    "    return polypeptide_sequences"
   ]
  },
  {
   "cell_type": "code",
   "execution_count": 48,
   "metadata": {},
   "outputs": [],
   "source": [
    "def parse_pdb_files(folder_path: str):\n",
    "    \"\"\"Parse data from folders with the following structure:\n",
    "    pdb/\n",
    "    ├─ protein_1.pdb\n",
    "    ├─ protein_2.pdb\n",
    "\n",
    "    Where, for example `protein_1.pdb` contains a protein.\n",
    "    Returns a list with the protein filename and the protein sequence.\n",
    "    \"\"\"\n",
    "    all_pdb_files = list(pathlib.Path(folder_path).glob(\"*.pdb\"))\n",
    "    data = []\n",
    "    for file in all_pdb_files:\n",
    "        protein = pdb_to_sequences(file)[0]\n",
    "        filename = str(file).replace(\".pdb\", \"\")\n",
    "        data.append((filename, protein))\n",
    "    return data"
   ]
  },
  {
   "cell_type": "code",
   "execution_count": 84,
   "metadata": {},
   "outputs": [],
   "source": [
    "lista = parse_pdb_files(\"../../dataset2016/1a4k/\")\n",
    "lista = lista[1:]"
   ]
  },
  {
   "cell_type": "code",
   "execution_count": 85,
   "metadata": {},
   "outputs": [
    {
     "data": {
      "text/plain": [
       "[('../../dataset2016/1a4k/1a4k_protein',\n",
       "  'ELVMTQTPLSLPVSLGDQASISCRSSQSLLHSNGNTYLHWYLQKPGQSPKLLIYKVSNRFSGVPDRFSGSGSGTDFTLKISRVEAEDLGVYFCSQVTHVPPTFGGGTKLEIKRTVAAPSVFIFPPSDEQLKSGTASVVCLLNNFYPREAKVQWKVDNALQSGNSQESVTEQDSKDSTYSLSSTLTLSKADYEKHKVYACEVTHQGLSSPVTKSFNRG')]"
      ]
     },
     "execution_count": 85,
     "metadata": {},
     "output_type": "execute_result"
    }
   ],
   "source": [
    "lista"
   ]
  },
  {
   "cell_type": "code",
   "execution_count": 86,
   "metadata": {},
   "outputs": [
    {
     "data": {
      "text/plain": [
       "217"
      ]
     },
     "execution_count": 86,
     "metadata": {},
     "output_type": "execute_result"
    }
   ],
   "source": [
    "len(lista[0][1])"
   ]
  },
  {
   "cell_type": "code",
   "execution_count": 87,
   "metadata": {},
   "outputs": [
    {
     "name": "stdout",
     "output_type": "stream",
     "text": [
      "['../../dataset2016/1a4k/1a4k_protein'] ['ELVMTQTPLSLPVSLGDQASISCRSSQSLLHSNGNTYLHWYLQKPGQSPKLLIYKVSNRFSGVPDRFSGSGSGTDFTLKISRVEAEDLGVYFCSQVTHVPPTFGGGTKLEIKRTVAAPSVFIFPPSDEQLKSGTASVVCLLNNFYPREAKVQWKVDNALQSGNSQESVTEQDSKDSTYSLSSTLTLSKADYEKHKVYACEVTHQGLSSPVTKSFNRG']\n"
     ]
    }
   ],
   "source": [
    "batch_labels, batch_strs, _ = batch_converter(lista)\n",
    "print(batch_labels, batch_strs)"
   ]
  },
  {
   "cell_type": "code",
   "execution_count": 88,
   "metadata": {},
   "outputs": [],
   "source": [
    "dataset = FastaBatchedDataset(batch_labels, batch_strs)"
   ]
  },
  {
   "cell_type": "code",
   "execution_count": 92,
   "metadata": {},
   "outputs": [],
   "source": [
    "batches = dataset.get_batch_indices(1, extra_toks_per_seq=1)\n",
    "data_loader = torch.utils.data.DataLoader(dataset,collate_fn=batch_converter,batch_sampler=batches)"
   ]
  },
  {
   "cell_type": "code",
   "execution_count": 66,
   "metadata": {},
   "outputs": [
    {
     "name": "stderr",
     "output_type": "stream",
     "text": [
      "100%|██████████| 4/4 [00:00<00:00, 812.61it/s]"
     ]
    },
    {
     "name": "stdout",
     "output_type": "stream",
     "text": [
      "[2] ['ELVMTQTPLSLPVSLGDQASISCRSSQSLLHSNGNTYLHWYLQKPGQSPKLLIYKVSNRFSGVPDRFSGSGSGTDFTLKISRVEAEDLGVYFCSQVTHVPPTFGGGTKLEIKRTVAAPSVFIFPPSDEQLKSGTASVVCLLNNFYPREAKVQWKVDNALQSGNSQESVTEQDSKDSTYSLSSTLTLSKADYEKHKVYACEVTHQGLSSPVTKSFNR'] tensor([[ 0,  9,  4,  7, 20, 11, 16, 11, 14,  4,  8,  4, 14,  7,  8,  4,  6, 13,\n",
      "         16,  5,  8, 12,  8, 23, 10,  8,  8, 16,  8,  4,  4, 21,  8, 17,  6, 17,\n",
      "         11, 19,  4, 21, 22, 19,  4, 16, 15, 14,  6, 16,  8, 14, 15,  4,  4, 12,\n",
      "         19, 15,  7,  8, 17, 10, 18,  8,  6,  7, 14, 13, 10, 18,  8,  6,  8,  6,\n",
      "          8,  6, 11, 13, 18, 11,  4, 15, 12,  8, 10,  7,  9,  5,  9, 13,  4,  6,\n",
      "          7, 19, 18, 23,  8, 16,  7, 11, 21,  7, 14, 14, 11, 18,  6,  6,  6, 11,\n",
      "         15,  4,  9, 12, 15, 10, 11,  7,  5,  5, 14,  8,  7, 18, 12, 18, 14, 14,\n",
      "          8, 13,  9, 16,  4, 15,  8,  6, 11,  5,  8,  7,  7, 23,  4,  4, 17, 17,\n",
      "         18, 19, 14, 10,  9,  5, 15,  7, 16, 22, 15,  7, 13, 17,  5,  4, 16,  8,\n",
      "          6, 17,  8, 16,  9,  8,  7, 11,  9, 16, 13,  8, 15, 13,  8, 11, 19,  8,\n",
      "          4,  8,  8, 11,  4, 11,  4,  8, 15,  5, 13, 19,  9, 15, 21, 15,  7, 19,\n",
      "          5, 23,  9,  7, 11, 21, 16,  6,  4,  8,  8, 14,  7, 11, 15,  8, 18, 17,\n",
      "         10,  2]])\n",
      "[0] ['ELVMTQTPLSLPVSLGDQASISCRSSQSLLHSNGNTYLHWYLQKPGQSPKLLIYKVSNRFSGVPDRFSGSGSGTDFTLKISRVEAEDLGVYFCSQVTHVPPTFGGGTKLEIKRTVAAPSVFIFPPSDEQLKSGTASVVCLLNNFYPREAKVQWKVDNALQSGNSQESVTEQDSKDSTYSLSSTLTLSKADYEKHKVYACEVTHQGLSSPVTKSFNRG'] tensor([[ 0,  9,  4,  7, 20, 11, 16, 11, 14,  4,  8,  4, 14,  7,  8,  4,  6, 13,\n",
      "         16,  5,  8, 12,  8, 23, 10,  8,  8, 16,  8,  4,  4, 21,  8, 17,  6, 17,\n",
      "         11, 19,  4, 21, 22, 19,  4, 16, 15, 14,  6, 16,  8, 14, 15,  4,  4, 12,\n",
      "         19, 15,  7,  8, 17, 10, 18,  8,  6,  7, 14, 13, 10, 18,  8,  6,  8,  6,\n",
      "          8,  6, 11, 13, 18, 11,  4, 15, 12,  8, 10,  7,  9,  5,  9, 13,  4,  6,\n",
      "          7, 19, 18, 23,  8, 16,  7, 11, 21,  7, 14, 14, 11, 18,  6,  6,  6, 11,\n",
      "         15,  4,  9, 12, 15, 10, 11,  7,  5,  5, 14,  8,  7, 18, 12, 18, 14, 14,\n",
      "          8, 13,  9, 16,  4, 15,  8,  6, 11,  5,  8,  7,  7, 23,  4,  4, 17, 17,\n",
      "         18, 19, 14, 10,  9,  5, 15,  7, 16, 22, 15,  7, 13, 17,  5,  4, 16,  8,\n",
      "          6, 17,  8, 16,  9,  8,  7, 11,  9, 16, 13,  8, 15, 13,  8, 11, 19,  8,\n",
      "          4,  8,  8, 11,  4, 11,  4,  8, 15,  5, 13, 19,  9, 15, 21, 15,  7, 19,\n",
      "          5, 23,  9,  7, 11, 21, 16,  6,  4,  8,  8, 14,  7, 11, 15,  8, 18, 17,\n",
      "         10,  6,  2]])\n",
      "[1] ['QVQLLESGPELKKPGETVKISCKASGYTFTNYGMNWVKQAPGKGLKWMGWINTYTGEPTYADDFKGRFAFSLETSASTAYLQINNLKNEDTATYFCVQAERLRRTFDYWGAGTTVTVSSASTKGPSVFPLAPSSKSTSGGTAALGCLVKDYFPEPVTVSWNSGALTSGVHTFPAVLQSSGLYSLSSVVTVPSSSLGTQTYICNVNHKPSNTKVDKKV'] tensor([[ 0, 16,  7, 16,  4,  4,  9,  8,  6, 14,  9,  4, 15, 15, 14,  6,  9, 11,\n",
      "          7, 15, 12,  8, 23, 15,  5,  8,  6, 19, 11, 18, 11, 17, 19,  6, 20, 17,\n",
      "         22,  7, 15, 16,  5, 14,  6, 15,  6,  4, 15, 22, 20,  6, 22, 12, 17, 11,\n",
      "         19, 11,  6,  9, 14, 11, 19,  5, 13, 13, 18, 15,  6, 10, 18,  5, 18,  8,\n",
      "          4,  9, 11,  8,  5,  8, 11,  5, 19,  4, 16, 12, 17, 17,  4, 15, 17,  9,\n",
      "         13, 11,  5, 11, 19, 18, 23,  7, 16,  5,  9, 10,  4, 10, 10, 11, 18, 13,\n",
      "         19, 22,  6,  5,  6, 11, 11,  7, 11,  7,  8,  8,  5,  8, 11, 15,  6, 14,\n",
      "          8,  7, 18, 14,  4,  5, 14,  8,  8, 15,  8, 11,  8,  6,  6, 11,  5,  5,\n",
      "          4,  6, 23,  4,  7, 15, 13, 19, 18, 14,  9, 14,  7, 11,  7,  8, 22, 17,\n",
      "          8,  6,  5,  4, 11,  8,  6,  7, 21, 11, 18, 14,  5,  7,  4, 16,  8,  8,\n",
      "          6,  4, 19,  8,  4,  8,  8,  7,  7, 11,  7, 14,  8,  8,  8,  4,  6, 11,\n",
      "         16, 11, 19, 12, 23, 17,  7, 17, 21, 15, 14,  8, 17, 11, 15,  7, 13, 15,\n",
      "         15,  7,  2]])\n",
      "[3] ['QVQLLESGPELKKPGETVKISCKASGYTFTNYGMNWVKQAPGKGLKWMGWINTYTGEPTYADDFKGRFAFSLETSASTAYLQINNLKNEDTATYFCVQAERLRRTFDYWGAGTTVTVSSASTKGPSVFPLAPSSKSTSGGTAALGCLVKDYFPEPVTVSWNSGALTSGVHTFPAVLQSSGLYSLSSVVTVPSSSLGTQTYICNVNHKPSNTKVDKKVEP'] tensor([[ 0, 16,  7, 16,  4,  4,  9,  8,  6, 14,  9,  4, 15, 15, 14,  6,  9, 11,\n",
      "          7, 15, 12,  8, 23, 15,  5,  8,  6, 19, 11, 18, 11, 17, 19,  6, 20, 17,\n",
      "         22,  7, 15, 16,  5, 14,  6, 15,  6,  4, 15, 22, 20,  6, 22, 12, 17, 11,\n",
      "         19, 11,  6,  9, 14, 11, 19,  5, 13, 13, 18, 15,  6, 10, 18,  5, 18,  8,\n",
      "          4,  9, 11,  8,  5,  8, 11,  5, 19,  4, 16, 12, 17, 17,  4, 15, 17,  9,\n",
      "         13, 11,  5, 11, 19, 18, 23,  7, 16,  5,  9, 10,  4, 10, 10, 11, 18, 13,\n",
      "         19, 22,  6,  5,  6, 11, 11,  7, 11,  7,  8,  8,  5,  8, 11, 15,  6, 14,\n",
      "          8,  7, 18, 14,  4,  5, 14,  8,  8, 15,  8, 11,  8,  6,  6, 11,  5,  5,\n",
      "          4,  6, 23,  4,  7, 15, 13, 19, 18, 14,  9, 14,  7, 11,  7,  8, 22, 17,\n",
      "          8,  6,  5,  4, 11,  8,  6,  7, 21, 11, 18, 14,  5,  7,  4, 16,  8,  8,\n",
      "          6,  4, 19,  8,  4,  8,  8,  7,  7, 11,  7, 14,  8,  8,  8,  4,  6, 11,\n",
      "         16, 11, 19, 12, 23, 17,  7, 17, 21, 15, 14,  8, 17, 11, 15,  7, 13, 15,\n",
      "         15,  7,  9, 14,  2]])\n"
     ]
    },
    {
     "name": "stderr",
     "output_type": "stream",
     "text": [
      "\n"
     ]
    }
   ],
   "source": [
    "for _, (labels, strs, toks) in enumerate(tqdm(data_loader)):\n",
    "    print(labels, strs, toks)"
   ]
  },
  {
   "cell_type": "code",
   "execution_count": 67,
   "metadata": {},
   "outputs": [],
   "source": [
    "repr_layers = [(i + model.num_layers + 1) % (model.num_layers + 1) for i in [8]]"
   ]
  },
  {
   "cell_type": "code",
   "execution_count": 68,
   "metadata": {},
   "outputs": [
    {
     "data": {
      "text/plain": [
       "[1]"
      ]
     },
     "execution_count": 68,
     "metadata": {},
     "output_type": "execute_result"
    }
   ],
   "source": [
    "repr_layers"
   ]
  },
  {
   "cell_type": "code",
   "execution_count": 69,
   "metadata": {},
   "outputs": [
    {
     "name": "stderr",
     "output_type": "stream",
     "text": [
      "100%|██████████| 4/4 [00:00<00:00, 48.25it/s]\n"
     ]
    }
   ],
   "source": [
    "with torch.no_grad():\n",
    "    for _, (labels, strs, toks) in enumerate(tqdm(data_loader)):\n",
    "        out = model(toks, repr_layers=repr_layers, return_contacts=False)\n",
    "        _ = out['logits'].to(device='cpu')\n",
    "\n",
    "        representations = {\n",
    "            layer: t.to(device='cpu')\n",
    "            for layer, t in out['representations'].items()\n",
    "        }\n",
    "        # print(representations)\n",
    "        for i, label in enumerate(labels):\n",
    "            result = {'label': label}\n",
    "            truncate_len = min(2000, len(strs[i]))\n",
    "\n",
    "            \n",
    "            result['per_tok'] = {\n",
    "                layer: t[i, 1:truncate_len + 1].clone()\n",
    "                for layer, t in representations.items()\n",
    "                }\n",
    "            \n",
    "            result['mean'] = {\n",
    "                layer:\n",
    "                    t[i,\n",
    "                        1:truncate_len + 1].mean(0).clone().unsqueeze(0)\n",
    "                for layer, t in representations.items()\n",
    "            }\n",
    "            \n",
    "            result['bos'] = {\n",
    "                layer: t[i, 0].clone()\n",
    "                for layer, t in representations.items()\n",
    "            }"
   ]
  },
  {
   "cell_type": "code",
   "execution_count": 59,
   "metadata": {},
   "outputs": [
    {
     "data": {
      "text/plain": [
       "torch.Size([217, 320])"
      ]
     },
     "execution_count": 59,
     "metadata": {},
     "output_type": "execute_result"
    }
   ],
   "source": [
    "result['per_tok'][1].size()"
   ]
  },
  {
   "cell_type": "code",
   "execution_count": 60,
   "metadata": {},
   "outputs": [
    {
     "ename": "KeyError",
     "evalue": "33",
     "output_type": "error",
     "traceback": [
      "\u001b[0;31m---------------------------------------------------------------------------\u001b[0m",
      "\u001b[0;31mKeyError\u001b[0m                                  Traceback (most recent call last)",
      "Cell \u001b[0;32mIn[60], line 1\u001b[0m\n\u001b[0;32m----> 1\u001b[0m result[\u001b[39m'\u001b[39;49m\u001b[39mmean\u001b[39;49m\u001b[39m'\u001b[39;49m][\u001b[39m33\u001b[39;49m]\u001b[39m.\u001b[39msize()\n",
      "\u001b[0;31mKeyError\u001b[0m: 33"
     ]
    }
   ],
   "source": [
    "result['mean'][33].size()"
   ]
  },
  {
   "cell_type": "code",
   "execution_count": null,
   "metadata": {},
   "outputs": [
    {
     "data": {
      "text/plain": [
       "{33: tensor([[ 0.0133, -0.0756, -0.0588,  ..., -0.0962, -0.0233,  0.1151]])}"
      ]
     },
     "execution_count": 144,
     "metadata": {},
     "output_type": "execute_result"
    }
   ],
   "source": [
    "result['mean']"
   ]
  },
  {
   "cell_type": "code",
   "execution_count": null,
   "metadata": {},
   "outputs": [
    {
     "data": {
      "text/plain": [
       "{33: tensor([ 0.1019,  0.0491,  0.0177,  ..., -0.2179,  0.2239,  0.0176])}"
      ]
     },
     "execution_count": 143,
     "metadata": {},
     "output_type": "execute_result"
    }
   ],
   "source": [
    "result['bos']"
   ]
  },
  {
   "cell_type": "code",
   "execution_count": 76,
   "metadata": {},
   "outputs": [
    {
     "data": {
      "text/plain": [
       "tensor([[[-0.1915,  0.5826, -0.0663,  ...,  0.3430, -0.1762, -4.3831],\n",
       "         [-0.2651, -0.0640,  0.1722,  ..., -0.1987,  0.3459, -3.3668],\n",
       "         [ 0.0815,  0.1780,  0.4591,  ...,  0.3362,  0.3494, -3.1021],\n",
       "         ...,\n",
       "         [-0.1838, -0.5669, -0.0776,  ..., -0.1460, -0.0283, -3.4215],\n",
       "         [-0.2369, -0.3772,  0.2040,  ..., -0.2198, -0.2494, -3.2558],\n",
       "         [ 0.8461, -0.3517, -0.0523,  ..., -0.1723, -0.8778, -3.2876]]])"
      ]
     },
     "execution_count": 76,
     "metadata": {},
     "output_type": "execute_result"
    }
   ],
   "source": [
    "representations[1]"
   ]
  },
  {
   "attachments": {},
   "cell_type": "markdown",
   "metadata": {},
   "source": [
    "## adequate to many chains, instead of many elements in the dataset"
   ]
  },
  {
   "cell_type": "code",
   "execution_count": 82,
   "metadata": {},
   "outputs": [],
   "source": [
    "def pdb_to_sequences(pdb_filepath: str) -> List[str]:\n",
    "    pdb_parser = PDB.PDBParser(QUIET=True)\n",
    "    structure = pdb_parser.get_structure(\"X\", pdb_filepath)\n",
    "    # Using C-N\n",
    "    ppb = PDB.PPBuilder()\n",
    "    polypeptide_sequences = [\n",
    "        str(pp.get_sequence()) for pp in ppb.build_peptides(structure)\n",
    "    ]\n",
    "    return polypeptide_sequences"
   ]
  },
  {
   "cell_type": "code",
   "execution_count": 83,
   "metadata": {},
   "outputs": [],
   "source": [
    "def parse_pdb_files2(pdb_filepath: str) -> List[str]:\n",
    "    data = []\n",
    "    protein = pdb_to_sequences(pdb_filepath)\n",
    "    for i, chain in enumerate(protein):\n",
    "        data.append((i, chain))\n",
    "    return data"
   ]
  },
  {
   "cell_type": "code",
   "execution_count": 100,
   "metadata": {},
   "outputs": [],
   "source": [
    "lista = parse_pdb_files2(path_protein)"
   ]
  },
  {
   "cell_type": "code",
   "execution_count": 101,
   "metadata": {},
   "outputs": [
    {
     "data": {
      "text/plain": [
       "[(0,\n",
       "  'ELVMTQTPLSLPVSLGDQASISCRSSQSLLHSNGNTYLHWYLQKPGQSPKLLIYKVSNRFSGVPDRFSGSGSGTDFTLKISRVEAEDLGVYFCSQVTHVPPTFGGGTKLEIKRTVAAPSVFIFPPSDEQLKSGTASVVCLLNNFYPREAKVQWKVDNALQSGNSQESVTEQDSKDSTYSLSSTLTLSKADYEKHKVYACEVTHQGLSSPVTKSFNRG'),\n",
       " (1,\n",
       "  'QVQLLESGPELKKPGETVKISCKASGYTFTNYGMNWVKQAPGKGLKWMGWINTYTGEPTYADDFKGRFAFSLETSASTAYLQINNLKNEDTATYFCVQAERLRRTFDYWGAGTTVTVSSASTKGPSVFPLAPSSKSTSGGTAALGCLVKDYFPEPVTVSWNSGALTSGVHTFPAVLQSSGLYSLSSVVTVPSSSLGTQTYICNVNHKPSNTKVDKKV'),\n",
       " (2,\n",
       "  'ELVMTQTPLSLPVSLGDQASISCRSSQSLLHSNGNTYLHWYLQKPGQSPKLLIYKVSNRFSGVPDRFSGSGSGTDFTLKISRVEAEDLGVYFCSQVTHVPPTFGGGTKLEIKRTVAAPSVFIFPPSDEQLKSGTASVVCLLNNFYPREAKVQWKVDNALQSGNSQESVTEQDSKDSTYSLSSTLTLSKADYEKHKVYACEVTHQGLSSPVTKSFNR'),\n",
       " (3,\n",
       "  'QVQLLESGPELKKPGETVKISCKASGYTFTNYGMNWVKQAPGKGLKWMGWINTYTGEPTYADDFKGRFAFSLETSASTAYLQINNLKNEDTATYFCVQAERLRRTFDYWGAGTTVTVSSASTKGPSVFPLAPSSKSTSGGTAALGCLVKDYFPEPVTVSWNSGALTSGVHTFPAVLQSSGLYSLSSVVTVPSSSLGTQTYICNVNHKPSNTKVDKKVEP')]"
      ]
     },
     "execution_count": 101,
     "metadata": {},
     "output_type": "execute_result"
    }
   ],
   "source": [
    "lista"
   ]
  },
  {
   "cell_type": "code",
   "execution_count": 102,
   "metadata": {},
   "outputs": [],
   "source": [
    "batch_labels, batch_strs, _ = batch_converter(lista)"
   ]
  },
  {
   "cell_type": "code",
   "execution_count": 127,
   "metadata": {},
   "outputs": [
    {
     "data": {
      "text/plain": [
       "([0, 1, 2, 3],\n",
       " ['ELVMTQTPLSLPVSLGDQASISCRSSQSLLHSNGNTYLHWYLQKPGQSPKLLIYKVSNRFSGVPDRFSGSGSGTDFTLKISRVEAEDLGVYFCSQVTHVPPTFGGGTKLEIKRTVAAPSVFIFPPSDEQLKSGTASVVCLLNNFYPREAKVQWKVDNALQSGNSQESVTEQDSKDSTYSLSSTLTLSKADYEKHKVYACEVTHQGLSSPVTKSFNRG',\n",
       "  'QVQLLESGPELKKPGETVKISCKASGYTFTNYGMNWVKQAPGKGLKWMGWINTYTGEPTYADDFKGRFAFSLETSASTAYLQINNLKNEDTATYFCVQAERLRRTFDYWGAGTTVTVSSASTKGPSVFPLAPSSKSTSGGTAALGCLVKDYFPEPVTVSWNSGALTSGVHTFPAVLQSSGLYSLSSVVTVPSSSLGTQTYICNVNHKPSNTKVDKKV',\n",
       "  'ELVMTQTPLSLPVSLGDQASISCRSSQSLLHSNGNTYLHWYLQKPGQSPKLLIYKVSNRFSGVPDRFSGSGSGTDFTLKISRVEAEDLGVYFCSQVTHVPPTFGGGTKLEIKRTVAAPSVFIFPPSDEQLKSGTASVVCLLNNFYPREAKVQWKVDNALQSGNSQESVTEQDSKDSTYSLSSTLTLSKADYEKHKVYACEVTHQGLSSPVTKSFNR',\n",
       "  'QVQLLESGPELKKPGETVKISCKASGYTFTNYGMNWVKQAPGKGLKWMGWINTYTGEPTYADDFKGRFAFSLETSASTAYLQINNLKNEDTATYFCVQAERLRRTFDYWGAGTTVTVSSASTKGPSVFPLAPSSKSTSGGTAALGCLVKDYFPEPVTVSWNSGALTSGVHTFPAVLQSSGLYSLSSVVTVPSSSLGTQTYICNVNHKPSNTKVDKKVEP'])"
      ]
     },
     "execution_count": 127,
     "metadata": {},
     "output_type": "execute_result"
    }
   ],
   "source": [
    "batch_labels, batch_strs"
   ]
  },
  {
   "cell_type": "code",
   "execution_count": 143,
   "metadata": {},
   "outputs": [],
   "source": [
    "dataset = FastaBatchedDataset(batch_labels, batch_strs)"
   ]
  },
  {
   "cell_type": "code",
   "execution_count": 117,
   "metadata": {},
   "outputs": [
    {
     "data": {
      "text/plain": [
       "(3,\n",
       " 'QVQLLESGPELKKPGETVKISCKASGYTFTNYGMNWVKQAPGKGLKWMGWINTYTGEPTYADDFKGRFAFSLETSASTAYLQINNLKNEDTATYFCVQAERLRRTFDYWGAGTTVTVSSASTKGPSVFPLAPSSKSTSGGTAALGCLVKDYFPEPVTVSWNSGALTSGVHTFPAVLQSSGLYSLSSVVTVPSSSLGTQTYICNVNHKPSNTKVDKKVEP')"
      ]
     },
     "execution_count": 117,
     "metadata": {},
     "output_type": "execute_result"
    }
   ],
   "source": [
    "dataset.__getitem__(3)"
   ]
  },
  {
   "cell_type": "code",
   "execution_count": 144,
   "metadata": {},
   "outputs": [],
   "source": [
    "batches = dataset.get_batch_indices(1, extra_toks_per_seq=1)\n",
    "data_loader = torch.utils.data.DataLoader(dataset,collate_fn=batch_converter,batch_sampler=batches)"
   ]
  },
  {
   "cell_type": "code",
   "execution_count": 154,
   "metadata": {},
   "outputs": [
    {
     "name": "stdout",
     "output_type": "stream",
     "text": [
      "0 [2] ['ELVMTQTPLSLPVSLGDQASISCRSSQSLLHSNGNTYLHWYLQKPGQSPKLLIYKVSNRFSGVPDRFSGSGSGTDFTLKISRVEAEDLGVYFCSQVTHVPPTFGGGTKLEIKRTVAAPSVFIFPPSDEQLKSGTASVVCLLNNFYPREAKVQWKVDNALQSGNSQESVTEQDSKDSTYSLSSTLTLSKADYEKHKVYACEVTHQGLSSPVTKSFNR']\n",
      "1 [0] ['ELVMTQTPLSLPVSLGDQASISCRSSQSLLHSNGNTYLHWYLQKPGQSPKLLIYKVSNRFSGVPDRFSGSGSGTDFTLKISRVEAEDLGVYFCSQVTHVPPTFGGGTKLEIKRTVAAPSVFIFPPSDEQLKSGTASVVCLLNNFYPREAKVQWKVDNALQSGNSQESVTEQDSKDSTYSLSSTLTLSKADYEKHKVYACEVTHQGLSSPVTKSFNRG']\n",
      "2 [1] ['QVQLLESGPELKKPGETVKISCKASGYTFTNYGMNWVKQAPGKGLKWMGWINTYTGEPTYADDFKGRFAFSLETSASTAYLQINNLKNEDTATYFCVQAERLRRTFDYWGAGTTVTVSSASTKGPSVFPLAPSSKSTSGGTAALGCLVKDYFPEPVTVSWNSGALTSGVHTFPAVLQSSGLYSLSSVVTVPSSSLGTQTYICNVNHKPSNTKVDKKV']\n",
      "3 [3] ['QVQLLESGPELKKPGETVKISCKASGYTFTNYGMNWVKQAPGKGLKWMGWINTYTGEPTYADDFKGRFAFSLETSASTAYLQINNLKNEDTATYFCVQAERLRRTFDYWGAGTTVTVSSASTKGPSVFPLAPSSKSTSGGTAALGCLVKDYFPEPVTVSWNSGALTSGVHTFPAVLQSSGLYSLSSVVTVPSSSLGTQTYICNVNHKPSNTKVDKKVEP']\n"
     ]
    }
   ],
   "source": [
    "results = dict()\n",
    "with torch.no_grad():\n",
    "    for i, (labels, strs, toks) in enumerate(data_loader):\n",
    "        print(i, labels, strs)\n",
    "        out = model(toks, repr_layers=repr_layers, return_contacts=False)\n",
    "        results[labels[0]] = out['representations'][1]"
   ]
  },
  {
   "cell_type": "code",
   "execution_count": 155,
   "metadata": {},
   "outputs": [
    {
     "data": {
      "text/plain": [
       "{2: tensor([[[-0.0775,  0.5596, -0.0402,  ...,  0.2912, -0.1636, -4.1395],\n",
       "          [-0.3117, -0.1180,  0.3821,  ..., -0.0972,  0.4499, -2.9818],\n",
       "          [-0.1690, -0.0445,  0.0805,  ...,  0.1739,  0.2628, -2.6350],\n",
       "          ...,\n",
       "          [-0.3568,  0.4562, -0.0437,  ..., -0.0302,  0.1226, -3.9014],\n",
       "          [-0.1342,  0.1431, -0.2939,  ...,  0.4557, -0.0637, -3.6827],\n",
       "          [ 0.7119,  0.1444,  0.0844,  ..., -0.1247, -0.6918, -3.5571]]]),\n",
       " 0: tensor([[[-0.0821,  0.5629, -0.0410,  ...,  0.2861, -0.1638, -4.1420],\n",
       "          [-0.3090, -0.1121,  0.3785,  ..., -0.0972,  0.4500, -2.9836],\n",
       "          [-0.1675, -0.0396,  0.0763,  ...,  0.1776,  0.2635, -2.6344],\n",
       "          ...,\n",
       "          [-0.2463, -0.0132, -0.1701,  ...,  0.5264, -0.0540, -3.6004],\n",
       "          [-0.3135, -0.0701, -0.2101,  ...,  0.0784, -0.1260, -3.7980],\n",
       "          [ 0.7204,  0.1123,  0.0805,  ..., -0.0528, -0.8757, -3.6267]]]),\n",
       " 1: tensor([[[-0.1908,  0.5888, -0.0579,  ...,  0.3373, -0.1763, -4.3784],\n",
       "          [-0.2637, -0.0669,  0.1788,  ..., -0.1984,  0.3462, -3.3656],\n",
       "          [ 0.0818,  0.1784,  0.4642,  ...,  0.3361,  0.3476, -3.0957],\n",
       "          ...,\n",
       "          [-0.1211,  0.0124, -0.0643,  ..., -0.0423, -0.2308, -3.3823],\n",
       "          [ 0.0458, -0.0369,  0.1261,  ...,  0.0230, -0.0677, -3.1776],\n",
       "          [ 0.8100, -0.3328, -0.1441,  ..., -0.0211, -0.8771, -3.1522]]]),\n",
       " 3: tensor([[[-0.1915,  0.5826, -0.0663,  ...,  0.3430, -0.1762, -4.3831],\n",
       "          [-0.2651, -0.0640,  0.1722,  ..., -0.1987,  0.3459, -3.3668],\n",
       "          [ 0.0815,  0.1780,  0.4591,  ...,  0.3362,  0.3494, -3.1021],\n",
       "          ...,\n",
       "          [-0.1838, -0.5669, -0.0776,  ..., -0.1460, -0.0283, -3.4215],\n",
       "          [-0.2369, -0.3772,  0.2040,  ..., -0.2198, -0.2494, -3.2558],\n",
       "          [ 0.8461, -0.3517, -0.0523,  ..., -0.1723, -0.8778, -3.2876]]])}"
      ]
     },
     "execution_count": 155,
     "metadata": {},
     "output_type": "execute_result"
    }
   ],
   "source": [
    "results"
   ]
  },
  {
   "cell_type": "code",
   "execution_count": null,
   "metadata": {},
   "outputs": [],
   "source": []
  }
 ],
 "metadata": {
  "kernelspec": {
   "display_name": "env_mol_bind",
   "language": "python",
   "name": "python3"
  },
  "language_info": {
   "codemirror_mode": {
    "name": "ipython",
    "version": 3
   },
   "file_extension": ".py",
   "mimetype": "text/x-python",
   "name": "python",
   "nbconvert_exporter": "python",
   "pygments_lexer": "ipython3",
   "version": "3.10.8"
  },
  "orig_nbformat": 4
 },
 "nbformat": 4,
 "nbformat_minor": 2
}
