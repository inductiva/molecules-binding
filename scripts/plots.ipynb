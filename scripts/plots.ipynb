{
    "cells": [
        {
            "cell_type": "code",
            "execution_count": 1,
            "metadata": {},
            "outputs": [
                {
                    "name": "stderr",
                    "output_type": "stream",
                    "text": [
                        "/home/sofiaguerreiro/molecules-binding/.env/lib/python3.10/site-packages/tqdm/auto.py:21: TqdmWarning: IProgress not found. Please update jupyter and ipywidgets. See https://ipywidgets.readthedocs.io/en/stable/user_install.html\n",
                        "  from .autonotebook import tqdm as notebook_tqdm\n"
                    ]
                }
            ],
            "source": [
                "import torch"
            ]
        },
        {
            "attachments": {},
            "cell_type": "markdown",
            "metadata": {},
            "source": [
                "## Download the results in CASF for different training:"
            ]
        },
        {
            "attachments": {},
            "cell_type": "markdown",
            "metadata": {},
            "source": [
                "#### Results for NodeEdgeGNN, 5 seeds 3 processor 128, usual"
            ]
        },
        {
            "cell_type": "code",
            "execution_count": 59,
            "metadata": {},
            "outputs": [],
            "source": [
                "results_1 = torch.load(\"../../results/placid-elk-736\")\n",
                "results_2 = torch.load(\"../../results/respected-finch-308\")\n",
                "results_3 = torch.load(\"../../results/bold-skunk-509\")\n",
                "results_4 = torch.load(\"../../results/crawling-shad-989\")\n",
                "results_5 = torch.load(\"../../results/learned-boar-983\")"
            ]
        },
        {
            "attachments": {},
            "cell_type": "markdown",
            "metadata": {},
            "source": [
                "Results for NodeEdgeGNN, 5 seeds 3 processor 128, test for holdout2019"
            ]
        },
        {
            "cell_type": "code",
            "execution_count": 40,
            "metadata": {},
            "outputs": [],
            "source": [
                "results_1 = torch.load(\"../../resultsholdout2019/placid-elk-736\")\n",
                "results_2 = torch.load(\"../../resultsholdout2019/respected-finch-308\")\n",
                "results_3 = torch.load(\"../../resultsholdout2019/bold-skunk-509\")\n",
                "results_4 = torch.load(\"../../resultsholdout2019/crawling-shad-989\")\n",
                "results_5 = torch.load(\"../../resultsholdout2019/learned-boar-983\")"
            ]
        },
        {
            "attachments": {},
            "cell_type": "markdown",
            "metadata": {},
            "source": [
                "Results for NodeEdgeGNN, 5 seeds 3 processor 128 for CASF (without weight decay or dropout)"
            ]
        },
        {
            "cell_type": "code",
            "execution_count": 2,
            "metadata": {},
            "outputs": [],
            "source": [
                "results_1 = torch.load(\"../../results/orderly-worm-516\")\n",
                "results_2 = torch.load(\"../../results/sassy-vole-612\")\n",
                "results_3 = torch.load(\"../../results/honorable-pig-916\")\n",
                "results_4 = torch.load(\"../../results/invincible-zebra-803\")\n",
                "results_5 = torch.load(\"../../results/legendary-auk-611\")"
            ]
        },
        {
            "attachments": {},
            "cell_type": "markdown",
            "metadata": {},
            "source": [
                "Results for NodeEdgeGNN, 5 seeds 3 processor 128 for validation set"
            ]
        },
        {
            "cell_type": "code",
            "execution_count": 29,
            "metadata": {},
            "outputs": [],
            "source": [
                "results_1 = torch.load(\"../../resultsval/placid-elk-736\")\n",
                "results_2 = torch.load(\"../../resultsval/respected-finch-308\")\n",
                "results_3 = torch.load(\"../../resultsval/bold-skunk-509\")\n",
                "results_4 = torch.load(\"../../resultsval/crawling-shad-989\")\n",
                "results_5 = torch.load(\"../../resultsval/learned-boar-983\")"
            ]
        },
        {
            "cell_type": "code",
            "execution_count": 57,
            "metadata": {},
            "outputs": [],
            "source": [
                "results_5 = torch.load(\"../../resultstrain/learned-boar-983\")"
            ]
        },
        {
            "attachments": {},
            "cell_type": "markdown",
            "metadata": {},
            "source": [
                "#### Results for NodeEdgeGNN, 5 seeds, 3 processors, 128 size, trained on refined 2016"
            ]
        },
        {
            "cell_type": "code",
            "execution_count": 10,
            "metadata": {},
            "outputs": [],
            "source": [
                "results_1 = torch.load(\"../../results/dashing-ram-127\")\n",
                "results_2 = torch.load(\"../../results/charming-worm-552\")\n",
                "results_3 = torch.load(\"../../results/redolent-ram-6\")\n",
                "results_4 = torch.load(\"../../results/glamorous-asp-389\")\n",
                "results_5 = torch.load(\"../../results/masked-robin-647\")"
            ]
        },
        {
            "attachments": {},
            "cell_type": "markdown",
            "metadata": {},
            "source": [
                "#### Results for NodeEdgeGNN, 5 seeds, 3 processors, 128 size, trained on general 2020"
            ]
        },
        {
            "cell_type": "code",
            "execution_count": 15,
            "metadata": {},
            "outputs": [],
            "source": [
                "results_1 = torch.load(\"../../results/skittish-crane-3\")\n",
                "results_2 = torch.load(\"../../results/honorable-croc-497\")\n",
                "results_3 = torch.load(\"../../results/bustling-chimp-364\")\n",
                "results_4 = torch.load(\"../../results/silent-goat-509\")\n",
                "results_5 = torch.load(\"../../results/shivering-calf-793\")"
            ]
        },
        {
            "attachments": {},
            "cell_type": "markdown",
            "metadata": {},
            "source": [
                "#### Results for NodeEdgeGNN, 5 seeds, 3 processors, 128 size, trained on refined 2020"
            ]
        },
        {
            "cell_type": "code",
            "execution_count": 19,
            "metadata": {},
            "outputs": [],
            "source": [
                "results_1 = torch.load(\"../../results/debonair-cat-137\")\n",
                "results_2 = torch.load(\"../../results/popular-cow-666\")\n",
                "results_3 = torch.load(\"../../results/omniscient-moose-46\")\n",
                "results_4 = torch.load(\"../../results/mysterious-dove-943\")\n",
                "results_5 = torch.load(\"../../results/overjoyed-deer-222\")"
            ]
        },
        {
            "attachments": {},
            "cell_type": "markdown",
            "metadata": {},
            "source": [
                "## Aggregate all results"
            ]
        },
        {
            "cell_type": "code",
            "execution_count": 30,
            "metadata": {},
            "outputs": [],
            "source": [
                "results = torch.stack([results_1, results_2, results_3, results_4, results_5]).mean(dim=0)"
            ]
        },
        {
            "attachments": {},
            "cell_type": "markdown",
            "metadata": {},
            "source": [
                "## Or consider the results other sanity checks"
            ]
        },
        {
            "attachments": {},
            "cell_type": "markdown",
            "metadata": {},
            "source": [
                "### Aggregating edges, nodes or both"
            ]
        },
        {
            "cell_type": "code",
            "execution_count": 39,
            "metadata": {},
            "outputs": [],
            "source": [
                "# results = torch.load(\"../../results/silent-bird-525\") # only edges\n",
                "# results = torch.load(\"../../results/charming-newt-715\") # only nodes\n",
                "results = torch.load(\"../../results/placid-elk-736\") # both"
            ]
        },
        {
            "attachments": {},
            "cell_type": "markdown",
            "metadata": {},
            "source": [
                "### Aggregating with sum or mean"
            ]
        },
        {
            "cell_type": "code",
            "execution_count": 15,
            "metadata": {},
            "outputs": [],
            "source": [
                "# results = torch.load(\"../../results/placid-elk-736\")\n",
                "results = torch.load(\"../../results/peaceful-hen-601\")"
            ]
        },
        {
            "attachments": {},
            "cell_type": "markdown",
            "metadata": {},
            "source": [
                "#### No dropout or weight decay"
            ]
        },
        {
            "cell_type": "code",
            "execution_count": 14,
            "metadata": {},
            "outputs": [],
            "source": [
                "results = torch.load(\"../../results/orderly-worm-516\")"
            ]
        },
        {
            "attachments": {},
            "cell_type": "markdown",
            "metadata": {},
            "source": [
                "#### Experiment with coords\n",
                "model trained on coords centered on ligand"
            ]
        },
        {
            "cell_type": "code",
            "execution_count": 38,
            "metadata": {},
            "outputs": [],
            "source": [
                "# results = torch.load(\"../../results_coord/unequaled-wasp-765\")\n",
                "# RMSE: 1.1810\n",
                "# Pearson Correlation: 0.7760\n",
                "# results = torch.load(\"../../results_coord/rotate30/unequaled-wasp-765\")\n",
                "# RMSE: 1.1965\n",
                "# Pearson Correlation: 0.7685\n",
                "\n",
                "# results = torch.load(\"../../results_coord/rotate60/unequaled-wasp-765\")\n",
                "# RMSE: 1.2600\n",
                "# Pearson Correlation: 0.7383\n",
                "\n",
                "# results = torch.load(\"../../results_coord/rotate90/unequaled-wasp-765\")\n",
                "# RMSE: 1.3262\n",
                "# Pearson Correlation: 0.7049\n",
                "\n",
                "# results = torch.load(\"../../results_coord/rotate120/unequaled-wasp-765\")\n",
                "# RMSE: 1.3702\n",
                "# Pearson Correlation: 0.6810\n",
                "\n",
                "# results = torch.load(\"../../results_coord/rotate150/unequaled-wasp-765\")\n",
                "# RMSE: 1.3939\n",
                "# Pearson Correlation: 0.6679\n",
                "\n",
                "# results = torch.load(\"../../results_coord/rotate180/unequaled-wasp-765\")\n",
                "# RMSE: 1.3807\n",
                "# Pearson Correlation: 0.6752\n",
                "\n",
                "# results = torch.load(\"../../results_coord/rotate304560/unequaled-wasp-765\")\n",
                "# RMSE: 1.2710\n",
                "# Pearson Correlation: 0.7333\n",
                "# results = torch.load(\"../../results_coord/rotate304560/unequaled-wasp-765\") # it was random\n",
                "# RMSE: 1.3379\n",
                "# Pearson Correlation: 0.6997\n",
                "#results = torch.load(\"../../results_coord/random1/unequaled-wasp-765\")\n",
                "# RMSE: 1.3024\n",
                "# Pearson Correlation: 0.7167\n",
                "# results = torch.load(\"../../results_coord/random2/unequaled-wasp-765\")\n",
                "# RMSE: 1.3522\n",
                "# Pearson Correlation: 0.6909\n",
                "# results = torch.load(\"../../results_coord/random3/unequaled-wasp-765\")\n",
                "# RMSE: 1.3344\n",
                "# Pearson Correlation: 0.7005"
            ]
        },
        {
            "cell_type": "code",
            "execution_count": 61,
            "metadata": {},
            "outputs": [],
            "source": [
                "# results = torch.load(\"../../results_coord/delightful-bear-292\")\n",
                "# RMSE: 1.1774\n",
                "# Pearson Correlation: 0.7779\n",
                "# results = torch.load(\"../../results_coord/translation5/delightful-bear-292\")\n",
                "# RMSE: 1.1852\n",
                "# Pearson Correlation: 0.7744\n",
                "# results = torch.load(\"../../results_coord/translation111/delightful-bear-292\")\n",
                "# RMSE: 1.1995\n",
                "# Pearson Correlation: 0.7673\n",
                "# results = torch.load(\"../../results_coord/translation15/delightful-bear-292\")\n",
                "# RMSE: 1.2299\n",
                "# Pearson Correlation: 0.7531\n",
                "# results = torch.load(\"../../results_coord/translation20/delightful-bear-292\")\n",
                "# RMSE: 1.2696\n",
                "# Pearson Correlation: 0.7343\n",
                "# results = torch.load(\"../../results_coord/rotate180/delightful-bear-292\")\n",
                "# RMSE: 1.1766\n",
                "# Pearson Correlation: 0.7782\n",
                "results = torch.load(\"../../results_coord/rotate90/delightful-bear-292\")\n",
                "# RMSE: 1.1789\n",
                "# Pearson Correlation: 0.7773"
            ]
        },
        {
            "attachments": {},
            "cell_type": "markdown",
            "metadata": {},
            "source": [
                "#### from Boron"
            ]
        },
        {
            "attachments": {},
            "cell_type": "markdown",
            "metadata": {},
            "source": [
                "#### Aggregating with sum or mean"
            ]
        },
        {
            "cell_type": "code",
            "execution_count": null,
            "metadata": {},
            "outputs": [],
            "source": [
                "# results = torch.load(\"../../results/placid-elk-736\")\n",
                "results = torch.load(\"../../results/peaceful-hen-601\")"
            ]
        },
        {
            "attachments": {},
            "cell_type": "markdown",
            "metadata": {},
            "source": [
                "#### No dropout or weight decay"
            ]
        },
        {
            "cell_type": "code",
            "execution_count": null,
            "metadata": {},
            "outputs": [],
            "source": [
                "results = torch.load(\"../../results/orderly-worm-516\")"
            ]
        },
        {
            "attachments": {},
            "cell_type": "markdown",
            "metadata": {},
            "source": [
                "#### Leak Proof Dataset testing"
            ]
        },
        {
            "cell_type": "code",
            "execution_count": 34,
            "metadata": {},
            "outputs": [
                {
                    "name": "stdout",
                    "output_type": "stream",
                    "text": [
                        "torch.Size([4736, 2])\n",
                        "torch.Size([4732, 2])\n"
                    ]
                }
            ],
            "source": [
                "# results = torch.load(\"../../results/spiffy-colt-275\")\n",
                "results = torch.load(\"../../results/flawless-gnu-255\")\n",
                "print(results.shape)\n",
                "# remove nans\n",
                "results = results[~torch.isnan(results).any(dim=1)]\n",
                "print(results.shape)"
            ]
        },
        {
            "cell_type": "code",
            "execution_count": 33,
            "metadata": {},
            "outputs": [
                {
                    "ename": "FileNotFoundError",
                    "evalue": "[Errno 2] No such file or directory: '../../results/spiffy-fly-179'",
                    "output_type": "error",
                    "traceback": [
                        "\u001b[0;31m---------------------------------------------------------------------------\u001b[0m",
                        "\u001b[0;31mFileNotFoundError\u001b[0m                         Traceback (most recent call last)",
                        "Cell \u001b[0;32mIn[33], line 1\u001b[0m\n\u001b[0;32m----> 1\u001b[0m results \u001b[39m=\u001b[39m torch\u001b[39m.\u001b[39;49mload(\u001b[39m\"\u001b[39;49m\u001b[39m../../results/spiffy-fly-179\u001b[39;49m\u001b[39m\"\u001b[39;49m)\n\u001b[1;32m      2\u001b[0m results \u001b[39m=\u001b[39m results[\u001b[39m~\u001b[39mtorch\u001b[39m.\u001b[39misnan(results)\u001b[39m.\u001b[39many(dim\u001b[39m=\u001b[39m\u001b[39m1\u001b[39m)]\n",
                        "File \u001b[0;32m~/molecules-binding/.env/lib/python3.10/site-packages/torch/serialization.py:771\u001b[0m, in \u001b[0;36mload\u001b[0;34m(f, map_location, pickle_module, weights_only, **pickle_load_args)\u001b[0m\n\u001b[1;32m    768\u001b[0m \u001b[39mif\u001b[39;00m \u001b[39m'\u001b[39m\u001b[39mencoding\u001b[39m\u001b[39m'\u001b[39m \u001b[39mnot\u001b[39;00m \u001b[39min\u001b[39;00m pickle_load_args\u001b[39m.\u001b[39mkeys():\n\u001b[1;32m    769\u001b[0m     pickle_load_args[\u001b[39m'\u001b[39m\u001b[39mencoding\u001b[39m\u001b[39m'\u001b[39m] \u001b[39m=\u001b[39m \u001b[39m'\u001b[39m\u001b[39mutf-8\u001b[39m\u001b[39m'\u001b[39m\n\u001b[0;32m--> 771\u001b[0m \u001b[39mwith\u001b[39;00m _open_file_like(f, \u001b[39m'\u001b[39;49m\u001b[39mrb\u001b[39;49m\u001b[39m'\u001b[39;49m) \u001b[39mas\u001b[39;00m opened_file:\n\u001b[1;32m    772\u001b[0m     \u001b[39mif\u001b[39;00m _is_zipfile(opened_file):\n\u001b[1;32m    773\u001b[0m         \u001b[39m# The zipfile reader is going to advance the current file position.\u001b[39;00m\n\u001b[1;32m    774\u001b[0m         \u001b[39m# If we want to actually tail call to torch.jit.load, we need to\u001b[39;00m\n\u001b[1;32m    775\u001b[0m         \u001b[39m# reset back to the original position.\u001b[39;00m\n\u001b[1;32m    776\u001b[0m         orig_position \u001b[39m=\u001b[39m opened_file\u001b[39m.\u001b[39mtell()\n",
                        "File \u001b[0;32m~/molecules-binding/.env/lib/python3.10/site-packages/torch/serialization.py:270\u001b[0m, in \u001b[0;36m_open_file_like\u001b[0;34m(name_or_buffer, mode)\u001b[0m\n\u001b[1;32m    268\u001b[0m \u001b[39mdef\u001b[39;00m \u001b[39m_open_file_like\u001b[39m(name_or_buffer, mode):\n\u001b[1;32m    269\u001b[0m     \u001b[39mif\u001b[39;00m _is_path(name_or_buffer):\n\u001b[0;32m--> 270\u001b[0m         \u001b[39mreturn\u001b[39;00m _open_file(name_or_buffer, mode)\n\u001b[1;32m    271\u001b[0m     \u001b[39melse\u001b[39;00m:\n\u001b[1;32m    272\u001b[0m         \u001b[39mif\u001b[39;00m \u001b[39m'\u001b[39m\u001b[39mw\u001b[39m\u001b[39m'\u001b[39m \u001b[39min\u001b[39;00m mode:\n",
                        "File \u001b[0;32m~/molecules-binding/.env/lib/python3.10/site-packages/torch/serialization.py:251\u001b[0m, in \u001b[0;36m_open_file.__init__\u001b[0;34m(self, name, mode)\u001b[0m\n\u001b[1;32m    250\u001b[0m \u001b[39mdef\u001b[39;00m \u001b[39m__init__\u001b[39m(\u001b[39mself\u001b[39m, name, mode):\n\u001b[0;32m--> 251\u001b[0m     \u001b[39msuper\u001b[39m(_open_file, \u001b[39mself\u001b[39m)\u001b[39m.\u001b[39m\u001b[39m__init__\u001b[39m(\u001b[39mopen\u001b[39;49m(name, mode))\n",
                        "\u001b[0;31mFileNotFoundError\u001b[0m: [Errno 2] No such file or directory: '../../results/spiffy-fly-179'"
                    ]
                }
            ],
            "source": [
                "results = torch.load(\"../../results/spiffy-fly-179\")\n",
                "results = results[~torch.isnan(results).any(dim=1)]"
            ]
        },
        {
            "attachments": {},
            "cell_type": "markdown",
            "metadata": {},
            "source": [
                "### Sanity check - only ligand or only protein"
            ]
        },
        {
            "cell_type": "code",
            "execution_count": 2,
            "metadata": {},
            "outputs": [],
            "source": [
                "results = torch.load(\"../../results/orderly-bug-666\")"
            ]
        },
        {
            "cell_type": "code",
            "execution_count": 10,
            "metadata": {},
            "outputs": [],
            "source": [
                "results = torch.load(\"../../results/mercurial-turtle-805\")"
            ]
        },
        {
            "cell_type": "code",
            "execution_count": 13,
            "metadata": {},
            "outputs": [],
            "source": [
                "results = torch.load(\"../../results/omniscient-flea-74\")"
            ]
        },
        {
            "attachments": {},
            "cell_type": "markdown",
            "metadata": {},
            "source": [
                "### Potential net results"
            ]
        },
        {
            "cell_type": "code",
            "execution_count": 15,
            "metadata": {},
            "outputs": [],
            "source": [
                "# structure split\n",
                "results = torch.load(\"../../results/invincible-hound-986\")"
            ]
        },
        {
            "cell_type": "code",
            "execution_count": 22,
            "metadata": {},
            "outputs": [],
            "source": [
                "# results = torch.load(\"../../results/rogue-shark-480\")\n",
                "# results = torch.load(\"../../results/enchanting-steed-930\")\n",
                "results = torch.load(\"../../results/awesome-gnat-580\")"
            ]
        },
        {
            "attachments": {},
            "cell_type": "markdown",
            "metadata": {},
            "source": [
                "## Running Results"
            ]
        },
        {
            "cell_type": "code",
            "execution_count": 31,
            "metadata": {},
            "outputs": [
                {
                    "name": "stdout",
                    "output_type": "stream",
                    "text": [
                        "MAE: 0.3993\n",
                        "MSE: 0.2631\n",
                        "RMSE: 0.5129\n",
                        "Pearson Correlation: 0.7840\n",
                        "Spearman Correlation: 0.7647\n",
                        "Standard Deviation: 0.5131\n"
                    ]
                }
            ],
            "source": [
                "import numpy as np\n",
                "from scipy.stats import pearsonr, spearmanr\n",
                "\n",
                "# Example input tensor\n",
                "input_tensor = results\n",
                "\n",
                "# Calculate MAE, MSE, RMSE\n",
                "differences = input_tensor[:, 0] - input_tensor[:, 1]\n",
                "mae = torch.mean(torch.abs(differences))\n",
                "mse = torch.mean(differences**2)\n",
                "rmse = torch.sqrt(mse)\n",
                "\n",
                "# Calculate Pearson correlation\n",
                "pearson_corr, _ = pearsonr(input_tensor[:, 0], input_tensor[:, 1])\n",
                "\n",
                "# Calculate Spearman correlation\n",
                "spearman_corr, _ = spearmanr(input_tensor[:, 0], input_tensor[:, 1])\n",
                "\n",
                "# Calculate standard deviation\n",
                "std_deviation = torch.std(differences)\n",
                "\n",
                "print(f\"MAE: {mae:.4f}\")\n",
                "print(f\"MSE: {mse:.4f}\")\n",
                "print(f\"RMSE: {rmse:.4f}\")\n",
                "print(f\"Pearson Correlation: {pearson_corr:.4f}\")\n",
                "print(f\"Spearman Correlation: {spearman_corr:.4f}\")\n",
                "print(f\"Standard Deviation: {std_deviation:.4f}\")"
            ]
        },
        {
            "attachments": {},
            "cell_type": "markdown",
            "metadata": {},
            "source": [
                "all predictions"
            ]
        },
        {
            "cell_type": "code",
            "execution_count": 7,
            "metadata": {},
            "outputs": [],
            "source": [
                "import torch\n",
                "import numpy as np\n",
                "from scipy.stats import pearsonr, spearmanr\n",
                "from matplotlib import pyplot as plt"
            ]
        },
        {
            "cell_type": "code",
            "execution_count": 8,
            "metadata": {},
            "outputs": [],
            "source": [
                "import seaborn as sns\n",
                "sns.set_style(\"darkgrid\")\n",
                "cm = 1/2.54 \n",
                "colors = ['#4477AA', '#EE6677', '#228833', '#CCBB44', '#66CCEE', '#AA3377', '#BBBBBB', '#f75c5c', '#5a90e9']\n",
                "# plt.rcParams.update({\n",
                "#     \"text.usetex\": False,\n",
                "#     \"font.family\": \"sans-serif\",\n",
                "#     \"font.sans-serif\": [\"Helvetica\"]})"
            ]
        },
        {
            "cell_type": "code",
            "execution_count": 53,
            "metadata": {},
            "outputs": [
                {
                    "name": "stdout",
                    "output_type": "stream",
                    "text": [
                        "Model 1 Root Mean Squared Error: 1.128\n",
                        "Model 1 Pearson Correlation: 0.799\n",
                        "Model 2 Root Mean Squared Error: 2.499\n",
                        "Model 2 Pearson Correlation: -0.061\n",
                        "Model 3 Root Mean Squared Error: 2.484\n",
                        "Model 3 Pearson Correlation: -0.022\n",
                        "Model 4 Root Mean Squared Error: 2.390\n",
                        "Model 4 Pearson Correlation: 0.009\n",
                        "Model 5 Root Mean Squared Error: 2.486\n",
                        "Model 5 Pearson Correlation: -0.017\n",
                        "Mean RMSE: 2.197\n",
                        "Mean Pearson Correlation: 0.142\n"
                    ]
                },
                {
                    "data": {
                        "image/png": "[encoded data removed]",
                        "text/plain": [
                            "<Figure size 350x260 with 2 Axes>"
                        ]
                    },
                    "metadata": {},
                    "output_type": "display_data"
                }
            ],
            "source": [
                "# Sample predictions (torch.Tensor vectors)\n",
                "model1_predictions = results_1[:, 0]\n",
                "model2_predictions = results_2[:, 0]\n",
                "model3_predictions = results_3[:, 0]\n",
                "model4_predictions = results_4[:, 0]\n",
                "model5_predictions = results_5[:, 0]\n",
                "\n",
                "# Create a list of model predictions\n",
                "model_predictions = [model1_predictions, model2_predictions, model3_predictions, model4_predictions, model5_predictions]\n",
                "\n",
                "# Calculate correlations between model predictions\n",
                "correlations = np.corrcoef([p.numpy() for p in model_predictions])\n",
                "\n",
                "# Visualize correlations as a heatmap\n",
                "plt.figure(figsize=(3.5, 2.6))\n",
                "plt.imshow(correlations, cmap='RdBu', vmin=0.8, vmax=1)\n",
                "plt.colorbar()\n",
                "#plt.title('Correlation')\n",
                "plt.xlabel('Train/Val Split')\n",
                "plt.ylabel('Train/Val Split')\n",
                "plt.xticks(range(len(model_predictions)), range(1, len(model_predictions) + 1))\n",
                "plt.yticks(range(len(model_predictions)), range(1, len(model_predictions) + 1))\n",
                "# Scatter plots\n",
                "# for i in range(len(model_predictions)):\n",
                "#     for j in range(i + 1, len(model_predictions)):\n",
                "#         plt.figure(figsize=(6, 4))\n",
                "#         plt.scatter(model_predictions[i].numpy(), model_predictions[j].numpy())\n",
                "#         plt.xlabel(f'Model {i + 1} Predictions')\n",
                "#         plt.ylabel(f'Model {j + 1} Predictions')\n",
                "#         plt.title(f'Scatter Plot: Model {i + 1} vs Model {j + 1}')\n",
                "#         plt.show()\n",
                "\n",
                "# Calculate descriptive statistics\n",
                "# for i, predictions in enumerate(model_predictions):\n",
                "#     mean = torch.mean(predictions)\n",
                "#     median = torch.median(predictions)\n",
                "#     std_dev = torch.std(predictions)\n",
                "#     range_min = torch.min(predictions)\n",
                "#     range_max = torch.max(predictions)\n",
                "#     print(f\"Model {i + 1} Statistics:\")\n",
                "#     print(f\"  Mean: {mean:.2f}\")\n",
                "#     print(f\"  Median: {median:.2f}\")\n",
                "#     print(f\"  Standard Deviation: {std_dev:.2f}\")\n",
                "#     print(f\"  Range (Min, Max): ({range_min:.2f}, {range_max:.2f})\")\n",
                "\n",
                "# Error analysis (e.g., Mean Absolute Error)\n",
                "true_values = results_1[:, 1] # True target values\n",
                "mean_RMSE = []\n",
                "mean_pearson = []\n",
                "for i, predictions in enumerate(model_predictions):\n",
                "    error = torch.mean((predictions - true_values)**2)\n",
                "    root_mean_squared_error = torch.sqrt(error)\n",
                "    # pearson correlation\n",
                "    pearson_corr, _ = pearsonr(predictions, true_values)\n",
                "    print(f\"Model {i + 1} Root Mean Squared Error: {root_mean_squared_error:.3f}\")\n",
                "    print(f\"Model {i + 1} Pearson Correlation: {pearson_corr:.3f}\")\n",
                "    mean_RMSE.append(root_mean_squared_error)\n",
                "    mean_pearson.append(pearson_corr)\n",
                "print(f\"Mean RMSE: {np.mean(mean_RMSE):.3f}\")\n",
                "print(f\"Mean Pearson Correlation: {np.mean(mean_pearson):.3f}\")\n",
                "    \n",
                "plt.tight_layout()\n",
                "# plt.savefig('../../figures/figure_1.pdf', bbox_inches='tight')"
            ]
        },
        {
            "cell_type": "code",
            "execution_count": 45,
            "metadata": {},
            "outputs": [
                {
                    "data": {
                        "text/plain": [
                            "1.3699999999999999"
                        ]
                    },
                    "execution_count": 45,
                    "metadata": {},
                    "output_type": "execute_result"
                }
            ],
            "source": [
                "(1.39+1.36+1.35+1.38+1.37)/5"
            ]
        },
        {
            "cell_type": "code",
            "execution_count": 46,
            "metadata": {},
            "outputs": [
                {
                    "data": {
                        "text/plain": [
                            "0.634"
                        ]
                    },
                    "execution_count": 46,
                    "metadata": {},
                    "output_type": "execute_result"
                }
            ],
            "source": [
                "(0.64*3+0.63+0.62)/5"
            ]
        },
        {
            "attachments": {},
            "cell_type": "markdown",
            "metadata": {},
            "source": [
                "# Plots"
            ]
        },
        {
            "cell_type": "code",
            "execution_count": 42,
            "metadata": {},
            "outputs": [
                {
                    "data": {
                        "image/png": "[encoded data removed]",
                        "text/plain": [
                            "<Figure size 350x260 with 1 Axes>"
                        ]
                    },
                    "metadata": {},
                    "output_type": "display_data"
                }
            ],
            "source": [
                "# Example input tensor\n",
                "input_tensor = results\n",
                "\n",
                "# Compute differences and means\n",
                "differences = input_tensor[:, 0] - input_tensor[:, 1]\n",
                "means = 0.5 * (input_tensor[:, 0] + input_tensor[:, 1])\n",
                "\n",
                "# Create the Bland-Altman plot\n",
                "plt.figure(figsize=(3.5, 2.6))\n",
                "plt.scatter(means, differences, c=colors[5], marker='o', s=20, alpha=0.6)\n",
                "plt.axhline(y=0, color='gray', linestyle='--')\n",
                "plt.ylim(-8, 8)\n",
                "#plt.title(\"Bland-Altman plot\")\n",
                "\n",
                "\n",
                "plt.xlabel(\"Real Binding Affinity Value\")\n",
                "plt.ylabel(\"Error Value\")\n",
                "plt.grid(True)\n",
                "\n",
                "plt.tight_layout()\n",
                "# plt.savefig('../../figures/figure_2.pdf', bbox_inches='tight')\n"
            ]
        },
        {
            "cell_type": "code",
            "execution_count": 16,
            "metadata": {},
            "outputs": [
                {
                    "data": {
                        "image/png": "[encoded data removed]",
                        "text/plain": [
                            "<Figure size 350x260 with 1 Axes>"
                        ]
                    },
                    "metadata": {},
                    "output_type": "display_data"
                }
            ],
            "source": [
                "residuals = input_tensor[:, 0] - input_tensor[:, 1]\n",
                "plt.figure(figsize=(3.5, 2.6))\n",
                "plt.hist(residuals, bins=20, color=colors[0], alpha=0.8)\n",
                "#plt.title(\"Histogram of Residuals\")\n",
                "plt.xlabel(\"Residuals\")\n",
                "plt.ylabel(\"Frequency\")\n",
                "plt.grid(True)\n",
                "\n",
                "# plt.savefig('../../figures/figure_3.pdf', bbox_inches='tight')"
            ]
        },
        {
            "cell_type": "code",
            "execution_count": 62,
            "metadata": {},
            "outputs": [
                {
                    "data": {
                        "text/plain": [
                            "<matplotlib.legend.Legend at 0x7f012c6ee320>"
                        ]
                    },
                    "execution_count": 62,
                    "metadata": {},
                    "output_type": "execute_result"
                },
                {
                    "data": {
                        "image/png": "[encoded data removed]",
                        "text/plain": [
                            "<Figure size 350x260 with 1 Axes>"
                        ]
                    },
                    "metadata": {},
                    "output_type": "display_data"
                }
            ],
            "source": [
                "plt.figure(figsize=(3.5, 2.6))\n",
                "plt.scatter(input_tensor[:, 1], input_tensor[:, 0], c=colors[2], marker='o', s=20, alpha=0.6)\n",
                "plt.plot([min(input_tensor[:, 1]), max(input_tensor[:, 1])], \n",
                "         [min(input_tensor[:, 1]), max(input_tensor[:, 1])], color=colors[7], linestyle='--', label='f(x) = x')\n",
                "#plt.title(\"Scatter Plot of Predicted vs. Real Values\")\n",
                "plt.xlabel(\"Real Values\")\n",
                "plt.ylabel(\"Predicted Values\")\n",
                "plt.legend()\n",
                "plt.grid(True)\n",
                "\n",
                "z = np.polyfit(input_tensor[:, 1], input_tensor[:, 0], 1)\n",
                "p = np.poly1d(z)\n",
                "plt.plot(input_tensor[:, 1], p(input_tensor[:, 1]),  color=colors[8], linestyle='--', label=f'f(x)= {z[0]:.2f}x + {z[1]:.2f}')\n",
                "plt.legend()\n",
                "\n",
                "# plt.savefig('../../figures/bestmodel5testset.pdf', bbox_inches='tight')"
            ]
        },
        {
            "cell_type": "code",
            "execution_count": null,
            "metadata": {},
            "outputs": [],
            "source": []
        }
    ],
    "metadata": {
        "kernelspec": {
            "display_name": ".venv",
            "language": "python",
            "name": "python3"
        },
        "language_info": {
            "codemirror_mode": {
                "name": "ipython",
                "version": 3
            },
            "file_extension": ".py",
            "mimetype": "text/x-python",
            "name": "python",
            "nbconvert_exporter": "python",
            "pygments_lexer": "ipython3",
            "version": "3.10.12"
        },
        "orig_nbformat": 4
    },
    "nbformat": 4,
    "nbformat_minor": 2
}
